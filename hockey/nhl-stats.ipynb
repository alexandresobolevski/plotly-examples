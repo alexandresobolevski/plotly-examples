{
 "cells": [
  {
   "cell_type": "code",
   "execution_count": 1,
   "metadata": {
    "collapsed": false
   },
   "source": [
    "import nhl"
   ],
   "outputs": []
  },
  {
   "cell_type": "code",
   "execution_count": 2,
   "metadata": {
    "collapsed": false
   },
   "source": [
    "help(nhl.skatersummary)"
   ],
   "outputs": [
    {
     "text": [
      "Help on function skatersummary in module nhl:\n",
      "\n",
      "skatersummary(season, gametype='regular')\n",
      "    Creates URL and query for skatersummary report\n",
      "\n"
     ],
     "name": "stdout",
     "output_type": "stream"
    }
   ]
  },
  {
   "cell_type": "code",
   "execution_count": 8,
   "metadata": {
    "collapsed": false
   },
   "source": [
    "import pandas as pd"
   ],
   "outputs": [
    {
     "text": [
      "//anaconda/lib/python2.7/site-packages/pandas/computation/__init__.py:19: UserWarning: The installed version of numexpr 2.4.4 is not supported in pandas and will be not be used\n",
      "\n",
      "  UserWarning)\n"
     ],
     "name": "stderr",
     "output_type": "stream"
    }
   ]
  },
  {
   "cell_type": "code",
   "execution_count": 27,
   "metadata": {
    "collapsed": false
   },
   "source": [
    "skaters = [skater for skater in nhl.skatersummary(\"20152016\")]"
   ],
   "outputs": []
  },
  {
   "cell_type": "code",
   "execution_count": 29,
   "metadata": {
    "collapsed": false
   },
   "source": [
    "len(skaters)"
   ],
   "outputs": [
    {
     "execution_count": 29,
     "data": {
      "text/plain": [
       "898"
      ]
     },
     "metadata": {},
     "output_type": "execute_result"
    }
   ]
  },
  {
   "cell_type": "code",
   "execution_count": 33,
   "metadata": {
    "collapsed": false
   },
   "source": [
    "df = pd.DataFrame(skaters)"
   ],
   "outputs": []
  },
  {
   "cell_type": "code",
   "execution_count": 39,
   "metadata": {
    "collapsed": false
   },
   "source": [
    "df.columns"
   ],
   "outputs": [
    {
     "execution_count": 39,
     "data": {
      "text/plain": [
       "Index([u'assists', u'faceoffWinPctg', u'gameWinningGoals', u'gamesPlayed',\n",
       "       u'goals', u'otGoals', u'penaltyMinutes', u'playerFirstName',\n",
       "       u'playerId', u'playerLastName', u'playerName', u'playerPositionCode',\n",
       "       u'playerTeamsPlayedFor', u'plusMinus', u'points', u'pointsPerGame',\n",
       "       u'ppGoals', u'ppPoints', u'seasonId', u'shGoals', u'shPoints',\n",
       "       u'shiftsPerGame', u'shootingPctg', u'shots', u'timeOnIcePerGame'],\n",
       "      dtype='object')"
      ]
     },
     "metadata": {},
     "output_type": "execute_result"
    }
   ]
  },
  {
   "cell_type": "code",
   "execution_count": 42,
   "metadata": {
    "collapsed": false
   },
   "source": [
    "df.head()"
   ],
   "outputs": [
    {
     "execution_count": 42,
     "data": {
      "text/plain": [
       "   assists  faceoffWinPctg  gameWinningGoals  gamesPlayed  goals  otGoals  \\\n",
       "0        6          0.0000                 0           38      1        0   \n",
       "1        1          0.2500                 0            3      0        0   \n",
       "2        1          0.0000                 0            6      0        0   \n",
       "3       50          0.4938                 5           77     13        1   \n",
       "4       16          0.0000                 0           72      3        0   \n",
       "\n",
       "   penaltyMinutes playerFirstName  playerId playerLastName        ...         \\\n",
       "0              49            Greg   8474688        Pateryn        ...          \n",
       "1               0            Ryan   8477451        Hartman        ...          \n",
       "2               2          Andrew   8474638       Campbell        ...          \n",
       "3              55            Ryan   8470612        Getzlaf        ...          \n",
       "4              18             Jay   8470151    Bouwmeester        ...          \n",
       "\n",
       "  pointsPerGame ppGoals ppPoints  seasonId  shGoals  shPoints  shiftsPerGame  \\\n",
       "0        0.1842       0        0  20152016        0         0        21.9210   \n",
       "1        0.3333       0        0  20152016        0         0        14.3333   \n",
       "2        0.1666       0        0  20152016        0         0        20.1666   \n",
       "3        0.8181       6       22  20152016        0         1        24.5324   \n",
       "4        0.2638       1        2  20152016        0         0        29.7361   \n",
       "\n",
       "   shootingPctg  shots  timeOnIcePerGame  \n",
       "0        0.0312     32         1004.9210  \n",
       "1        0.0000      3          554.3333  \n",
       "2        0.0000      1          695.0000  \n",
       "3        0.0730    178         1170.3506  \n",
       "4        0.0285    105         1386.8472  \n",
       "\n[5 rows x 25 columns]"
      ],
      "text/html": [
       "<div>\n",
       "<table border=\"1\" class=\"dataframe\">\n",
       "  <thead>\n",
       "    <tr style=\"text-align: right;\">\n",
       "      <th></th>\n",
       "      <th>assists</th>\n",
       "      <th>faceoffWinPctg</th>\n",
       "      <th>gameWinningGoals</th>\n",
       "      <th>gamesPlayed</th>\n",
       "      <th>goals</th>\n",
       "      <th>otGoals</th>\n",
       "      <th>penaltyMinutes</th>\n",
       "      <th>playerFirstName</th>\n",
       "      <th>playerId</th>\n",
       "      <th>playerLastName</th>\n",
       "      <th>...</th>\n",
       "      <th>pointsPerGame</th>\n",
       "      <th>ppGoals</th>\n",
       "      <th>ppPoints</th>\n",
       "      <th>seasonId</th>\n",
       "      <th>shGoals</th>\n",
       "      <th>shPoints</th>\n",
       "      <th>shiftsPerGame</th>\n",
       "      <th>shootingPctg</th>\n",
       "      <th>shots</th>\n",
       "      <th>timeOnIcePerGame</th>\n",
       "    </tr>\n",
       "  </thead>\n",
       "  <tbody>\n",
       "    <tr>\n",
       "      <th>0</th>\n",
       "      <td>6</td>\n",
       "      <td>0.0000</td>\n",
       "      <td>0</td>\n",
       "      <td>38</td>\n",
       "      <td>1</td>\n",
       "      <td>0</td>\n",
       "      <td>49</td>\n",
       "      <td>Greg</td>\n",
       "      <td>8474688</td>\n",
       "      <td>Pateryn</td>\n",
       "      <td>...</td>\n",
       "      <td>0.1842</td>\n",
       "      <td>0</td>\n",
       "      <td>0</td>\n",
       "      <td>20152016</td>\n",
       "      <td>0</td>\n",
       "      <td>0</td>\n",
       "      <td>21.9210</td>\n",
       "      <td>0.0312</td>\n",
       "      <td>32</td>\n",
       "      <td>1004.9210</td>\n",
       "    </tr>\n",
       "    <tr>\n",
       "      <th>1</th>\n",
       "      <td>1</td>\n",
       "      <td>0.2500</td>\n",
       "      <td>0</td>\n",
       "      <td>3</td>\n",
       "      <td>0</td>\n",
       "      <td>0</td>\n",
       "      <td>0</td>\n",
       "      <td>Ryan</td>\n",
       "      <td>8477451</td>\n",
       "      <td>Hartman</td>\n",
       "      <td>...</td>\n",
       "      <td>0.3333</td>\n",
       "      <td>0</td>\n",
       "      <td>0</td>\n",
       "      <td>20152016</td>\n",
       "      <td>0</td>\n",
       "      <td>0</td>\n",
       "      <td>14.3333</td>\n",
       "      <td>0.0000</td>\n",
       "      <td>3</td>\n",
       "      <td>554.3333</td>\n",
       "    </tr>\n",
       "    <tr>\n",
       "      <th>2</th>\n",
       "      <td>1</td>\n",
       "      <td>0.0000</td>\n",
       "      <td>0</td>\n",
       "      <td>6</td>\n",
       "      <td>0</td>\n",
       "      <td>0</td>\n",
       "      <td>2</td>\n",
       "      <td>Andrew</td>\n",
       "      <td>8474638</td>\n",
       "      <td>Campbell</td>\n",
       "      <td>...</td>\n",
       "      <td>0.1666</td>\n",
       "      <td>0</td>\n",
       "      <td>0</td>\n",
       "      <td>20152016</td>\n",
       "      <td>0</td>\n",
       "      <td>0</td>\n",
       "      <td>20.1666</td>\n",
       "      <td>0.0000</td>\n",
       "      <td>1</td>\n",
       "      <td>695.0000</td>\n",
       "    </tr>\n",
       "    <tr>\n",
       "      <th>3</th>\n",
       "      <td>50</td>\n",
       "      <td>0.4938</td>\n",
       "      <td>5</td>\n",
       "      <td>77</td>\n",
       "      <td>13</td>\n",
       "      <td>1</td>\n",
       "      <td>55</td>\n",
       "      <td>Ryan</td>\n",
       "      <td>8470612</td>\n",
       "      <td>Getzlaf</td>\n",
       "      <td>...</td>\n",
       "      <td>0.8181</td>\n",
       "      <td>6</td>\n",
       "      <td>22</td>\n",
       "      <td>20152016</td>\n",
       "      <td>0</td>\n",
       "      <td>1</td>\n",
       "      <td>24.5324</td>\n",
       "      <td>0.0730</td>\n",
       "      <td>178</td>\n",
       "      <td>1170.3506</td>\n",
       "    </tr>\n",
       "    <tr>\n",
       "      <th>4</th>\n",
       "      <td>16</td>\n",
       "      <td>0.0000</td>\n",
       "      <td>0</td>\n",
       "      <td>72</td>\n",
       "      <td>3</td>\n",
       "      <td>0</td>\n",
       "      <td>18</td>\n",
       "      <td>Jay</td>\n",
       "      <td>8470151</td>\n",
       "      <td>Bouwmeester</td>\n",
       "      <td>...</td>\n",
       "      <td>0.2638</td>\n",
       "      <td>1</td>\n",
       "      <td>2</td>\n",
       "      <td>20152016</td>\n",
       "      <td>0</td>\n",
       "      <td>0</td>\n",
       "      <td>29.7361</td>\n",
       "      <td>0.0285</td>\n",
       "      <td>105</td>\n",
       "      <td>1386.8472</td>\n",
       "    </tr>\n",
       "  </tbody>\n",
       "</table>\n",
       "<p>5 rows × 25 columns</p>\n",
       "</div>"
      ]
     },
     "metadata": {},
     "output_type": "execute_result"
    }
   ]
  },
  {
   "cell_type": "code",
   "execution_count": 48,
   "metadata": {
    "collapsed": false
   },
   "source": [
    "df['timeOnIcePerGame'].head()"
   ],
   "outputs": [
    {
     "execution_count": 48,
     "data": {
      "text/plain": [
       "0    1004.9210\n",
       "1     554.3333\n",
       "2     695.0000\n",
       "3    1170.3506\n",
       "4    1386.8472\n",
       "Name: timeOnIcePerGame, dtype: float64"
      ]
     },
     "metadata": {},
     "output_type": "execute_result"
    }
   ]
  },
  {
   "cell_type": "code",
   "execution_count": 59,
   "metadata": {
    "collapsed": false
   },
   "source": [
    "df['playerPositionCode'].head()"
   ],
   "outputs": [
    {
     "execution_count": 59,
     "data": {
      "text/plain": [
       "0    D\n",
       "1    R\n",
       "2    D\n",
       "3    C\n",
       "4    D\n",
       "Name: playerPositionCode, dtype: object"
      ]
     },
     "metadata": {},
     "output_type": "execute_result"
    }
   ]
  },
  {
   "cell_type": "code",
   "execution_count": 32,
   "metadata": {
    "collapsed": false
   },
   "source": [
    "import plotly.plotly as py\n",
    "import plotly.graph_objs as go"
   ],
   "outputs": []
  },
  {
   "cell_type": "code",
   "execution_count": 84,
   "metadata": {
    "collapsed": false
   },
   "source": [
    "hover_text = []\n",
    "for index, row in df.iterrows():\n",
    "    hover_text.append(('Name: {playerFirstName} {playerLastName}<br>'+\n",
    "                      'Plays for {team}' +\n",
    "                      'Position: {position}<br>'+\n",
    "                      '{goals} goals, {assists}, {points} points<br>'+\n",
    "                      'played in {games} games').format(playerFirstName=row['playerFirstName'],\n",
    "                                            playerLastName=row['playerLastName'],\n",
    "                                            position=row['playerPositionCode'],\n",
    "                                            goals=row['goals'],\n",
    "                                            assists=row['assists'],\n",
    "                                            points=row['points'],\n",
    "                                            games=row['gamesPlayed'],\n",
    "                                            team=row['playerTeamsPlayedFor'][0]))\n",
    "\ndf['text'] = hover_text"
   ],
   "outputs": []
  },
  {
   "cell_type": "code",
   "execution_count": 85,
   "metadata": {
    "collapsed": false
   },
   "source": [
    "df['text'].head()"
   ],
   "outputs": [
    {
     "execution_count": 85,
     "data": {
      "text/plain": [
       "0    Name: Greg Pateryn<br>Plays for MPosition: D<b...\n",
       "1    Name: Ryan Hartman<br>Plays for CPosition: R<b...\n",
       "2    Name: Andrew Campbell<br>Plays for TPosition: ...\n",
       "3    Name: Ryan Getzlaf<br>Plays for APosition: C<b...\n",
       "4    Name: Jay Bouwmeester<br>Plays for SPosition: ...\n",
       "Name: text, dtype: object"
      ]
     },
     "metadata": {},
     "output_type": "execute_result"
    }
   ]
  },
  {
   "cell_type": "code",
   "execution_count": 86,
   "metadata": {
    "collapsed": false
   },
   "source": [
    "def makeTrace(df,name):\n",
    "  return go.Scatter(\n",
    "    y=[ points/shifts for points, shifts in zip(df['points'], df['shiftsPerGame'])],\n",
    "    x=df['shiftsPerGame'],\n",
    "    mode='markers',\n",
    "    name=name,\n",
    "\ttext=df['text']\n",
    ")"
   ],
   "outputs": []
  },
  {
   "cell_type": "code",
   "execution_count": 90,
   "metadata": {
    "collapsed": false
   },
   "source": [
    "layout = go.Layout(\n",
    "    title='NHL Skaters productivity',\n",
    "    xaxis=dict(\n",
    "        title='Shifts per game',\n",
    "        gridcolor='rgb(255, 255, 255)',\n",
    "        zerolinewidth=0,\n",
    "    ),\n",
    "    yaxis=dict(\n",
    "        title='Productivity (points per shifts per game)',\n",
    "        gridcolor='rgb(255, 255, 255)',\n",
    "        zerolinewidth=0,\n",
    "    ),\n",
    "    paper_bgcolor='rgb(243, 243, 243)',\n",
    "    plot_bgcolor='rgb(243, 243, 243)',\n",
    "  \thovermode = 'closest'\n",
    ")\n"
   ],
   "outputs": []
  },
  {
   "cell_type": "code",
   "execution_count": 91,
   "metadata": {
    "collapsed": false
   },
   "source": [
    "positions = ['Defenceman', 'Right Wing', 'Center', 'Left Wing']\n",
    "data = [makeTrace(df[(df.playerPositionCode == code[0])], code) for code in positions]\n",
    "fig = go.Figure(data=data, layout=layout)\n",
    "py.iplot(fig, filename='nhl-stats')"
   ],
   "outputs": [
    {
     "execution_count": 91,
     "data": {
      "text/plain": [
       "<plotly.tools.PlotlyDisplay object>"
      ],
      "text/html": [
       "<iframe id=\"igraph\" scrolling=\"no\" style=\"border:none;\"seamless=\"seamless\" src=\"https://plot.ly/~alexandres/223.embed\" height=\"525px\" width=\"100%\"></iframe>"
      ]
     },
     "metadata": {},
     "output_type": "execute_result"
    }
   ]
  },
  {
   "cell_type": "code",
   "execution_count": null,
   "metadata": {
    "collapsed": false
   },
   "source": [],
   "outputs": []
  }
 ],
 "nbformat": 4,
 "nbformat_minor": 0,
 "metadata": {
  "kernelspec": {
   "name": "python2",
   "language": "python",
   "display_name": "Python 2"
  },
  "kernel_info": {
   "name": "python2"
  },
  "language_info": {
   "mimetype": "text/x-python",
   "nbconvert_exporter": "python",
   "name": "python",
   "pygments_lexer": "ipython2",
   "version": "2.7.12",
   "file_extension": ".py",
   "codemirror_mode": {
    "version": 2,
    "name": "ipython"
   }
  }
 }
}