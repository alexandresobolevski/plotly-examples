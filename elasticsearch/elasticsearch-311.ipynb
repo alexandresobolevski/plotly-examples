{
 "nbformat_minor": 0,
 "nbformat": 4,
 "cells": [
  {
   "source": [
    "from elasticsearch import Elasticsearch\n",
    "from elasticsearch_dsl import Search, Q"
   ],
   "cell_type": "code",
   "metadata": {
    "collapsed": false
   },
   "outputs": [],
   "execution_count": 7
  },
  {
   "cell_type": "code",
   "execution_count": 8,
   "metadata": {
    "collapsed": false
   },
   "source": [
    "# In your terminal, run elastic search with e.g. \n",
    "# \n",
    "# $ ~/Workstation/elasticsearch-2.4.1/bin/elasticsearch"
   ],
   "outputs": []
  },
  {
   "cell_type": "code",
   "execution_count": 9,
   "metadata": {
    "collapsed": false
   },
   "source": [
    "es = Elasticsearch()"
   ],
   "outputs": []
  },
  {
   "source": [
    "import pandas as pd"
   ],
   "cell_type": "code",
   "metadata": {
    "collapsed": false
   },
   "execution_count": 12,
   "outputs": []
  },
  {
   "source": [
    "df = pd.DataFrame(pd.read_excel(\"~/Workstation/databases/PlotlySurvey2017.xlsx\"))\n",
    "df.head()"
   ],
   "cell_type": "code",
   "metadata": {
    "collapsed": false
   },
   "execution_count": 13,
   "outputs": [
    {
     "execution_count": 13,
     "data": {
      "text/plain": [
       "                                  # How did you initially hear about Plotly?  \\\n",
       "0  5f96b0174e9b8fb8bf586c236eda9b92                      Another Plotly user   \n",
       "1  16bd7cac675f50440f8d15ea17d46f4b                            Online search   \n",
       "2  d5ebdd6b403d162aea2fddb979e79b49                                      NaN   \n",
       "3  a8e60bc8fa952835d4bb021f718d6ebd                         I don't remember   \n",
       "4  287388af594092476e9316d7bb15ca62                      Another Plotly user   \n",
       "\n",
       "             Other  Which of the below categories best describes you? Other.1  \\\n",
       "0              NaN  Natural Scientist (biologist, chemist, astrolo...     NaN   \n",
       "1              NaN                                     Data Scientist     NaN   \n",
       "2  I work for you!                                  Software Engineer     NaN   \n",
       "3              NaN             Graduate student or University student     NaN   \n",
       "4              NaN                                     Data Scientist     NaN   \n",
       "\n",
       "  Which of the following best describes the industry in which you are employed?  \\\n",
       "0                                    High Technology                              \n",
       "1                                         Healthcare                              \n",
       "2                                    High Technology                              \n",
       "3     Pharma, life sciences, & computational biology                              \n",
       "4                                                NaN                              \n",
       "\n",
       "    Other.2 Approximately how many employees work at your current company?  \\\n",
       "0       NaN                                            10 - 50               \n",
       "1       NaN                                            10 - 50               \n",
       "2       NaN                                            10 - 50               \n",
       "3       NaN                                                NaN               \n",
       "4  Internet                                            10 - 50               \n",
       "\n",
       "                                          Other.3  \\\n",
       "0                                             NaN   \n",
       "1                                             NaN   \n",
       "2                                             NaN   \n",
       "3  ~5 in my lab group, thousands in my university   \n",
       "4                                             NaN   \n",
       "\n",
       "  How often do you use Plotly?     ...      \\\n",
       "0                 Almost daily     ...       \n",
       "1                 Almost daily     ...       \n",
       "2                 Almost daily     ...       \n",
       "3                       Rarely     ...       \n",
       "4       A couple times a month     ...       \n",
       "\n",
       "  What prompted you to pay for Plotly?  \\\n",
       "0                      Its the dopest.   \n",
       "1                                  NaN   \n",
       "2                                  NaN   \n",
       "3                                  NaN   \n",
       "4                                  NaN   \n",
       "\n",
       "          What would motivate you to pay for Plotly?  \\\n",
       "0                            Make the graphs for me!   \n",
       "1                        If I didn't work at Plotly.   \n",
       "2                                If I was paid more!   \n",
       "3  If I could generate my base plots in R or pyth...   \n",
       "4  If we decide to use Plotly for a commercial pr...   \n",
       "\n",
       "  How would you rate your satisfaction with Plotly?  \\\n",
       "0                                                 7   \n",
       "1                                                10   \n",
       "2                                                10   \n",
       "3                                                 5   \n",
       "4                                                 8   \n",
       "\n",
       "  How likely are you to use Plotly a year from now?  \\\n",
       "0                                                10   \n",
       "1                                                10   \n",
       "2                                                10   \n",
       "3                                                 1   \n",
       "4                                                 9   \n",
       "\n",
       "  What features do you wish Plotly had or would improve? What is your age?  \\\n",
       "0                                   Streamline plots               18 - 29   \n",
       "1                              Plotly is perfection.               30 - 55   \n",
       "2           Our dev environment could use some love.               18 - 29   \n",
       "3  Honestly I don't really use it ever. Still col...               18 - 29   \n",
       "4                          I can't think of any now.               30 - 55   \n",
       "\n",
       "  Want free Plotly stickers? Enter your mailing address below and we'll send you some.  \\\n",
       "0                                                NaN                                     \n",
       "1                                    elle@plotly.com                                     \n",
       "2                                                NaN                                     \n",
       "3   4/6 Sarawia Street, Newmarket, Auckland, NZ 1052                                     \n",
       "4  Sebastian Castro\\nNZRS Ltd\\nLevel 11\\n80 Boulc...                                     \n",
       "\n",
       "      Start Date (UTC)    Submit Date (UTC)  Network ID  \n",
       "0  2016-09-20 20:36:02  2016-09-20 20:40:49  b8701d29cb  \n",
       "1  2016-09-20 20:40:12  2016-09-20 20:45:57  b8701d29cb  \n",
       "2  2016-09-20 21:19:02  2016-09-20 21:21:26  b8701d29cb  \n",
       "3  2016-09-20 23:01:04  2016-09-20 23:08:27  8ebb834f08  \n",
       "4  2016-09-20 23:04:53  2016-09-20 23:09:50  66038e8f7e  \n",
       "\n[5 rows x 38 columns]"
      ],
      "text/html": [
       "<div>\n",
       "<table border=\"1\" class=\"dataframe\">\n",
       "  <thead>\n",
       "    <tr style=\"text-align: right;\">\n",
       "      <th></th>\n",
       "      <th>#</th>\n",
       "      <th>How did you initially hear about Plotly?</th>\n",
       "      <th>Other</th>\n",
       "      <th>Which of the below categories best describes you?</th>\n",
       "      <th>Other.1</th>\n",
       "      <th>Which of the following best describes the industry in which you are employed?</th>\n",
       "      <th>Other.2</th>\n",
       "      <th>Approximately how many employees work at your current company?</th>\n",
       "      <th>Other.3</th>\n",
       "      <th>How often do you use Plotly?</th>\n",
       "      <th>...</th>\n",
       "      <th>What prompted you to pay for Plotly?</th>\n",
       "      <th>What would motivate you to pay for Plotly?</th>\n",
       "      <th>How would you rate your satisfaction with Plotly?</th>\n",
       "      <th>How likely are you to use Plotly a year from now?</th>\n",
       "      <th>What features do you wish Plotly had or would improve?</th>\n",
       "      <th>What is your age?</th>\n",
       "      <th>Want free Plotly stickers? Enter your mailing address below and we'll send you some.</th>\n",
       "      <th>Start Date (UTC)</th>\n",
       "      <th>Submit Date (UTC)</th>\n",
       "      <th>Network ID</th>\n",
       "    </tr>\n",
       "  </thead>\n",
       "  <tbody>\n",
       "    <tr>\n",
       "      <th>0</th>\n",
       "      <td>5f96b0174e9b8fb8bf586c236eda9b92</td>\n",
       "      <td>Another Plotly user</td>\n",
       "      <td>NaN</td>\n",
       "      <td>Natural Scientist (biologist, chemist, astrolo...</td>\n",
       "      <td>NaN</td>\n",
       "      <td>High Technology</td>\n",
       "      <td>NaN</td>\n",
       "      <td>10 - 50</td>\n",
       "      <td>NaN</td>\n",
       "      <td>Almost daily</td>\n",
       "      <td>...</td>\n",
       "      <td>Its the dopest.</td>\n",
       "      <td>Make the graphs for me!</td>\n",
       "      <td>7</td>\n",
       "      <td>10</td>\n",
       "      <td>Streamline plots</td>\n",
       "      <td>18 - 29</td>\n",
       "      <td>NaN</td>\n",
       "      <td>2016-09-20 20:36:02</td>\n",
       "      <td>2016-09-20 20:40:49</td>\n",
       "      <td>b8701d29cb</td>\n",
       "    </tr>\n",
       "    <tr>\n",
       "      <th>1</th>\n",
       "      <td>16bd7cac675f50440f8d15ea17d46f4b</td>\n",
       "      <td>Online search</td>\n",
       "      <td>NaN</td>\n",
       "      <td>Data Scientist</td>\n",
       "      <td>NaN</td>\n",
       "      <td>Healthcare</td>\n",
       "      <td>NaN</td>\n",
       "      <td>10 - 50</td>\n",
       "      <td>NaN</td>\n",
       "      <td>Almost daily</td>\n",
       "      <td>...</td>\n",
       "      <td>NaN</td>\n",
       "      <td>If I didn't work at Plotly.</td>\n",
       "      <td>10</td>\n",
       "      <td>10</td>\n",
       "      <td>Plotly is perfection.</td>\n",
       "      <td>30 - 55</td>\n",
       "      <td>elle@plotly.com</td>\n",
       "      <td>2016-09-20 20:40:12</td>\n",
       "      <td>2016-09-20 20:45:57</td>\n",
       "      <td>b8701d29cb</td>\n",
       "    </tr>\n",
       "    <tr>\n",
       "      <th>2</th>\n",
       "      <td>d5ebdd6b403d162aea2fddb979e79b49</td>\n",
       "      <td>NaN</td>\n",
       "      <td>I work for you!</td>\n",
       "      <td>Software Engineer</td>\n",
       "      <td>NaN</td>\n",
       "      <td>High Technology</td>\n",
       "      <td>NaN</td>\n",
       "      <td>10 - 50</td>\n",
       "      <td>NaN</td>\n",
       "      <td>Almost daily</td>\n",
       "      <td>...</td>\n",
       "      <td>NaN</td>\n",
       "      <td>If I was paid more!</td>\n",
       "      <td>10</td>\n",
       "      <td>10</td>\n",
       "      <td>Our dev environment could use some love.</td>\n",
       "      <td>18 - 29</td>\n",
       "      <td>NaN</td>\n",
       "      <td>2016-09-20 21:19:02</td>\n",
       "      <td>2016-09-20 21:21:26</td>\n",
       "      <td>b8701d29cb</td>\n",
       "    </tr>\n",
       "    <tr>\n",
       "      <th>3</th>\n",
       "      <td>a8e60bc8fa952835d4bb021f718d6ebd</td>\n",
       "      <td>I don't remember</td>\n",
       "      <td>NaN</td>\n",
       "      <td>Graduate student or University student</td>\n",
       "      <td>NaN</td>\n",
       "      <td>Pharma, life sciences, &amp; computational biology</td>\n",
       "      <td>NaN</td>\n",
       "      <td>NaN</td>\n",
       "      <td>~5 in my lab group, thousands in my university</td>\n",
       "      <td>Rarely</td>\n",
       "      <td>...</td>\n",
       "      <td>NaN</td>\n",
       "      <td>If I could generate my base plots in R or pyth...</td>\n",
       "      <td>5</td>\n",
       "      <td>1</td>\n",
       "      <td>Honestly I don't really use it ever. Still col...</td>\n",
       "      <td>18 - 29</td>\n",
       "      <td>4/6 Sarawia Street, Newmarket, Auckland, NZ 1052</td>\n",
       "      <td>2016-09-20 23:01:04</td>\n",
       "      <td>2016-09-20 23:08:27</td>\n",
       "      <td>8ebb834f08</td>\n",
       "    </tr>\n",
       "    <tr>\n",
       "      <th>4</th>\n",
       "      <td>287388af594092476e9316d7bb15ca62</td>\n",
       "      <td>Another Plotly user</td>\n",
       "      <td>NaN</td>\n",
       "      <td>Data Scientist</td>\n",
       "      <td>NaN</td>\n",
       "      <td>NaN</td>\n",
       "      <td>Internet</td>\n",
       "      <td>10 - 50</td>\n",
       "      <td>NaN</td>\n",
       "      <td>A couple times a month</td>\n",
       "      <td>...</td>\n",
       "      <td>NaN</td>\n",
       "      <td>If we decide to use Plotly for a commercial pr...</td>\n",
       "      <td>8</td>\n",
       "      <td>9</td>\n",
       "      <td>I can't think of any now.</td>\n",
       "      <td>30 - 55</td>\n",
       "      <td>Sebastian Castro\\nNZRS Ltd\\nLevel 11\\n80 Boulc...</td>\n",
       "      <td>2016-09-20 23:04:53</td>\n",
       "      <td>2016-09-20 23:09:50</td>\n",
       "      <td>66038e8f7e</td>\n",
       "    </tr>\n",
       "  </tbody>\n",
       "</table>\n",
       "<p>5 rows × 38 columns</p>\n",
       "</div>"
      ]
     },
     "metadata": {},
     "output_type": "execute_result"
    }
   ]
  },
  {
   "source": [
    "# help(es.indices.create)"
   ],
   "cell_type": "code",
   "metadata": {
    "collapsed": false
   },
   "execution_count": 14,
   "outputs": []
  },
  {
   "source": [
    "es.indices.create(index='surveys')"
   ],
   "cell_type": "code",
   "metadata": {
    "collapsed": false
   },
   "execution_count": 17,
   "outputs": [
    {
     "text": [
      "WARNING:elasticsearch:PUT /surveys [status:400 request:0.115s]\n"
     ],
     "name": "stderr",
     "output_type": "stream"
    },
    {
     "ename": "RequestError",
     "evalue": "TransportError(400, u'index_already_exists_exception', u'already exists')",
     "traceback": [
      "\u001b[0;31m---------------------------------------------------------------------------\u001b[0m",
      "\u001b[0;31mRequestError\u001b[0m                              Traceback (most recent call last)",
      "\u001b[0;32m<ipython-input-17-522e504300e8>\u001b[0m in \u001b[0;36m<module>\u001b[0;34m()\u001b[0m\n\u001b[0;32m----> 1\u001b[0;31m \u001b[0mes\u001b[0m\u001b[0;34m.\u001b[0m\u001b[0mindices\u001b[0m\u001b[0;34m.\u001b[0m\u001b[0mcreate\u001b[0m\u001b[0;34m(\u001b[0m\u001b[0mindex\u001b[0m\u001b[0;34m=\u001b[0m\u001b[0;34m'surveys'\u001b[0m\u001b[0;34m)\u001b[0m\u001b[0;34m\u001b[0m\u001b[0m\n\u001b[0m",
      "\u001b[0;32m//anaconda/lib/python2.7/site-packages/elasticsearch/client/utils.pyc\u001b[0m in \u001b[0;36m_wrapped\u001b[0;34m(*args, **kwargs)\u001b[0m\n\u001b[1;32m     67\u001b[0m                 \u001b[0;32mif\u001b[0m \u001b[0mp\u001b[0m \u001b[0;32min\u001b[0m \u001b[0mkwargs\u001b[0m\u001b[0;34m:\u001b[0m\u001b[0;34m\u001b[0m\u001b[0m\n\u001b[1;32m     68\u001b[0m                     \u001b[0mparams\u001b[0m\u001b[0;34m[\u001b[0m\u001b[0mp\u001b[0m\u001b[0;34m]\u001b[0m \u001b[0;34m=\u001b[0m \u001b[0mkwargs\u001b[0m\u001b[0;34m.\u001b[0m\u001b[0mpop\u001b[0m\u001b[0;34m(\u001b[0m\u001b[0mp\u001b[0m\u001b[0;34m)\u001b[0m\u001b[0;34m\u001b[0m\u001b[0m\n\u001b[0;32m---> 69\u001b[0;31m             \u001b[0;32mreturn\u001b[0m \u001b[0mfunc\u001b[0m\u001b[0;34m(\u001b[0m\u001b[0;34m*\u001b[0m\u001b[0margs\u001b[0m\u001b[0;34m,\u001b[0m \u001b[0mparams\u001b[0m\u001b[0;34m=\u001b[0m\u001b[0mparams\u001b[0m\u001b[0;34m,\u001b[0m \u001b[0;34m**\u001b[0m\u001b[0mkwargs\u001b[0m\u001b[0;34m)\u001b[0m\u001b[0;34m\u001b[0m\u001b[0m\n\u001b[0m\u001b[1;32m     70\u001b[0m         \u001b[0;32mreturn\u001b[0m \u001b[0m_wrapped\u001b[0m\u001b[0;34m\u001b[0m\u001b[0m\n\u001b[1;32m     71\u001b[0m     \u001b[0;32mreturn\u001b[0m \u001b[0m_wrapper\u001b[0m\u001b[0;34m\u001b[0m\u001b[0m\n",
      "\u001b[0;32m//anaconda/lib/python2.7/site-packages/elasticsearch/client/indices.pyc\u001b[0m in \u001b[0;36mcreate\u001b[0;34m(self, index, body, params)\u001b[0m\n\u001b[1;32m    108\u001b[0m             \u001b[0;32mraise\u001b[0m \u001b[0mValueError\u001b[0m\u001b[0;34m(\u001b[0m\u001b[0;34m\"Empty value passed for a required argument 'index'.\"\u001b[0m\u001b[0;34m)\u001b[0m\u001b[0;34m\u001b[0m\u001b[0m\n\u001b[1;32m    109\u001b[0m         return self.transport.perform_request('PUT', _make_path(index),\n\u001b[0;32m--> 110\u001b[0;31m             params=params, body=body)\n\u001b[0m\u001b[1;32m    111\u001b[0m \u001b[0;34m\u001b[0m\u001b[0m\n\u001b[1;32m    112\u001b[0m     @query_params('allow_no_indices', 'expand_wildcards', 'flat_settings',\n",
      "\u001b[0;32m//anaconda/lib/python2.7/site-packages/elasticsearch/transport.pyc\u001b[0m in \u001b[0;36mperform_request\u001b[0;34m(self, method, url, params, body)\u001b[0m\n\u001b[1;32m    325\u001b[0m \u001b[0;34m\u001b[0m\u001b[0m\n\u001b[1;32m    326\u001b[0m             \u001b[0;32mtry\u001b[0m\u001b[0;34m:\u001b[0m\u001b[0;34m\u001b[0m\u001b[0m\n\u001b[0;32m--> 327\u001b[0;31m                 \u001b[0mstatus\u001b[0m\u001b[0;34m,\u001b[0m \u001b[0mheaders\u001b[0m\u001b[0;34m,\u001b[0m \u001b[0mdata\u001b[0m \u001b[0;34m=\u001b[0m \u001b[0mconnection\u001b[0m\u001b[0;34m.\u001b[0m\u001b[0mperform_request\u001b[0m\u001b[0;34m(\u001b[0m\u001b[0mmethod\u001b[0m\u001b[0;34m,\u001b[0m \u001b[0murl\u001b[0m\u001b[0;34m,\u001b[0m \u001b[0mparams\u001b[0m\u001b[0;34m,\u001b[0m \u001b[0mbody\u001b[0m\u001b[0;34m,\u001b[0m \u001b[0mignore\u001b[0m\u001b[0;34m=\u001b[0m\u001b[0mignore\u001b[0m\u001b[0;34m,\u001b[0m \u001b[0mtimeout\u001b[0m\u001b[0;34m=\u001b[0m\u001b[0mtimeout\u001b[0m\u001b[0;34m)\u001b[0m\u001b[0;34m\u001b[0m\u001b[0m\n\u001b[0m\u001b[1;32m    328\u001b[0m \u001b[0;34m\u001b[0m\u001b[0m\n\u001b[1;32m    329\u001b[0m             \u001b[0;32mexcept\u001b[0m \u001b[0mTransportError\u001b[0m \u001b[0;32mas\u001b[0m \u001b[0me\u001b[0m\u001b[0;34m:\u001b[0m\u001b[0;34m\u001b[0m\u001b[0m\n",
      "\u001b[0;32m//anaconda/lib/python2.7/site-packages/elasticsearch/connection/http_urllib3.pyc\u001b[0m in \u001b[0;36mperform_request\u001b[0;34m(self, method, url, params, body, timeout, ignore)\u001b[0m\n\u001b[1;32m    107\u001b[0m         \u001b[0;32mif\u001b[0m \u001b[0;32mnot\u001b[0m \u001b[0;34m(\u001b[0m\u001b[0;36m200\u001b[0m \u001b[0;34m<=\u001b[0m \u001b[0mresponse\u001b[0m\u001b[0;34m.\u001b[0m\u001b[0mstatus\u001b[0m \u001b[0;34m<\u001b[0m \u001b[0;36m300\u001b[0m\u001b[0;34m)\u001b[0m \u001b[0;32mand\u001b[0m \u001b[0mresponse\u001b[0m\u001b[0;34m.\u001b[0m\u001b[0mstatus\u001b[0m \u001b[0;32mnot\u001b[0m \u001b[0;32min\u001b[0m \u001b[0mignore\u001b[0m\u001b[0;34m:\u001b[0m\u001b[0;34m\u001b[0m\u001b[0m\n\u001b[1;32m    108\u001b[0m             \u001b[0mself\u001b[0m\u001b[0;34m.\u001b[0m\u001b[0mlog_request_fail\u001b[0m\u001b[0;34m(\u001b[0m\u001b[0mmethod\u001b[0m\u001b[0;34m,\u001b[0m \u001b[0murl\u001b[0m\u001b[0;34m,\u001b[0m \u001b[0mbody\u001b[0m\u001b[0;34m,\u001b[0m \u001b[0mduration\u001b[0m\u001b[0;34m,\u001b[0m \u001b[0mresponse\u001b[0m\u001b[0;34m.\u001b[0m\u001b[0mstatus\u001b[0m\u001b[0;34m,\u001b[0m \u001b[0mraw_data\u001b[0m\u001b[0;34m)\u001b[0m\u001b[0;34m\u001b[0m\u001b[0m\n\u001b[0;32m--> 109\u001b[0;31m             \u001b[0mself\u001b[0m\u001b[0;34m.\u001b[0m\u001b[0m_raise_error\u001b[0m\u001b[0;34m(\u001b[0m\u001b[0mresponse\u001b[0m\u001b[0;34m.\u001b[0m\u001b[0mstatus\u001b[0m\u001b[0;34m,\u001b[0m \u001b[0mraw_data\u001b[0m\u001b[0;34m)\u001b[0m\u001b[0;34m\u001b[0m\u001b[0m\n\u001b[0m\u001b[1;32m    110\u001b[0m \u001b[0;34m\u001b[0m\u001b[0m\n\u001b[1;32m    111\u001b[0m         self.log_request_success(method, full_url, url, body, response.status,\n",
      "\u001b[0;32m//anaconda/lib/python2.7/site-packages/elasticsearch/connection/base.pyc\u001b[0m in \u001b[0;36m_raise_error\u001b[0;34m(self, status_code, raw_data)\u001b[0m\n\u001b[1;32m    111\u001b[0m             \u001b[0mlogger\u001b[0m\u001b[0;34m.\u001b[0m\u001b[0mwarning\u001b[0m\u001b[0;34m(\u001b[0m\u001b[0;34m'Undecodable raw error response from server: %s'\u001b[0m\u001b[0;34m,\u001b[0m \u001b[0merr\u001b[0m\u001b[0;34m)\u001b[0m\u001b[0;34m\u001b[0m\u001b[0m\n\u001b[1;32m    112\u001b[0m \u001b[0;34m\u001b[0m\u001b[0m\n\u001b[0;32m--> 113\u001b[0;31m         \u001b[0;32mraise\u001b[0m \u001b[0mHTTP_EXCEPTIONS\u001b[0m\u001b[0;34m.\u001b[0m\u001b[0mget\u001b[0m\u001b[0;34m(\u001b[0m\u001b[0mstatus_code\u001b[0m\u001b[0;34m,\u001b[0m \u001b[0mTransportError\u001b[0m\u001b[0;34m)\u001b[0m\u001b[0;34m(\u001b[0m\u001b[0mstatus_code\u001b[0m\u001b[0;34m,\u001b[0m \u001b[0merror_message\u001b[0m\u001b[0;34m,\u001b[0m \u001b[0madditional_info\u001b[0m\u001b[0;34m)\u001b[0m\u001b[0;34m\u001b[0m\u001b[0m\n\u001b[0m\u001b[1;32m    114\u001b[0m \u001b[0;34m\u001b[0m\u001b[0m\n\u001b[1;32m    115\u001b[0m \u001b[0;34m\u001b[0m\u001b[0m\n",
      "\u001b[0;31mRequestError\u001b[0m: TransportError(400, u'index_already_exists_exception', u'already exists')"
     ],
     "output_type": "error"
    }
   ]
  },
  {
   "source": [
    "df = df.where(pd.notnull(df), None)"
   ],
   "cell_type": "code",
   "metadata": {
    "collapsed": false
   },
   "execution_count": 5,
   "outputs": [
    {
     "ename": "NameError",
     "evalue": "name 'df' is not defined",
     "traceback": [
      "\u001b[0;31m---------------------------------------------------------------------------\u001b[0m",
      "\u001b[0;31mNameError\u001b[0m                                 Traceback (most recent call last)",
      "\u001b[0;32m<ipython-input-5-6bc3de80060e>\u001b[0m in \u001b[0;36m<module>\u001b[0;34m()\u001b[0m\n\u001b[0;32m----> 1\u001b[0;31m \u001b[0mdf\u001b[0m \u001b[0;34m=\u001b[0m \u001b[0mdf\u001b[0m\u001b[0;34m.\u001b[0m\u001b[0mwhere\u001b[0m\u001b[0;34m(\u001b[0m\u001b[0mpd\u001b[0m\u001b[0;34m.\u001b[0m\u001b[0mnotnull\u001b[0m\u001b[0;34m(\u001b[0m\u001b[0mdf\u001b[0m\u001b[0;34m)\u001b[0m\u001b[0;34m,\u001b[0m \u001b[0mNone\u001b[0m\u001b[0;34m)\u001b[0m\u001b[0;34m\u001b[0m\u001b[0m\n\u001b[0m",
      "\u001b[0;31mNameError\u001b[0m: name 'df' is not defined"
     ],
     "output_type": "error"
    }
   ]
  },
  {
   "cell_type": "code",
   "execution_count": 47,
   "metadata": {
    "collapsed": false
   },
   "source": [
    "co = [column.replace('.', '') for column in list(df.columns.values)]\n",
    "df.columns = co\n",
    "df.head()"
   ],
   "outputs": [
    {
     "execution_count": 47,
     "data": {
      "text/plain": [
       "                                  # How did you initially hear about Plotly?  \\\n",
       "0  5f96b0174e9b8fb8bf586c236eda9b92                      Another Plotly user   \n",
       "1  16bd7cac675f50440f8d15ea17d46f4b                            Online search   \n",
       "2  d5ebdd6b403d162aea2fddb979e79b49                                     None   \n",
       "3  a8e60bc8fa952835d4bb021f718d6ebd                         I don't remember   \n",
       "4  287388af594092476e9316d7bb15ca62                      Another Plotly user   \n",
       "\n",
       "             Other  Which of the below categories best describes you? Other1  \\\n",
       "0             None  Natural Scientist (biologist, chemist, astrolo...   None   \n",
       "1             None                                     Data Scientist   None   \n",
       "2  I work for you!                                  Software Engineer   None   \n",
       "3             None             Graduate student or University student   None   \n",
       "4             None                                     Data Scientist   None   \n",
       "\n",
       "  Which of the following best describes the industry in which you are employed?  \\\n",
       "0                                    High Technology                              \n",
       "1                                         Healthcare                              \n",
       "2                                    High Technology                              \n",
       "3     Pharma, life sciences, & computational biology                              \n",
       "4                                               None                              \n",
       "\n",
       "     Other2 Approximately how many employees work at your current company?  \\\n",
       "0      None                                            10 - 50               \n",
       "1      None                                            10 - 50               \n",
       "2      None                                            10 - 50               \n",
       "3      None                                               None               \n",
       "4  Internet                                            10 - 50               \n",
       "\n",
       "                                           Other3  \\\n",
       "0                                            None   \n",
       "1                                            None   \n",
       "2                                            None   \n",
       "3  ~5 in my lab group, thousands in my university   \n",
       "4                                            None   \n",
       "\n",
       "  How often do you use Plotly?     ...      \\\n",
       "0                 Almost daily     ...       \n",
       "1                 Almost daily     ...       \n",
       "2                 Almost daily     ...       \n",
       "3                       Rarely     ...       \n",
       "4       A couple times a month     ...       \n",
       "\n",
       "  What prompted you to pay for Plotly?  \\\n",
       "0                      Its the dopest.   \n",
       "1                                 None   \n",
       "2                                 None   \n",
       "3                                 None   \n",
       "4                                 None   \n",
       "\n",
       "          What would motivate you to pay for Plotly?  \\\n",
       "0                            Make the graphs for me!   \n",
       "1                        If I didn't work at Plotly.   \n",
       "2                                If I was paid more!   \n",
       "3  If I could generate my base plots in R or pyth...   \n",
       "4  If we decide to use Plotly for a commercial pr...   \n",
       "\n",
       "  How would you rate your satisfaction with Plotly?  \\\n",
       "0                                                 7   \n",
       "1                                                10   \n",
       "2                                                10   \n",
       "3                                                 5   \n",
       "4                                                 8   \n",
       "\n",
       "  How likely are you to use Plotly a year from now?  \\\n",
       "0                                                10   \n",
       "1                                                10   \n",
       "2                                                10   \n",
       "3                                                 1   \n",
       "4                                                 9   \n",
       "\n",
       "  What features do you wish Plotly had or would improve? What is your age?  \\\n",
       "0                                   Streamline plots               18 - 29   \n",
       "1                              Plotly is perfection.               30 - 55   \n",
       "2           Our dev environment could use some love.               18 - 29   \n",
       "3  Honestly I don't really use it ever. Still col...               18 - 29   \n",
       "4                          I can't think of any now.               30 - 55   \n",
       "\n",
       "  Want free Plotly stickers? Enter your mailing address below and we'll send you some  \\\n",
       "0                                               None                                    \n",
       "1                                    elle@plotly.com                                    \n",
       "2                                               None                                    \n",
       "3   4/6 Sarawia Street, Newmarket, Auckland, NZ 1052                                    \n",
       "4  Sebastian Castro\\nNZRS Ltd\\nLevel 11\\n80 Boulc...                                    \n",
       "\n",
       "      Start Date (UTC)    Submit Date (UTC)  Network ID  \n",
       "0  2016-09-20 20:36:02  2016-09-20 20:40:49  b8701d29cb  \n",
       "1  2016-09-20 20:40:12  2016-09-20 20:45:57  b8701d29cb  \n",
       "2  2016-09-20 21:19:02  2016-09-20 21:21:26  b8701d29cb  \n",
       "3  2016-09-20 23:01:04  2016-09-20 23:08:27  8ebb834f08  \n",
       "4  2016-09-20 23:04:53  2016-09-20 23:09:50  66038e8f7e  \n",
       "\n[5 rows x 38 columns]"
      ],
      "text/html": [
       "<div>\n",
       "<table border=\"1\" class=\"dataframe\">\n",
       "  <thead>\n",
       "    <tr style=\"text-align: right;\">\n",
       "      <th></th>\n",
       "      <th>#</th>\n",
       "      <th>How did you initially hear about Plotly?</th>\n",
       "      <th>Other</th>\n",
       "      <th>Which of the below categories best describes you?</th>\n",
       "      <th>Other1</th>\n",
       "      <th>Which of the following best describes the industry in which you are employed?</th>\n",
       "      <th>Other2</th>\n",
       "      <th>Approximately how many employees work at your current company?</th>\n",
       "      <th>Other3</th>\n",
       "      <th>How often do you use Plotly?</th>\n",
       "      <th>...</th>\n",
       "      <th>What prompted you to pay for Plotly?</th>\n",
       "      <th>What would motivate you to pay for Plotly?</th>\n",
       "      <th>How would you rate your satisfaction with Plotly?</th>\n",
       "      <th>How likely are you to use Plotly a year from now?</th>\n",
       "      <th>What features do you wish Plotly had or would improve?</th>\n",
       "      <th>What is your age?</th>\n",
       "      <th>Want free Plotly stickers? Enter your mailing address below and we'll send you some</th>\n",
       "      <th>Start Date (UTC)</th>\n",
       "      <th>Submit Date (UTC)</th>\n",
       "      <th>Network ID</th>\n",
       "    </tr>\n",
       "  </thead>\n",
       "  <tbody>\n",
       "    <tr>\n",
       "      <th>0</th>\n",
       "      <td>5f96b0174e9b8fb8bf586c236eda9b92</td>\n",
       "      <td>Another Plotly user</td>\n",
       "      <td>None</td>\n",
       "      <td>Natural Scientist (biologist, chemist, astrolo...</td>\n",
       "      <td>None</td>\n",
       "      <td>High Technology</td>\n",
       "      <td>None</td>\n",
       "      <td>10 - 50</td>\n",
       "      <td>None</td>\n",
       "      <td>Almost daily</td>\n",
       "      <td>...</td>\n",
       "      <td>Its the dopest.</td>\n",
       "      <td>Make the graphs for me!</td>\n",
       "      <td>7</td>\n",
       "      <td>10</td>\n",
       "      <td>Streamline plots</td>\n",
       "      <td>18 - 29</td>\n",
       "      <td>None</td>\n",
       "      <td>2016-09-20 20:36:02</td>\n",
       "      <td>2016-09-20 20:40:49</td>\n",
       "      <td>b8701d29cb</td>\n",
       "    </tr>\n",
       "    <tr>\n",
       "      <th>1</th>\n",
       "      <td>16bd7cac675f50440f8d15ea17d46f4b</td>\n",
       "      <td>Online search</td>\n",
       "      <td>None</td>\n",
       "      <td>Data Scientist</td>\n",
       "      <td>None</td>\n",
       "      <td>Healthcare</td>\n",
       "      <td>None</td>\n",
       "      <td>10 - 50</td>\n",
       "      <td>None</td>\n",
       "      <td>Almost daily</td>\n",
       "      <td>...</td>\n",
       "      <td>None</td>\n",
       "      <td>If I didn't work at Plotly.</td>\n",
       "      <td>10</td>\n",
       "      <td>10</td>\n",
       "      <td>Plotly is perfection.</td>\n",
       "      <td>30 - 55</td>\n",
       "      <td>elle@plotly.com</td>\n",
       "      <td>2016-09-20 20:40:12</td>\n",
       "      <td>2016-09-20 20:45:57</td>\n",
       "      <td>b8701d29cb</td>\n",
       "    </tr>\n",
       "    <tr>\n",
       "      <th>2</th>\n",
       "      <td>d5ebdd6b403d162aea2fddb979e79b49</td>\n",
       "      <td>None</td>\n",
       "      <td>I work for you!</td>\n",
       "      <td>Software Engineer</td>\n",
       "      <td>None</td>\n",
       "      <td>High Technology</td>\n",
       "      <td>None</td>\n",
       "      <td>10 - 50</td>\n",
       "      <td>None</td>\n",
       "      <td>Almost daily</td>\n",
       "      <td>...</td>\n",
       "      <td>None</td>\n",
       "      <td>If I was paid more!</td>\n",
       "      <td>10</td>\n",
       "      <td>10</td>\n",
       "      <td>Our dev environment could use some love.</td>\n",
       "      <td>18 - 29</td>\n",
       "      <td>None</td>\n",
       "      <td>2016-09-20 21:19:02</td>\n",
       "      <td>2016-09-20 21:21:26</td>\n",
       "      <td>b8701d29cb</td>\n",
       "    </tr>\n",
       "    <tr>\n",
       "      <th>3</th>\n",
       "      <td>a8e60bc8fa952835d4bb021f718d6ebd</td>\n",
       "      <td>I don't remember</td>\n",
       "      <td>None</td>\n",
       "      <td>Graduate student or University student</td>\n",
       "      <td>None</td>\n",
       "      <td>Pharma, life sciences, &amp; computational biology</td>\n",
       "      <td>None</td>\n",
       "      <td>None</td>\n",
       "      <td>~5 in my lab group, thousands in my university</td>\n",
       "      <td>Rarely</td>\n",
       "      <td>...</td>\n",
       "      <td>None</td>\n",
       "      <td>If I could generate my base plots in R or pyth...</td>\n",
       "      <td>5</td>\n",
       "      <td>1</td>\n",
       "      <td>Honestly I don't really use it ever. Still col...</td>\n",
       "      <td>18 - 29</td>\n",
       "      <td>4/6 Sarawia Street, Newmarket, Auckland, NZ 1052</td>\n",
       "      <td>2016-09-20 23:01:04</td>\n",
       "      <td>2016-09-20 23:08:27</td>\n",
       "      <td>8ebb834f08</td>\n",
       "    </tr>\n",
       "    <tr>\n",
       "      <th>4</th>\n",
       "      <td>287388af594092476e9316d7bb15ca62</td>\n",
       "      <td>Another Plotly user</td>\n",
       "      <td>None</td>\n",
       "      <td>Data Scientist</td>\n",
       "      <td>None</td>\n",
       "      <td>None</td>\n",
       "      <td>Internet</td>\n",
       "      <td>10 - 50</td>\n",
       "      <td>None</td>\n",
       "      <td>A couple times a month</td>\n",
       "      <td>...</td>\n",
       "      <td>None</td>\n",
       "      <td>If we decide to use Plotly for a commercial pr...</td>\n",
       "      <td>8</td>\n",
       "      <td>9</td>\n",
       "      <td>I can't think of any now.</td>\n",
       "      <td>30 - 55</td>\n",
       "      <td>Sebastian Castro\\nNZRS Ltd\\nLevel 11\\n80 Boulc...</td>\n",
       "      <td>2016-09-20 23:04:53</td>\n",
       "      <td>2016-09-20 23:09:50</td>\n",
       "      <td>66038e8f7e</td>\n",
       "    </tr>\n",
       "  </tbody>\n",
       "</table>\n",
       "<p>5 rows × 38 columns</p>\n",
       "</div>"
      ]
     },
     "metadata": {},
     "output_type": "execute_result",
     "text": []
    }
   ]
  },
  {
   "cell_type": "code",
   "execution_count": 3,
   "metadata": {
    "collapsed": false
   },
   "source": [
    "# help(es.index)"
   ],
   "outputs": []
  },
  {
   "cell_type": "code",
   "execution_count": 1,
   "metadata": {
    "collapsed": false
   },
   "source": [
    "# help(df.iloc)"
   ],
   "outputs": []
  },
  {
   "source": [
    "client.index(\n",
    "\tindex='surveys',\n",
    "  \tdoc_type='plotly-2017',\n",
    "  \tbody=df.iloc[0].to_dict(),\n",
    "  \tid=1\n",
    ")"
   ],
   "cell_type": "code",
   "metadata": {
    "collapsed": false
   },
   "execution_count": 48,
   "outputs": [
    {
     "execution_count": 48,
     "data": {
      "text/plain": [
       "{u'_id': u'1',\n",
       " u'_index': u'surveys',\n",
       " u'_shards': {u'failed': 0, u'successful': 2, u'total': 2},\n",
       " u'_type': u'plotly-2017',\n",
       " u'_version': 1,\n",
       " u'created': True}"
      ]
     },
     "metadata": {},
     "output_type": "execute_result",
     "text": []
    }
   ]
  },
  {
   "source": [
    "len(df)"
   ],
   "cell_type": "code",
   "metadata": {
    "collapsed": false
   },
   "execution_count": 19,
   "outputs": [
    {
     "execution_count": 19,
     "data": {
      "text/plain": [
       "2732"
      ]
     },
     "metadata": {},
     "output_type": "execute_result",
     "text": []
    }
   ]
  },
  {
   "source": [
    "# help(client.bulk)"
   ],
   "cell_type": "code",
   "metadata": {
    "collapsed": false
   },
   "execution_count": 2,
   "outputs": []
  },
  {
   "source": [
    "bulk = []\n",
    "for row in range(len(df)):\n",
    "\tbulk.append({'index': {'_index': 'surveys', '_type': 'plotly-2017', '_id': str(i)}})\n",
    "\tbulk.append(df.iloc[i].to_dict())"
   ],
   "cell_type": "code",
   "metadata": {
    "collapsed": false
   },
   "execution_count": 49,
   "outputs": []
  },
  {
   "source": [
    "response = es.bulk(bulk, request_timeout=600)"
   ],
   "cell_type": "code",
   "metadata": {
    "collapsed": false
   },
   "execution_count": 50,
   "outputs": []
  },
  {
   "source": [
    "response.keys()"
   ],
   "cell_type": "code",
   "metadata": {
    "collapsed": false
   },
   "execution_count": 51,
   "outputs": [
    {
     "execution_count": 51,
     "data": {
      "text/plain": [
       "[u'items', u'errors', u'took']"
      ]
     },
     "metadata": {},
     "output_type": "execute_result",
     "text": []
    }
   ]
  },
  {
   "cell_type": "code",
   "execution_count": 58,
   "metadata": {
    "collapsed": false
   },
   "source": [
    "response['errors']"
   ],
   "outputs": [
    {
     "execution_count": 58,
     "data": {
      "text/plain": [
       "False"
      ]
     },
     "metadata": {},
     "output_type": "execute_result",
     "text": []
    }
   ]
  },
  {
   "cell_type": "markdown",
   "execution_count": 22,
   "metadata": {
    "collapsed": false
   },
   "source": [
    "```\n",
    "search(*args, **kwargs) method of elasticsearch.client.Elasticsearch instance\n",
    "    Execute a search query and get back search hits that match the query.\n",
    "    `<http://www.elastic.co/guide/en/elasticsearch/reference/current/search-search.html>`_\n",
    "    \n",
    "    :arg index: A comma-separated list of index names to search; use `_all`\n",
    "        or empty string to perform the operation on all indices\n",
    "    :arg doc_type: A comma-separated list of document types to search; leave\n",
    "        empty to perform the operation on all types\n",
    "    :arg body: The search definition using the Query DSL\n",
    "    :arg _source: True or false to return the _source field or not, or a\n",
    "        list of fields to return\n",
    "    :arg _source_exclude: A list of fields to exclude from the returned\n",
    "        _source field\n",
    "    :arg _source_include: A list of fields to extract and return from the\n",
    "        _source field\n",
    "    :arg allow_no_indices: Whether to ignore if a wildcard indices\n",
    "        expression resolves into no concrete indices. (This includes `_all`\n",
    "        string or when no indices have been specified)\n",
    "    :arg analyze_wildcard: Specify whether wildcard and prefix queries\n",
    "        should be analyzed (default: false)\n",
    "    :arg analyzer: The analyzer to use for the query string\n",
    "    :arg default_operator: The default operator for query string query (AND\n",
    "        or OR), default 'OR', valid choices are: 'AND', 'OR'\n",
    "    :arg df: The field to use as default where no field prefix is given in\n",
    "        the query string\n",
    "    :arg expand_wildcards: Whether to expand wildcard expression to concrete\n",
    "        indices that are open, closed or both., default 'open', valid\n",
    "        choices are: 'open', 'closed', 'none', 'all'\n",
    "    :arg explain: Specify whether to return detailed information about score\n",
    "        computation as part of a hit\n",
    "    :arg fielddata_fields: A comma-separated list of fields to return as the\n",
    "        field data representation of a field for each hit\n",
    "    :arg fields: A comma-separated list of fields to return as part of a hit\n",
    "    :arg from\\_: Starting offset (default: 0)\n",
    "    :arg ignore_unavailable: Whether specified concrete indices should be\n",
    "        ignored when unavailable (missing or closed)\n",
    "    :arg lenient: Specify whether format-based query failures (such as\n",
    "        providing text to a numeric field) should be ignored\n",
    "    :arg lowercase_expanded_terms: Specify whether query terms should be\n",
    "        lowercased\n",
    "    :arg preference: Specify the node or shard the operation should be\n",
    "        performed on (default: random)\n",
    "    :arg q: Query in the Lucene query string syntax\n",
    "    :arg request_cache: Specify if request cache should be used for this\n",
    "        request or not, defaults to index level setting\n",
    "    :arg routing: A comma-separated list of specific routing values\n",
    "    :arg scroll: Specify how long a consistent view of the index should be\n",
    "        maintained for scrolled search\n",
    "    :arg search_type: Search operation type, valid choices are:\n",
    "        'query_then_fetch', 'dfs_query_then_fetch', 'count', 'scan'\n",
    "    :arg size: Number of hits to return (default: 10)\n",
    "    :arg sort: A comma-separated list of <field>:<direction> pairs\n",
    "    :arg stats: Specific 'tag' of the request for logging and statistical\n",
    "        purposes\n",
    "    :arg suggest_field: Specify which field to use for suggestions\n",
    "    :arg suggest_mode: Specify suggest mode, default 'missing', valid\n",
    "        choices are: 'missing', 'popular', 'always'\n",
    "    :arg suggest_size: How many suggestions to return in response\n",
    "    :arg suggest_text: The source text for which the suggestions should be\n",
    "        returned\n",
    "    :arg terminate_after: The maximum number of documents to collect for\n",
    "        each shard, upon reaching which the query execution will terminate\n",
    "        early.\n",
    "    :arg timeout: Explicit operation timeout\n",
    "    :arg track_scores: Whether to calculate and return scores even if they\n",
    "        are not used for sorting\n",
    "    :arg version: Specify whether to return document version as part of a\n",
    "        hit\n",
    "        ```"
   ],
   "outputs": [
    {
     "ename": "SyntaxError",
     "evalue": "invalid syntax (<ipython-input-22-3883d8fc60e4>, line 1)",
     "traceback": [
      "\u001b[0;36m  File \u001b[0;32m\"<ipython-input-22-3883d8fc60e4>\"\u001b[0;36m, line \u001b[0;32m1\u001b[0m\n\u001b[0;31m    ```\u001b[0m\n\u001b[0m       ^\u001b[0m\n\u001b[0;31mSyntaxError\u001b[0m\u001b[0;31m:\u001b[0m invalid syntax\n"
     ],
     "output_type": "error"
    }
   ]
  },
  {
   "source": [
    "resp = es.search(\n",
    "  index='surveys', \n",
    "  doc_type='plotly-2017',\n",
    "  body={\n",
    "  \t\"query\": {\n",
    "     \t\"match_all\": {}\n",
    "    }\n",
    "}, size=10000)\t# Max 10k search results.\n",
    "\n",
    "print(resp.keys())\n",
    "print(resp['hits'].keys())"
   ],
   "cell_type": "code",
   "metadata": {
    "collapsed": false
   },
   "execution_count": 25,
   "outputs": [
    {
     "text": [
      "[u'hits', u'_shards', u'took', u'timed_out']\n",
      "[u'hits', u'total', u'max_score']\n",
      "{u'_score': 1.0, u'_type': u'plotly-2017', u'_id': u'1', u'_source': {u'High Charts': None, u'Start Date (UTC)': u'2016-09-20 20:40:12', u'Excel charts': u'Excel charts', u'Which of the following best describes the industry in which you are employed?': u'Healthcare', u'Other': None, u'ggplot2': None, u\"Want free Plotly stickers? Enter your mailing address below and we'll send you some\": u'elle@plotly.com', u'Which of the below categories best describes you?': u'Data Scientist', u'#': u'16bd7cac675f50440f8d15ea17d46f4b', u'How did you initially hear about\\xa0Plotly?': u'Online search', u'Approximately how many employees work at your current company?': u'10 - 50', u\"How important is\\xa0Plotly's use of\\xa0open-source technology to you?\": 4, u'How important is it for you to\\xa0reverse engineer Plotly charts?\\xa0(Access the data behind a Plotly chart, then re-graph it in a new way?)': 5, u'D3js': None, u'R Shiny': None, u'How would you rate your satisfaction with Plotly?': 10, u\"How important are Plotly's\\xa0scientific chart types to you?\": 7, u'What features do you wish Plotly had or would improve?': u'Plotly is perfection.', u'Do you currently pay for Plotly?': u'No', u'Network ID': u'b8701d29cb', u'Fusion Charts': None, u'How often do you use Plotly?': u'Almost daily', u\"How important is Plotly's compatibility with multiple languages (MATLAB, R, Python, JavaScript, etc)\\xa0to you?\": 7, u'How likely are you to use Plotly a year from now?': 10, u'matplotlib': None, u'Tableau': None, u'What would motivate you to pay for Plotly?': u\"If I didn't work at Plotly.\", u\"How important are Plotly's sharing & collaborativefeatures to you?\": 7, u'What prompted you to pay for Plotly?': None, u'Submit Date (UTC)': u'2016-09-20 20:45:57', u\"How important are the\\xa0interactive elements in Plotly's charts?\": 7, u'Other4': None, u'Other5': None, u'What is your age?': u'30 - 55', u'Other1': None, u'Other2': None, u'Other3': None, u'How important is the ability to access Plotly through an API or programming language (Python, R, MATLAB, etc)?': 7}, u'_index': u'surveys'}\n"
     ],
     "name": "stdout",
     "output_type": "stream"
    }
   ]
  },
  {
   "cell_type": "code",
   "execution_count": 29,
   "metadata": {
    "collapsed": false
   },
   "source": [
    "print(pd.DataFrame(resp['hits']['hits'][0]))"
   ],
   "outputs": [
    {
     "text": [
      "                                                   _id   _index  _score  \\\n",
      "#                                                    1  surveys     1.0   \n",
      "Approximately how many employees work at your c...   1  surveys     1.0   \n",
      "D3js                                                 1  surveys     1.0   \n",
      "Do you currently pay for Plotly?                     1  surveys     1.0   \n",
      "Excel charts                                         1  surveys     1.0   \n",
      "Fusion Charts                                        1  surveys     1.0   \n",
      "High Charts                                          1  surveys     1.0   \n",
      "How did you initially hear about Plotly?             1  surveys     1.0   \n",
      "How important are Plotly's sharing & collaborat...   1  surveys     1.0   \n",
      "How important are Plotly's scientific chart typ...   1  surveys     1.0   \n",
      "How important are the interactive elements in P...   1  surveys     1.0   \n",
      "How important is Plotly's compatibility with mu...   1  surveys     1.0   \n",
      "How important is it for you to reverse engineer...   1  surveys     1.0   \n",
      "How important is the ability to access Plotly t...   1  surveys     1.0   \n",
      "How important is Plotly's use of open-source te...   1  surveys     1.0   \n",
      "How likely are you to use Plotly a year from now?    1  surveys     1.0   \n",
      "How often do you use Plotly?                         1  surveys     1.0   \n",
      "How would you rate your satisfaction with Plotly?    1  surveys     1.0   \n",
      "Network ID                                           1  surveys     1.0   \n",
      "Other                                                1  surveys     1.0   \n",
      "Other1                                               1  surveys     1.0   \n",
      "Other2                                               1  surveys     1.0   \n",
      "Other3                                               1  surveys     1.0   \n",
      "Other4                                               1  surveys     1.0   \n",
      "Other5                                               1  surveys     1.0   \n",
      "R Shiny                                              1  surveys     1.0   \n",
      "Start Date (UTC)                                     1  surveys     1.0   \n",
      "Submit Date (UTC)                                    1  surveys     1.0   \n",
      "Tableau                                              1  surveys     1.0   \n",
      "Want free Plotly stickers? Enter your mailing a...   1  surveys     1.0   \n",
      "What features do you wish Plotly had or would i...   1  surveys     1.0   \n",
      "What is your age?                                    1  surveys     1.0   \n",
      "What prompted you to pay for Plotly?                 1  surveys     1.0   \n",
      "What would motivate you to pay for Plotly?           1  surveys     1.0   \n",
      "Which of the below categories best describes you?    1  surveys     1.0   \n",
      "Which of the following best describes the indus...   1  surveys     1.0   \n",
      "ggplot2                                              1  surveys     1.0   \n",
      "matplotlib                                           1  surveys     1.0   \n",
      "\n",
      "                                                                             _source  \\\n",
      "#                                                   16bd7cac675f50440f8d15ea17d46f4b   \n",
      "Approximately how many employees work at your c...                           10 - 50   \n",
      "D3js                                                                            None   \n",
      "Do you currently pay for Plotly?                                                  No   \n",
      "Excel charts                                                            Excel charts   \n",
      "Fusion Charts                                                                   None   \n",
      "High Charts                                                                     None   \n",
      "How did you initially hear about Plotly?                               Online search   \n",
      "How important are Plotly's sharing & collaborat...                                 7   \n",
      "How important are Plotly's scientific chart typ...                                 7   \n",
      "How important are the interactive elements in P...                                 7   \n",
      "How important is Plotly's compatibility with mu...                                 7   \n",
      "How important is it for you to reverse engineer...                                 5   \n",
      "How important is the ability to access Plotly t...                                 7   \n",
      "How important is Plotly's use of open-source te...                                 4   \n",
      "How likely are you to use Plotly a year from now?                                 10   \n",
      "How often do you use Plotly?                                            Almost daily   \n",
      "How would you rate your satisfaction with Plotly?                                 10   \n",
      "Network ID                                                                b8701d29cb   \n",
      "Other                                                                           None   \n",
      "Other1                                                                          None   \n",
      "Other2                                                                          None   \n",
      "Other3                                                                          None   \n",
      "Other4                                                                          None   \n",
      "Other5                                                                          None   \n",
      "R Shiny                                                                         None   \n",
      "Start Date (UTC)                                                 2016-09-20 20:40:12   \n",
      "Submit Date (UTC)                                                2016-09-20 20:45:57   \n",
      "Tableau                                                                         None   \n",
      "Want free Plotly stickers? Enter your mailing a...                   elle@plotly.com   \n",
      "What features do you wish Plotly had or would i...             Plotly is perfection.   \n",
      "What is your age?                                                            30 - 55   \n",
      "What prompted you to pay for Plotly?                                            None   \n",
      "What would motivate you to pay for Plotly?               If I didn't work at Plotly.   \n",
      "Which of the below categories best describes you?                     Data Scientist   \n",
      "Which of the following best describes the indus...                        Healthcare   \n",
      "ggplot2                                                                         None   \n",
      "matplotlib                                                                      None   \n",
      "\n",
      "                                                          _type  \n",
      "#                                                   plotly-2017  \n",
      "Approximately how many employees work at your c...  plotly-2017  \n",
      "D3js                                                plotly-2017  \n",
      "Do you currently pay for Plotly?                    plotly-2017  \n",
      "Excel charts                                        plotly-2017  \n",
      "Fusion Charts                                       plotly-2017  \n",
      "High Charts                                         plotly-2017  \n",
      "How did you initially hear about Plotly?            plotly-2017  \n",
      "How important are Plotly's sharing & collaborat...  plotly-2017  \n",
      "How important are Plotly's scientific chart typ...  plotly-2017  \n",
      "How important are the interactive elements in P...  plotly-2017  \n",
      "How important is Plotly's compatibility with mu...  plotly-2017  \n",
      "How important is it for you to reverse engineer...  plotly-2017  \n",
      "How important is the ability to access Plotly t...  plotly-2017  \n",
      "How important is Plotly's use of open-source te...  plotly-2017  \n",
      "How likely are you to use Plotly a year from now?   plotly-2017  \n",
      "How often do you use Plotly?                        plotly-2017  \n",
      "How would you rate your satisfaction with Plotly?   plotly-2017  \n",
      "Network ID                                          plotly-2017  \n",
      "Other                                               plotly-2017  \n",
      "Other1                                              plotly-2017  \n",
      "Other2                                              plotly-2017  \n",
      "Other3                                              plotly-2017  \n",
      "Other4                                              plotly-2017  \n",
      "Other5                                              plotly-2017  \n",
      "R Shiny                                             plotly-2017  \n",
      "Start Date (UTC)                                    plotly-2017  \n",
      "Submit Date (UTC)                                   plotly-2017  \n",
      "Tableau                                             plotly-2017  \n",
      "Want free Plotly stickers? Enter your mailing a...  plotly-2017  \n",
      "What features do you wish Plotly had or would i...  plotly-2017  \n",
      "What is your age?                                   plotly-2017  \n",
      "What prompted you to pay for Plotly?                plotly-2017  \n",
      "What would motivate you to pay for Plotly?          plotly-2017  \n",
      "Which of the below categories best describes you?   plotly-2017  \n",
      "Which of the following best describes the indus...  plotly-2017  \n",
      "ggplot2                                             plotly-2017  \n",
      "matplotlib                                          plotly-2017  \n"
     ],
     "name": "stdout",
     "output_type": "stream"
    }
   ]
  },
  {
   "source": [
    "resp = client.search(index='df-311', body={\n",
    "  \t\"query\": {\n",
    "     \t\"query_string\": { \n",
    "         \t\"query\": \"Smoking\" \n",
    "        }\n",
    "    }\n",
    "}, size=10*1000)\n",
    "\nprint('Number of results: ' + str(len(resp['hits']['hits'])))"
   ],
   "cell_type": "code",
   "metadata": {
    "collapsed": false
   },
   "execution_count": 157,
   "outputs": []
  },
  {
   "source": [
    "def df_from_elastic_query(elastic_search_query):\n",
    "\ttry:\n",
    "  \t\treturn pd.DataFrame.from_dict([item['_source'] for item in elastic_search_query['hits']['hits']])\n",
    "\texcept:\n",
    "\t\treturn pd.DataFrame()"
   ],
   "cell_type": "code",
   "metadata": {
    "collapsed": false
   },
   "execution_count": 158,
   "outputs": []
  },
  {
   "source": [
    "df_from_elastic_query(client.search(index='df-311', body={\n",
    "  \t\"query\": {\n",
    "     \t\"query_string\": { \n",
    "         \t\"query\": \"Smoking\" \n",
    "        }\n",
    "    }\n",
    "}, size=10*1000)).head()"
   ],
   "cell_type": "code",
   "metadata": {
    "collapsed": false
   },
   "execution_count": 162,
   "outputs": []
  },
  {
   "source": [
    "# Specify which fields to search in with the \"fields\" parameter\n",
    "\n",
    "df_from_elastic_query(client.search(index='df-311', body={\n",
    "  \t\"query\": {\n",
    "     \t\"query_string\": { \n",
    "         \t\"query\": \"Traffic Signal Condition\",\n",
    "          \t\"fields\": [\"Complaint Type\"]\n",
    "        }\n",
    "    }\n",
    "}, size=10*1000)).head()"
   ],
   "cell_type": "code",
   "metadata": {
    "collapsed": false
   },
   "execution_count": 164,
   "outputs": []
  },
  {
   "source": [
    "# Specify which fields to search in with the \"fields\" parameter\n",
    "\n",
    "df_from_elastic_query(client.search(index='df-311', body={\n",
    "  \t\"query\": {\n",
    "      \t\"filtered\": {\n",
    "         \t\"query\": { \n",
    "              \t\"match_all\": {}\n",
    "#                \"query_string\": {\n",
    "#                \t\"query\": \"Traffic Signal Condition\"\n",
    "#                }\n",
    "        \t},\n",
    "\n",
    "            \"filter\": {\n",
    "         \t\t\"term\": {\"Agency\": \"DOT\"}\n",
    "        \t}\n",
    "\n",
    "        }\n",
    "    }\n",
    "}, size=10*1000)).head()"
   ],
   "cell_type": "code",
   "metadata": {
    "collapsed": false
   },
   "execution_count": 174,
   "outputs": []
  },
  {
   "source": [],
   "cell_type": "code",
   "metadata": {
    "collapsed": false
   },
   "execution_count": 109,
   "outputs": []
  },
  {
   "source": [],
   "cell_type": "code",
   "metadata": {
    "collapsed": false
   },
   "execution_count": null,
   "outputs": []
  },
  {
   "source": [],
   "cell_type": "code",
   "metadata": {
    "collapsed": false
   },
   "execution_count": null,
   "outputs": []
  },
  {
   "source": [],
   "cell_type": "code",
   "metadata": {
    "collapsed": false
   },
   "execution_count": null,
   "outputs": []
  },
  {
   "source": [],
   "cell_type": "code",
   "metadata": {
    "collapsed": false
   },
   "execution_count": null,
   "outputs": []
  },
  {
   "source": [],
   "cell_type": "code",
   "metadata": {
    "collapsed": false
   },
   "execution_count": null,
   "outputs": []
  },
  {
   "source": [],
   "cell_type": "code",
   "metadata": {
    "collapsed": false
   },
   "execution_count": null,
   "outputs": []
  },
  {
   "source": [],
   "cell_type": "code",
   "metadata": {
    "collapsed": false
   },
   "execution_count": null,
   "outputs": []
  },
  {
   "source": [],
   "cell_type": "code",
   "metadata": {
    "collapsed": false
   },
   "execution_count": null,
   "outputs": []
  },
  {
   "source": [],
   "cell_type": "code",
   "metadata": {
    "collapsed": false
   },
   "execution_count": null,
   "outputs": []
  },
  {
   "source": [],
   "cell_type": "code",
   "metadata": {
    "collapsed": false
   },
   "execution_count": null,
   "outputs": []
  },
  {
   "source": [],
   "cell_type": "code",
   "metadata": {
    "collapsed": false
   },
   "execution_count": null,
   "outputs": []
  },
  {
   "source": [],
   "cell_type": "code",
   "metadata": {
    "collapsed": false
   },
   "execution_count": null,
   "outputs": []
  },
  {
   "source": [],
   "cell_type": "code",
   "metadata": {
    "collapsed": false
   },
   "execution_count": null,
   "outputs": []
  }
 ],
 "metadata": {
  "kernelspec": {
   "name": "python2",
   "language": "python",
   "display_name": "Python 2"
  },
  "kernel_info": {
   "name": "python2"
  },
  "language_info": {
   "mimetype": "text/x-python",
   "nbconvert_exporter": "python",
   "name": "python",
   "pygments_lexer": "ipython2",
   "version": "2.7.12",
   "file_extension": ".py",
   "codemirror_mode": {
    "version": 2,
    "name": "ipython"
   }
  }
 }
}