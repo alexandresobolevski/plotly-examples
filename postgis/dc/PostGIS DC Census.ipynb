{
 "cells": [
  {
   "cell_type": "markdown",
   "metadata": {},
   "source": [
    "# Go Further with PostGIS and Plotly\n",
    "Assumptions: <br>\n",
    "- PostgreSQL is installed locally"
   ]
  },
  {
   "cell_type": "markdown",
   "metadata": {},
   "source": [
    "## Let's Setup"
   ]
  },
  {
   "cell_type": "markdown",
   "metadata": {},
   "source": [
    "Download and unzip the Plotly Database Connector app"
   ]
  },
  {
   "cell_type": "code",
   "execution_count": null,
   "metadata": {
    "collapsed": false
   },
   "outputs": [],
   "source": [
    "!wget https://github.com/plotly/plotly-database-connector/releases/download/v0.0.7-alpha/Plotly.Database.Connector-Mac.zip"
   ]
  },
  {
   "cell_type": "code",
   "execution_count": null,
   "metadata": {
    "collapsed": false
   },
   "outputs": [],
   "source": [
    "!unzip Plotly.Database.Connector-Mac.zip -d ./"
   ]
  },
  {
   "cell_type": "markdown",
   "metadata": {},
   "source": [
    "Download and unzip the data required for this example"
   ]
  },
  {
   "cell_type": "code",
   "execution_count": null,
   "metadata": {
    "collapsed": false
   },
   "outputs": [],
   "source": [
    "!wget https://github.com/plotly/plotly-database-connector/tree/master/examples/postgis/dc/dc_census.zip"
   ]
  },
  {
   "cell_type": "code",
   "execution_count": null,
   "metadata": {
    "collapsed": false
   },
   "outputs": [],
   "source": [
    "!unzip dc_census.zip -d ./"
   ]
  },
  {
   "cell_type": "markdown",
   "metadata": {},
   "source": [
    "Start your postgres server with a command similar to this (depending on where you installed PostgreSQL)<BR>\n",
    "$ postgres -D /usr/local/pgsql/data"
   ]
  },
  {
   "cell_type": "code",
   "execution_count": null,
   "metadata": {
    "collapsed": true
   },
   "outputs": [],
   "source": [
    "# Create a new postgreSQL database called 'dc_census_tracts'\n",
    "!createdb dc_census_tracts"
   ]
  },
  {
   "cell_type": "code",
   "execution_count": null,
   "metadata": {
    "collapsed": true
   },
   "outputs": [],
   "source": [
    "# add postgis language to the postgis database\n",
    "!createlang plpgsql dc_census_tracts\n",
    "# will get the following if it is there already :\n",
    "# $ language \"plpgsql\" is already installed in database \"postgis\""
   ]
  },
  {
   "cell_type": "code",
   "execution_count": null,
   "metadata": {
    "collapsed": true
   },
   "outputs": [],
   "source": [
    "# install the postgis extensions to the postgis database\n",
    "!psql -d dc_census_tracts -c \"CREATE EXTENSION postgis;\"\n",
    "!psql -d dc_census_tracts -c \"CREATE EXTENSION postgis_topology;\"\n",
    "# will get the following if they are already installed:\n",
    "# ERROR:  extension \"postgis\" already exists\n",
    "# ERROR:  extension \"postgis_topology\" already exists"
   ]
  },
  {
   "cell_type": "code",
   "execution_count": null,
   "metadata": {
    "collapsed": false
   },
   "outputs": [],
   "source": [
    "!cd dc_census && ls"
   ]
  },
  {
   "cell_type": "code",
   "execution_count": null,
   "metadata": {
    "collapsed": false
   },
   "outputs": [],
   "source": [
    "# Import shapefile\n",
    "!shp2pgsql -c -D -s 4269 -I dc_census/tl_2010_11001_tract10.shp dc_census_tracts | psql -d dc_census_tracts"
   ]
  },
  {
   "cell_type": "markdown",
   "metadata": {},
   "source": [
    "Create a table in the database by entering the pgsql prompt: <br>\n",
    "$ psql dc_census_tracts\n",
    "and entering the following SQL query into `dc_census_tracts=#` prompt\n",
    "```\n",
    "CREATE TABLE dc_census_data (GEOID varchar(11), SUMLEV varchar(3), STATE varchar(2), COUNTY varchar(3), CBSA varchar(5), CSA varchar(3), NECTA integer, CNECTA integer, NAME varchar(30), POP100 integer, HU100 integer, POP1002000 integer, HU1002000 integer, P001001 integer, P0010012000 integer);\n",
    "```"
   ]
  },
  {
   "cell_type": "code",
   "execution_count": null,
   "metadata": {
    "collapsed": false
   },
   "outputs": [],
   "source": [
    "!cat dc_census/all_140_in_11.P1.csv | psql -d dc_census_tracts -c 'COPY dc_census_data FROM STDIN WITH CSV HEADER'"
   ]
  },
  {
   "cell_type": "markdown",
   "metadata": {},
   "source": [
    "## Let's Connect To Our Database"
   ]
  },
  {
   "cell_type": "markdown",
   "metadata": {},
   "source": [
    "Start up the Plotly Database Application and connect to the `dc_census_tracts` database."
   ]
  },
  {
   "cell_type": "code",
   "execution_count": null,
   "metadata": {
    "collapsed": false
   },
   "outputs": [],
   "source": [
    "!open ./Plotly\\ Database\\ Connector-darwin-x64/Plotly\\ Database\\ Connector.app"
   ]
  },
  {
   "cell_type": "markdown",
   "metadata": {},
   "source": [
    "Follow the instructions until you are connected and can view the desired tables."
   ]
  },
  {
   "cell_type": "code",
   "execution_count": null,
   "metadata": {
    "collapsed": true
   },
   "outputs": [],
   "source": [
    "import pandas as pd"
   ]
  },
  {
   "cell_type": "code",
   "execution_count": 1,
   "metadata": {
    "collapsed": true
   },
   "outputs": [],
   "source": [
    "import requests"
   ]
  },
  {
   "cell_type": "markdown",
   "metadata": {},
   "source": [
    "Let's make sure the app is connected by using it's API."
   ]
  },
  {
   "cell_type": "code",
   "execution_count": null,
   "metadata": {
    "collapsed": true
   },
   "outputs": [],
   "source": [
    "auth = requests.get('http://localhost:5000/v1/authenticate')"
   ]
  },
  {
   "cell_type": "code",
   "execution_count": null,
   "metadata": {
    "collapsed": false
   },
   "outputs": [],
   "source": [
    "auth.json()"
   ]
  },
  {
   "cell_type": "markdown",
   "metadata": {},
   "source": [
    "The API permits us to switch databases if we have to, since we want to use `dc_census_data` selecting a database here is optional but here is how that would work:"
   ]
  },
  {
   "cell_type": "code",
   "execution_count": null,
   "metadata": {
    "collapsed": true
   },
   "outputs": [],
   "source": [
    "connectDatabase = requests.get('http://localhost:5000/v1/selectdatabase?database=dc_census_tracts')"
   ]
  },
  {
   "cell_type": "code",
   "execution_count": null,
   "metadata": {
    "collapsed": false
   },
   "outputs": [],
   "source": [
    "connectDatabase.json()"
   ]
  },
  {
   "cell_type": "markdown",
   "metadata": {},
   "source": [
    "We just created two tables in that databse: `dc_census_tacts` and `dc_census_data`. Let's make sure they are there by retreiving the list of tables from our database."
   ]
  },
  {
   "cell_type": "code",
   "execution_count": null,
   "metadata": {
    "collapsed": true
   },
   "outputs": [],
   "source": [
    "tables = requests.get('http://localhost:5000/v1/tables')"
   ]
  },
  {
   "cell_type": "code",
   "execution_count": null,
   "metadata": {
    "collapsed": false
   },
   "outputs": [],
   "source": [
    "tables.json()"
   ]
  },
  {
   "cell_type": "markdown",
   "metadata": {},
   "source": [
    "Looks like both `u'dc_census_tracts` and `u'dc_census_data` are there!"
   ]
  },
  {
   "cell_type": "markdown",
   "metadata": {},
   "source": [
    "## Let's Explore Our Data"
   ]
  },
  {
   "cell_type": "code",
   "execution_count": null,
   "metadata": {
    "collapsed": true
   },
   "outputs": [],
   "source": [
    "response = requests.get('http://localhost:5000/v1/preview?tables=dc_census_tracts,dc_census_data')"
   ]
  },
  {
   "cell_type": "markdown",
   "metadata": {},
   "source": [
    "The `response` received has a `previews` object that contains the first five rows of each table specified as in the above `tables` parameter of the request. Let's get into the table `dc_census_tracts` and see the geojson of the fifth row (index 4) row only. To get the geojson object we enter in to the `geom` key."
   ]
  },
  {
   "cell_type": "code",
   "execution_count": null,
   "metadata": {
    "collapsed": false,
    "scrolled": true
   },
   "outputs": [],
   "source": [
    "response.json()['previews'][0]['dc_census_tracts']['raw'][0]['geom']"
   ]
  },
  {
   "cell_type": "markdown",
   "metadata": {},
   "source": [
    "Looks like the data is a collection of complex Polygons."
   ]
  },
  {
   "cell_type": "markdown",
   "metadata": {},
   "source": [
    "Let's look at the other table, `dc_census_data`, whose preview is also in our response object."
   ]
  },
  {
   "cell_type": "code",
   "execution_count": null,
   "metadata": {
    "collapsed": false
   },
   "outputs": [],
   "source": [
    "df = pd.DataFrame(response.json()['previews'][1]['dc_census_data']['rows'])\n",
    "df.columns = response.json()['previews'][1]['dc_census_data']['columnnames']"
   ]
  },
  {
   "cell_type": "code",
   "execution_count": null,
   "metadata": {
    "collapsed": false
   },
   "outputs": [],
   "source": [
    "df"
   ]
  },
  {
   "cell_type": "markdown",
   "metadata": {},
   "source": [
    "Looks like it has population data for each county"
   ]
  },
  {
   "cell_type": "markdown",
   "metadata": {},
   "source": [
    "## Let's Extract Our Data"
   ]
  },
  {
   "cell_type": "markdown",
   "metadata": {},
   "source": [
    "We can define right from the start how much data exactly we want to visualize. Use an integer as `LIMIT` value or set it simply to be null i.e. `LIMIT = ''`"
   ]
  },
  {
   "cell_type": "code",
   "execution_count": 17,
   "metadata": {
    "collapsed": false
   },
   "outputs": [],
   "source": [
    "LIMIT = '' #'LIMIT 10'"
   ]
  },
  {
   "cell_type": "markdown",
   "metadata": {},
   "source": [
    "Let's combine both tables and do some analysis."
   ]
  },
  {
   "cell_type": "markdown",
   "metadata": {},
   "source": [
    "Right before, let's add a column that will have the centroid of each county. <br>\n",
    "Run these commands in the psql prompt.\n",
    "\n",
    "`ALTER TABLE \"dc_census_tracts\" ADD centroid_geom geometry;` <br>\n",
    "`UPDATE \"dc_census_tracts\" SET centroid_geom = ST_Centroid(geom);`"
   ]
  },
  {
   "cell_type": "code",
   "execution_count": 5,
   "metadata": {
    "collapsed": true
   },
   "outputs": [],
   "source": [
    "query = 'SELECT * from dc_census_tracts JOIN dc_census_data on dc_census_tracts.geoid10 = dc_census_data.geoid ' + LIMIT"
   ]
  },
  {
   "cell_type": "markdown",
   "metadata": {},
   "source": [
    "With the connector API we can send our own queries as well"
   ]
  },
  {
   "cell_type": "code",
   "execution_count": 6,
   "metadata": {
    "collapsed": false
   },
   "outputs": [],
   "source": [
    "queryResponse = requests.get('http://localhost:5000/v1/query?statement=' + query)"
   ]
  },
  {
   "cell_type": "code",
   "execution_count": null,
   "metadata": {
    "collapsed": false,
    "scrolled": true
   },
   "outputs": [],
   "source": [
    "# queryResponse.json()"
   ]
  },
  {
   "cell_type": "markdown",
   "metadata": {},
   "source": [
    "Looks like we have the data we need, let's create a geometries object that we can use when drawing shapes using plotly! These geometry objects are inside our data under the `geom` key."
   ]
  },
  {
   "cell_type": "markdown",
   "metadata": {},
   "source": [
    "## Let's Process Our Data"
   ]
  },
  {
   "cell_type": "markdown",
   "metadata": {},
   "source": [
    "We only need the raw response from PostGIS, let's put that into a local variable and go from there."
   ]
  },
  {
   "cell_type": "code",
   "execution_count": 7,
   "metadata": {
    "collapsed": true
   },
   "outputs": [],
   "source": [
    "locations = queryResponse.json()['raw']"
   ]
  },
  {
   "cell_type": "markdown",
   "metadata": {},
   "source": [
    "#### 1 Sectors of Counties"
   ]
  },
  {
   "cell_type": "code",
   "execution_count": 8,
   "metadata": {
    "collapsed": false
   },
   "outputs": [],
   "source": [
    "geometries = [location['geom'] for location in locations]"
   ]
  },
  {
   "cell_type": "code",
   "execution_count": 9,
   "metadata": {
    "collapsed": false
   },
   "outputs": [],
   "source": [
    "geojsons = [{\n",
    "    \"type\": \"FeatureCollection\",\n",
    "    \"features\": [{\n",
    "        \"type\": \"Feature\",\n",
    "        \"properties\": {},\n",
    "        \"geometry\": {\n",
    "            \"type\": \"GeometryCollection\",\n",
    "            \"geometries\": [geometry]\n",
    "        }\n",
    "    }]\n",
    "} for geometry in geometries]"
   ]
  },
  {
   "cell_type": "markdown",
   "metadata": {},
   "source": [
    "#### 2 Centroids of Counties"
   ]
  },
  {
   "cell_type": "code",
   "execution_count": 10,
   "metadata": {
    "collapsed": false
   },
   "outputs": [],
   "source": [
    "centroids = [location['centroid_geom'] for location in locations]"
   ]
  },
  {
   "cell_type": "code",
   "execution_count": null,
   "metadata": {
    "collapsed": false,
    "scrolled": true
   },
   "outputs": [],
   "source": [
    "# centroids"
   ]
  },
  {
   "cell_type": "markdown",
   "metadata": {},
   "source": [
    "#### 3 Populations of Counties"
   ]
  },
  {
   "cell_type": "code",
   "execution_count": 11,
   "metadata": {
    "collapsed": true
   },
   "outputs": [],
   "source": [
    "populations = [location['pop100'] for location in locations]"
   ]
  },
  {
   "cell_type": "code",
   "execution_count": null,
   "metadata": {
    "collapsed": false,
    "scrolled": true
   },
   "outputs": [],
   "source": [
    "# populations"
   ]
  },
  {
   "cell_type": "markdown",
   "metadata": {},
   "source": [
    "#### 4 A map of DC has to have the White House on it..."
   ]
  },
  {
   "cell_type": "code",
   "execution_count": 12,
   "metadata": {
    "collapsed": true
   },
   "outputs": [],
   "source": [
    "USA_HQ = dict(\n",
    "            lon='-77.0365',\n",
    "            lat='38.8977'\n",
    "        )"
   ]
  },
  {
   "cell_type": "markdown",
   "metadata": {},
   "source": [
    "## Let's Make a Plot!"
   ]
  },
  {
   "cell_type": "code",
   "execution_count": 13,
   "metadata": {
    "collapsed": true
   },
   "outputs": [],
   "source": [
    "import plotly.plotly as py\n",
    "import plotly.tools as tls\n",
    "from plotly.graph_objs import *"
   ]
  },
  {
   "cell_type": "code",
   "execution_count": 14,
   "metadata": {
    "collapsed": true
   },
   "outputs": [],
   "source": [
    "mapbox_access_token = 'pk.eyJ1IjoiY2hyaWRkeXAiLCJhIjoiRy1GV1FoNCJ9.yUPu7qwD_Eqf_gKNzDrrCQ'"
   ]
  },
  {
   "cell_type": "code",
   "execution_count": 16,
   "metadata": {
    "collapsed": false
   },
   "outputs": [],
   "source": [
    "data = Data([\n",
    "    Scattermapbox(\n",
    "        name='USA HQ',\n",
    "        lat=['38.8977'],\n",
    "        lon=['-77.0365'],\n",
    "        mode='markers',\n",
    "        marker=Marker(\n",
    "            size=10\n",
    "        ),\n",
    "        text=['Barack Obama lives in this house']\n",
    "    ),\n",
    "    Scattermapbox(\n",
    "        name='County Populations',\n",
    "        lat=[str(centroid['coordinates'][1]) for centroid in centroids],\n",
    "        lon=[str(centroid['coordinates'][0]) for centroid in centroids],\n",
    "        mode='markers',\n",
    "        marker=Marker(\n",
    "            size=10\n",
    "        ),\n",
    "        text=[str(population) + ' people live in this county' for population in populations]\n",
    "    )\n",
    "])"
   ]
  },
  {
   "cell_type": "code",
   "execution_count": 17,
   "metadata": {
    "collapsed": false
   },
   "outputs": [],
   "source": [
    "layout = Layout(\n",
    "    autosize=True,\n",
    "    hovermode='closest',\n",
    "    mapbox=dict(\n",
    "        accesstoken=mapbox_access_token,\n",
    "        center=dict(\n",
    "            lat=38.8977,\n",
    "            lon=-77.0365\n",
    "        ),\n",
    "        pitch=0,\n",
    "        zoom=12,\n",
    "        layers=[\n",
    "            {\n",
    "                'sourcetype':'geojson',\n",
    "                'source': geojson,\n",
    "                'type': 'fill',\n",
    "                'color': 'rgba(30, 30, 30, 0.2)'            \n",
    "            } for geojson in geojsons\n",
    "        ]\n",
    "    )\n",
    ")"
   ]
  },
  {
   "cell_type": "code",
   "execution_count": 18,
   "metadata": {
    "collapsed": false
   },
   "outputs": [],
   "source": [
    "fig = dict(data=data, layout=layout)"
   ]
  },
  {
   "cell_type": "code",
   "execution_count": 19,
   "metadata": {
    "collapsed": false
   },
   "outputs": [],
   "source": [
    "tls.set_credentials_file(username='', api_key='')"
   ]
  },
  {
   "cell_type": "code",
   "execution_count": 20,
   "metadata": {
    "collapsed": false
   },
   "outputs": [
    {
     "data": {
      "text/html": [
       "<iframe id=\"igraph\" scrolling=\"no\" style=\"border:none;\"seamless=\"seamless\" src=\"https://plot.ly/~alexandres/147.embed\" height=\"525px\" width=\"100%\"></iframe>"
      ],
      "text/plain": [
       "<plotly.tools.PlotlyDisplay object>"
      ]
     },
     "execution_count": 20,
     "metadata": {},
     "output_type": "execute_result"
    }
   ],
   "source": [
    "py.iplot(fig, filename='dc_census')"
   ]
  },
  {
   "cell_type": "markdown",
   "metadata": {
    "collapsed": true
   },
   "source": [
    "## Exploring Possible Queries"
   ]
  },
  {
   "cell_type": "code",
   "execution_count": 2,
   "metadata": {
    "collapsed": true
   },
   "outputs": [],
   "source": [
    "import requests"
   ]
  },
  {
   "cell_type": "markdown",
   "metadata": {},
   "source": [
    "#### 1 - Modify the Data Type upon Extracting It"
   ]
  },
  {
   "cell_type": "markdown",
   "metadata": {},
   "source": [
    "Simply add a `ST_AsTypeWanted` function in front of the geom extracted."
   ]
  },
  {
   "cell_type": "markdown",
   "metadata": {},
   "source": [
    "The raw `geom` data here is stored as a SRID = 4269"
   ]
  },
  {
   "cell_type": "markdown",
   "metadata": {},
   "source": [
    "Looks like something like this: `0101000020AD100000BAA0BE654E5F52C0AFB14B546FB54640`"
   ]
  },
  {
   "cell_type": "code",
   "execution_count": 12,
   "metadata": {
    "collapsed": false
   },
   "outputs": [
    {
     "data": {
      "text/plain": [
       "[{u'st_srid': 4269}]"
      ]
     },
     "execution_count": 12,
     "metadata": {},
     "output_type": "execute_result"
    }
   ],
   "source": [
    "query = 'SELECT ST_SRID(geom) FROM dc_census_tracts LIMIT 1;'\n",
    "queryResponse = requests.get('http://localhost:5000/v1/query?statement=' + query)\n",
    "queryResponse.json()['raw']"
   ]
  },
  {
   "cell_type": "markdown",
   "metadata": {},
   "source": [
    "When 'extracted' with no specification:"
   ]
  },
  {
   "cell_type": "code",
   "execution_count": 13,
   "metadata": {
    "collapsed": false,
    "scrolled": true
   },
   "outputs": [
    {
     "data": {
      "text/plain": [
       "[{u'geom': {u'coordinates': [[[[-77.027429, 38.951868],\n",
       "      [-77.02726799999999, 38.951867],\n",
       "      [-77.02622099999999, 38.951898],\n",
       "      [-77.025551, 38.951917],\n",
       "      [-77.025306, 38.951924],\n",
       "      [-77.02492099999999, 38.951932],\n",
       "      [-77.024763, 38.951938999999996],\n",
       "      [-77.024621, 38.951944],\n",
       "      [-77.024003, 38.951962],\n",
       "      [-77.02393, 38.951963],\n",
       "      [-77.02382899999999, 38.951966],\n",
       "      [-77.023727, 38.951968],\n",
       "      [-77.02296799999999, 38.951989],\n",
       "      [-77.022204, 38.952014],\n",
       "      [-77.022104, 38.952016],\n",
       "      [-77.021845, 38.952023],\n",
       "      [-77.021562, 38.952033],\n",
       "      [-77.021177, 38.952041],\n",
       "      [-77.020766, 38.952054],\n",
       "      [-77.019885, 38.952076999999996],\n",
       "      [-77.01968099999999, 38.952083],\n",
       "      [-77.019632, 38.951021],\n",
       "      [-77.019607, 38.950466999999996],\n",
       "      [-77.019603, 38.950402],\n",
       "      [-77.01959599999999, 38.950249],\n",
       "      [-77.019584, 38.950026],\n",
       "      [-77.019581, 38.949951999999996],\n",
       "      [-77.019579, 38.949920999999996],\n",
       "      [-77.019566, 38.949636999999996],\n",
       "      [-77.019553, 38.949401],\n",
       "      [-77.01954599999999, 38.949211],\n",
       "      [-77.019544, 38.949135],\n",
       "      [-77.019528, 38.948812],\n",
       "      [-77.019513, 38.94847],\n",
       "      [-77.01949499999999, 38.948149],\n",
       "      [-77.019469, 38.94764],\n",
       "      [-77.019459, 38.947402],\n",
       "      [-77.01945599999999, 38.947308],\n",
       "      [-77.019413, 38.946335],\n",
       "      [-77.020235, 38.946312],\n",
       "      [-77.020764, 38.946296],\n",
       "      [-77.02109899999999, 38.946284999999996],\n",
       "      [-77.02122399999999, 38.94628],\n",
       "      [-77.021412, 38.946273],\n",
       "      [-77.021832, 38.946261],\n",
       "      [-77.022526, 38.946238],\n",
       "      [-77.022699, 38.946233],\n",
       "      [-77.023259, 38.946218],\n",
       "      [-77.023551, 38.946208],\n",
       "      [-77.024169, 38.946186999999995],\n",
       "      [-77.024911, 38.946172],\n",
       "      [-77.025275, 38.946161],\n",
       "      [-77.02584499999999, 38.946144],\n",
       "      [-77.026415, 38.946124999999995],\n",
       "      [-77.0266, 38.946124999999995],\n",
       "      [-77.02666599999999, 38.946400000000004],\n",
       "      [-77.02678399999999, 38.94719],\n",
       "      [-77.02681199999999, 38.947372],\n",
       "      [-77.026933, 38.948256],\n",
       "      [-77.026944, 38.948333],\n",
       "      [-77.026951, 38.948389999999996],\n",
       "      [-77.026962, 38.948464],\n",
       "      [-77.027003, 38.948761],\n",
       "      [-77.027014, 38.948836],\n",
       "      [-77.027035, 38.948991],\n",
       "      [-77.027048, 38.949084],\n",
       "      [-77.027081, 38.949337],\n",
       "      [-77.027135, 38.949734],\n",
       "      [-77.02716099999999, 38.949926999999995],\n",
       "      [-77.02721, 38.950277],\n",
       "      [-77.02722299999999, 38.950364],\n",
       "      [-77.02723499999999, 38.950452],\n",
       "      [-77.027248, 38.950539],\n",
       "      [-77.02726, 38.950627],\n",
       "      [-77.027273, 38.950714],\n",
       "      [-77.027284, 38.950801999999996],\n",
       "      [-77.027383, 38.951538],\n",
       "      [-77.027419, 38.951791],\n",
       "      [-77.027429, 38.951868]]]],\n",
       "   u'type': u'MultiPolygon'}}]"
      ]
     },
     "execution_count": 13,
     "metadata": {},
     "output_type": "execute_result"
    }
   ],
   "source": [
    "query = 'SELECT geom FROM dc_census_tracts LIMIT 1;'\n",
    "queryResponse = requests.get('http://localhost:5000/v1/query?statement=' + query)\n",
    "queryResponse.json()['raw']"
   ]
  },
  {
   "cell_type": "markdown",
   "metadata": {},
   "source": [
    "As GeoJSON:"
   ]
  },
  {
   "cell_type": "markdown",
   "metadata": {},
   "source": [
    "http://postgis.net/docs/ST_AsGeoJSON.html"
   ]
  },
  {
   "cell_type": "code",
   "execution_count": 14,
   "metadata": {
    "collapsed": false,
    "scrolled": true
   },
   "outputs": [
    {
     "data": {
      "text/plain": [
       "[{u'st_asgeojson': u'{\"type\":\"MultiPolygon\",\"coordinates\":[[[[-77.027429,38.951868],[-77.027268,38.951867],[-77.026221,38.951898],[-77.025551,38.951917],[-77.025306,38.951924],[-77.024921,38.951932],[-77.024763,38.951939],[-77.024621,38.951944],[-77.024003,38.951962],[-77.02393,38.951963],[-77.023829,38.951966],[-77.023727,38.951968],[-77.022968,38.951989],[-77.022204,38.952014],[-77.022104,38.952016],[-77.021845,38.952023],[-77.021562,38.952033],[-77.021177,38.952041],[-77.020766,38.952054],[-77.019885,38.952077],[-77.019681,38.952083],[-77.019632,38.951021],[-77.019607,38.950467],[-77.019603,38.950402],[-77.019596,38.950249],[-77.019584,38.950026],[-77.019581,38.949952],[-77.019579,38.949921],[-77.019566,38.949637],[-77.019553,38.949401],[-77.019546,38.949211],[-77.019544,38.949135],[-77.019528,38.948812],[-77.019513,38.94847],[-77.019495,38.948149],[-77.019469,38.94764],[-77.019459,38.947402],[-77.019456,38.947308],[-77.019413,38.946335],[-77.020235,38.946312],[-77.020764,38.946296],[-77.021099,38.946285],[-77.021224,38.94628],[-77.021412,38.946273],[-77.021832,38.946261],[-77.022526,38.946238],[-77.022699,38.946233],[-77.023259,38.946218],[-77.023551,38.946208],[-77.024169,38.946187],[-77.024911,38.946172],[-77.025275,38.946161],[-77.025845,38.946144],[-77.026415,38.946125],[-77.0266,38.946125],[-77.026666,38.9464],[-77.026784,38.94719],[-77.026812,38.947372],[-77.026933,38.948256],[-77.026944,38.948333],[-77.026951,38.94839],[-77.026962,38.948464],[-77.027003,38.948761],[-77.027014,38.948836],[-77.027035,38.948991],[-77.027048,38.949084],[-77.027081,38.949337],[-77.027135,38.949734],[-77.027161,38.949927],[-77.02721,38.950277],[-77.027223,38.950364],[-77.027235,38.950452],[-77.027248,38.950539],[-77.02726,38.950627],[-77.027273,38.950714],[-77.027284,38.950802],[-77.027383,38.951538],[-77.027419,38.951791],[-77.027429,38.951868]]]]}'}]"
      ]
     },
     "execution_count": 14,
     "metadata": {},
     "output_type": "execute_result"
    }
   ],
   "source": [
    "query = 'SELECT ST_AsGeoJSON(geom) FROM dc_census_tracts LIMIT 1;'\n",
    "queryResponse = requests.get('http://localhost:5000/v1/query?statement=' + query)\n",
    "queryResponse.json()['raw']"
   ]
  },
  {
   "cell_type": "markdown",
   "metadata": {},
   "source": [
    "As Text:"
   ]
  },
  {
   "cell_type": "code",
   "execution_count": 19,
   "metadata": {
    "collapsed": false,
    "scrolled": true
   },
   "outputs": [
    {
     "data": {
      "text/plain": [
       "[{u'st_astext': u'MULTIPOLYGON(((-77.027429 38.951868,-77.027268 38.951867,-77.026221 38.951898,-77.025551 38.951917,-77.025306 38.951924,-77.024921 38.951932,-77.024763 38.951939,-77.024621 38.951944,-77.024003 38.951962,-77.02393 38.951963,-77.023829 38.951966,-77.023727 38.951968,-77.022968 38.951989,-77.022204 38.952014,-77.022104 38.952016,-77.021845 38.952023,-77.021562 38.952033,-77.021177 38.952041,-77.020766 38.952054,-77.019885 38.952077,-77.019681 38.952083,-77.019632 38.951021,-77.019607 38.950467,-77.019603 38.950402,-77.019596 38.950249,-77.019584 38.950026,-77.019581 38.949952,-77.019579 38.949921,-77.019566 38.949637,-77.019553 38.949401,-77.019546 38.949211,-77.019544 38.949135,-77.019528 38.948812,-77.019513 38.94847,-77.019495 38.948149,-77.019469 38.94764,-77.019459 38.947402,-77.019456 38.947308,-77.019413 38.946335,-77.020235 38.946312,-77.020764 38.946296,-77.021099 38.946285,-77.021224 38.94628,-77.021412 38.946273,-77.021832 38.946261,-77.022526 38.946238,-77.022699 38.946233,-77.023259 38.946218,-77.023551 38.946208,-77.024169 38.946187,-77.024911 38.946172,-77.025275 38.946161,-77.025845 38.946144,-77.026415 38.946125,-77.0266 38.946125,-77.026666 38.9464,-77.026784 38.94719,-77.026812 38.947372,-77.026933 38.948256,-77.026944 38.948333,-77.026951 38.94839,-77.026962 38.948464,-77.027003 38.948761,-77.027014 38.948836,-77.027035 38.948991,-77.027048 38.949084,-77.027081 38.949337,-77.027135 38.949734,-77.027161 38.949927,-77.02721 38.950277,-77.027223 38.950364,-77.027235 38.950452,-77.027248 38.950539,-77.02726 38.950627,-77.027273 38.950714,-77.027284 38.950802,-77.027383 38.951538,-77.027419 38.951791,-77.027429 38.951868)))'}]"
      ]
     },
     "execution_count": 19,
     "metadata": {},
     "output_type": "execute_result"
    }
   ],
   "source": [
    "query = 'SELECT ST_AsText(geom) FROM dc_census_tracts LIMIT 1;'\n",
    "queryResponse = requests.get('http://localhost:5000/v1/query?statement=' + query)\n",
    "queryResponse.json()['raw']"
   ]
  },
  {
   "cell_type": "markdown",
   "metadata": {},
   "source": [
    "Note that the `type` parameter acts as a 'constructor' and receives the list of points. The whole Object is a string as expected. "
   ]
  },
  {
   "cell_type": "markdown",
   "metadata": {},
   "source": [
    "Can also use these other types when extracting data:\n",
    "- ST_AsBinary — Return the Well-Known Binary (WKB) representation of the geometry/geography without SRID meta data.\n",
    "- ST_AsEWKB — Return the Well-Known Binary (WKB) representation of the geometry with SRID meta data.\n",
    "- ST_AsEWKT — Return the Well-Known Text (WKT) representation of the geometry with SRID meta data.\n",
    "- ST_AsGeoJSON — Return the geometry as a GeoJSON element.\n",
    "- ST_AsGML — Return the geometry as a GML version 2 or 3 element.\n",
    "- ST_AsHEXEWKB — Returns a Geometry in HEXEWKB format (as text) using either little-endian (NDR) or big-endian (XDR) encoding.\n",
    "- ST_AsKML — Return the geometry as a KML element. Several variants. Default version=2, default precision=15\n",
    "- ST_AsSVG — Returns a Geometry in SVG path data given a geometry or geography object.\n",
    "- ST_GeoHash — Return a GeoHash representation (geohash.org) of the geometry.\n",
    "- ST_AsText — Return the Well-Known Text (WKT) representation of the geometry/geography without SRID metadata.\n"
   ]
  },
  {
   "cell_type": "markdown",
   "metadata": {},
   "source": [
    "#### 2 -  Advanced Queries"
   ]
  },
  {
   "cell_type": "markdown",
   "metadata": {},
   "source": [
    "#### Distance From a Point Provided as Text"
   ]
  },
  {
   "cell_type": "markdown",
   "metadata": {},
   "source": [
    "NOTE: SRID by defaults when read from text is 0, to make computations using that geometry, set the SRID like so <br>\n",
    "`ST_GeomFromText('SRID=4269;POINT(-73 45)')`"
   ]
  },
  {
   "cell_type": "code",
   "execution_count": 23,
   "metadata": {
    "collapsed": false
   },
   "outputs": [
    {
     "data": {
      "text/plain": [
       "[{u'name': u'La Prairie', u'st_distance': 0.643078811033295},\n",
       " {u'name': u'Pointe-Claire', u'st_distance': 0.927025844569616},\n",
       " {u'name': u'Dorval', u'st_distance': 0.87316278917508},\n",
       " {u'name': u'Beaconsfield', u'st_distance': 0.968098237835403},\n",
       " {u'name': u'Kirkland', u'st_distance': 0.976176229274204}]"
      ]
     },
     "execution_count": 23,
     "metadata": {},
     "output_type": "execute_result"
    }
   ],
   "source": [
    "query = \"\\\n",
    "SELECT name, ST_Distance(geom, ST_GeomFromText('SRID=4269;POINT(-73 45)')) \\\n",
    "FROM montreal_places LIMIT 5;\\\n",
    "\"\n",
    "queryResponse = requests.get('http://localhost:5000/v1/query?statement=' + query)\n",
    "queryResponse.json()['raw']"
   ]
  },
  {
   "cell_type": "markdown",
   "metadata": {},
   "source": [
    "Here we received a number instead of an object. Can we catch and parse this automatically or leave it to the user? <br> \n",
    "`AsGeoJSON()` isn't useful here."
   ]
  },
  {
   "cell_type": "markdown",
   "metadata": {},
   "source": [
    "#### Filter by Distance From a Point"
   ]
  },
  {
   "cell_type": "code",
   "execution_count": 27,
   "metadata": {
    "collapsed": false
   },
   "outputs": [
    {
     "data": {
      "text/plain": [
       "[{u'geom': {u'coordinates': [-73.28765, 45.52624], u'type': u'Point'},\n",
       "  u'name': u'Saint-Basile-le-Grand'},\n",
       " {u'geom': {u'coordinates': [-73.34449, 45.31491], u'type': u'Point'},\n",
       "  u'name': u\"L'Acadie\"},\n",
       " {u'geom': {u'coordinates': [-73.30368, 45.36214], u'type': u'Point'},\n",
       "  u'name': u'Saint-Luc'},\n",
       " {u'geom': {u'coordinates': [-73.29031, 45.4474], u'type': u'Point'},\n",
       "  u'name': u'Chambly'},\n",
       " {u'geom': {u'coordinates': [-73.47419, 45.35264], u'type': u'Point'},\n",
       "  u'name': u'Saint-Philippe-de-La Prairie'},\n",
       " {u'geom': {u'coordinates': [-73.30431, 45.42037], u'type': u'Point'},\n",
       "  u'name': u'Mont\\xe9r\\xe9gie'},\n",
       " {u'geom': {u'coordinates': [-73.29174, 45.47089], u'type': u'Point'},\n",
       "  u'name': u'\\xcele aux Li\\xe8vres'},\n",
       " {u'geom': {u'coordinates': [-73.29001, 45.46669], u'type': u'Point'},\n",
       "  u'name': u'\\xcele Demers'},\n",
       " {u'geom': {u'coordinates': [-73.35549, 45.43795], u'type': u'Point'},\n",
       "  u'name': u'Carignan'}]"
      ]
     },
     "execution_count": 27,
     "metadata": {},
     "output_type": "execute_result"
    }
   ],
   "source": [
    "query = \"\\\n",
    "SELECT name, geom from montreal_places \\\n",
    "WHERE ST_Distance(geom, ST_GeomFromText('SRID=4269;POINT(-73 45)')) < 0.6;\\\n",
    "\"\n",
    "queryResponse = requests.get('http://localhost:5000/v1/query?statement=' + query)\n",
    "queryResponse.json()['raw']"
   ]
  },
  {
   "cell_type": "markdown",
   "metadata": {},
   "source": [
    "#### Find Area of Features (Polygons)"
   ]
  },
  {
   "cell_type": "code",
   "execution_count": 34,
   "metadata": {
    "collapsed": false
   },
   "outputs": [
    {
     "data": {
      "text/plain": [
       "[[0.431404620000005],\n",
       " [0.722721385000264],\n",
       " [0.428706184999896],\n",
       " [2.09379702500001],\n",
       " [0.578057435000104]]"
      ]
     },
     "execution_count": 34,
     "metadata": {},
     "output_type": "execute_result"
    }
   ],
   "source": [
    "query = \"\\\n",
    "SELECT ST_Area(geom)*10000\\\n",
    "FROM dc_census_tracts \\\n",
    "LIMIT 5;\\\n",
    "\"\n",
    "queryResponse = requests.get('http://localhost:5000/v1/query?statement=' + query)\n",
    "queryResponse.json()['rows']"
   ]
  },
  {
   "cell_type": "markdown",
   "metadata": {},
   "source": [
    "#### Find box that englobes a complicated shape (polygon)"
   ]
  },
  {
   "cell_type": "code",
   "execution_count": null,
   "metadata": {
    "collapsed": true
   },
   "outputs": [],
   "source": [
    "query = \"\\\n",
    "SELECT ST_Area(geom)*10000\\\n",
    "FROM dc_census_tracts \\\n",
    "LIMIT 5;\\\n",
    "\"\n",
    "queryResponse = requests.get('http://localhost:5000/v1/query?statement=' + query)\n",
    "queryResponse.json()['rows']"
   ]
  },
  {
   "cell_type": "markdown",
   "metadata": {},
   "source": [
    "#### 4 - Geography"
   ]
  },
  {
   "cell_type": "markdown",
   "metadata": {},
   "source": [
    "Creating a table with a `GEOGRAPHY` type"
   ]
  },
  {
   "cell_type": "markdown",
   "metadata": {},
   "source": [
    "```\n",
    "CREATE TABLE global_points ( \n",
    "    id SERIAL PRIMARY KEY,\n",
    "    name VARCHAR(64),\n",
    "    location GEOGRAPHY(POINT,4326)\n",
    "  );\n",
    "``` "
   ]
  },
  {
   "cell_type": "markdown",
   "metadata": {},
   "source": [
    "```\n",
    "INSERT INTO global_points (name, location) VALUES ('Singapore', ST_GeographyFromText('SRID=4326;POINT(103.81 1.3521)') );\n",
    "INSERT INTO global_points (name, location) VALUES ('Montreal', ST_GeographyFromText('SRID=4326;POINT(-73.56 45.5)') );\n",
    "INSERT INTO global_points (name, location) VALUES ('London', ST_GeographyFromText('SRID=4326;POINT(0 49)') );\n",
    "```"
   ]
  },
  {
   "cell_type": "markdown",
   "metadata": {},
   "source": [
    "You can see the power of GEOGRAPHY in action by calculating the how close a plane flying from Seattle to London (LINESTRING(-122.33 47.606, 0.0 51.5)) comes to Montreal (POINT(-73.29031 45.4474))"
   ]
  },
  {
   "cell_type": "code",
   "execution_count": 37,
   "metadata": {
    "collapsed": false
   },
   "outputs": [
    {
     "data": {
      "text/plain": [
       "[[3, u'London', {u'coordinates': [0, 49], u'type': u'Point'}],\n",
       " [5, u'Montreal', {u'coordinates': [-73.56, 45.5], u'type': u'Point'}],\n",
       " [6, u'Singapore', {u'coordinates': [103.81, 1.3521], u'type': u'Point'}]]"
      ]
     },
     "execution_count": 37,
     "metadata": {},
     "output_type": "execute_result"
    }
   ],
   "source": [
    "query = \"\\\n",
    "SELECT * FROM global_points;\\\n",
    "\"\n",
    "queryResponse = requests.get('http://localhost:5000/v1/query?statement=' + query)\n",
    "queryResponse.json()['rows']"
   ]
  },
  {
   "cell_type": "markdown",
   "metadata": {},
   "source": [
    "Same default format (GeoJSON) as geometry from above examples."
   ]
  },
  {
   "cell_type": "markdown",
   "metadata": {},
   "source": [
    "Distance calculations using geography points, their SRID is 4326."
   ]
  },
  {
   "cell_type": "code",
   "execution_count": 43,
   "metadata": {
    "collapsed": false
   },
   "outputs": [
    {
     "data": {
      "text/plain": [
       "[[u'London', 5351.36474657502],\n",
       " [u'Montreal', 70.85493040627],\n",
       " [u'Singapore', 14859.8721747657]]"
      ]
     },
     "execution_count": 43,
     "metadata": {},
     "output_type": "execute_result"
    }
   ],
   "source": [
    "query = \"\\\n",
    "SELECT name, ST_Distance(location, ST_GeogFromText('SRID=4326;POINT(-73 45)'))/1000 \\\n",
    "FROM global_points;\\\n",
    "\"\n",
    "queryResponse = requests.get('http://localhost:5000/v1/query?statement=' + query)\n",
    "queryResponse.json()['rows']"
   ]
  }
 ],
 "metadata": {
  "kernelspec": {
   "display_name": "Python 2",
   "language": "python",
   "name": "python2"
  },
  "language_info": {
   "codemirror_mode": {
    "name": "ipython",
    "version": 2
   },
   "file_extension": ".py",
   "mimetype": "text/x-python",
   "name": "python",
   "nbconvert_exporter": "python",
   "pygments_lexer": "ipython2",
   "version": "2.7.11"
  }
 },
 "nbformat": 4,
 "nbformat_minor": 0
}
