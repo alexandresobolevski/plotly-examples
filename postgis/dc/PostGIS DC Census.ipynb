{
 "cells": [
  {
   "cell_type": "markdown",
   "metadata": {},
   "source": [
    "# Go Further with PostGIS and Plotly\n",
    "Assumptions: <br>\n",
    "- PostgreSQL is installed locally"
   ]
  },
  {
   "cell_type": "markdown",
   "metadata": {},
   "source": [
    "## Let's Setup"
   ]
  },
  {
   "cell_type": "markdown",
   "metadata": {},
   "source": [
    "Download and unzip the Plotly Database Connector app"
   ]
  },
  {
   "cell_type": "code",
   "execution_count": null,
   "metadata": {
    "collapsed": false
   },
   "outputs": [],
   "source": [
    "!wget https://github.com/plotly/plotly-database-connector/releases/download/v0.0.7-alpha/Plotly.Database.Connector-Mac.zip"
   ]
  },
  {
   "cell_type": "code",
   "execution_count": null,
   "metadata": {
    "collapsed": false
   },
   "outputs": [],
   "source": [
    "!unzip Plotly.Database.Connector-Mac.zip -d ./"
   ]
  },
  {
   "cell_type": "markdown",
   "metadata": {},
   "source": [
    "Download and unzip the data required for this example"
   ]
  },
  {
   "cell_type": "code",
   "execution_count": null,
   "metadata": {
    "collapsed": false
   },
   "outputs": [],
   "source": [
    "!wget https://github.com/plotly/plotly-database-connector/tree/master/examples/postgis/dc/dc_census.zip"
   ]
  },
  {
   "cell_type": "code",
   "execution_count": null,
   "metadata": {
    "collapsed": false
   },
   "outputs": [],
   "source": [
    "!unzip dc_census.zip -d ./"
   ]
  },
  {
   "cell_type": "markdown",
   "metadata": {},
   "source": [
    "Start your postgres server with a command similar to this (depending on where you installed PostgreSQL)<BR>\n",
    "$ postgres -D /usr/local/pgsql/data"
   ]
  },
  {
   "cell_type": "code",
   "execution_count": null,
   "metadata": {
    "collapsed": true
   },
   "outputs": [],
   "source": [
    "# Create a new postgreSQL database called 'dc_census_tracts'\n",
    "!createdb dc_census_tracts"
   ]
  },
  {
   "cell_type": "code",
   "execution_count": null,
   "metadata": {
    "collapsed": true
   },
   "outputs": [],
   "source": [
    "# add postgis language to the postgis database\n",
    "!createlang plpgsql dc_census_tracts\n",
    "# will get the following if it is there already :\n",
    "# $ language \"plpgsql\" is already installed in database \"postgis\""
   ]
  },
  {
   "cell_type": "code",
   "execution_count": null,
   "metadata": {
    "collapsed": true
   },
   "outputs": [],
   "source": [
    "# install the postgis extensions to the postgis database\n",
    "!psql -d dc_census_tracts -c \"CREATE EXTENSION postgis;\"\n",
    "!psql -d dc_census_tracts -c \"CREATE EXTENSION postgis_topology;\"\n",
    "# will get the following if they are already installed:\n",
    "# ERROR:  extension \"postgis\" already exists\n",
    "# ERROR:  extension \"postgis_topology\" already exists"
   ]
  },
  {
   "cell_type": "code",
   "execution_count": null,
   "metadata": {
    "collapsed": false
   },
   "outputs": [],
   "source": [
    "!cd dc_census && ls"
   ]
  },
  {
   "cell_type": "code",
   "execution_count": null,
   "metadata": {
    "collapsed": false
   },
   "outputs": [],
   "source": [
    "# Import shapefile\n",
    "!shp2pgsql -c -D -s 4269 -I dc_census/tl_2010_11001_tract10.shp dc_census_tracts | psql -d dc_census_tracts"
   ]
  },
  {
   "cell_type": "markdown",
   "metadata": {},
   "source": [
    "Create a table in the database by entering the pgsql prompt: <br>\n",
    "$ psql dc_census_tracts\n",
    "and entering the following SQL query into `dc_census_tracts=#` prompt\n",
    "```\n",
    "CREATE TABLE dc_census_data (GEOID varchar(11), SUMLEV varchar(3), STATE varchar(2), COUNTY varchar(3), CBSA varchar(5), CSA varchar(3), NECTA integer, CNECTA integer, NAME varchar(30), POP100 integer, HU100 integer, POP1002000 integer, HU1002000 integer, P001001 integer, P0010012000 integer);\n",
    "```"
   ]
  },
  {
   "cell_type": "code",
   "execution_count": null,
   "metadata": {
    "collapsed": false
   },
   "outputs": [],
   "source": [
    "!cat dc_census/all_140_in_11.P1.csv | psql -d dc_census_tracts -c 'COPY dc_census_data FROM STDIN WITH CSV HEADER'"
   ]
  },
  {
   "cell_type": "markdown",
   "metadata": {},
   "source": [
    "## Let's Connect To Our Database"
   ]
  },
  {
   "cell_type": "markdown",
   "metadata": {},
   "source": [
    "Start up the Plotly Database Application and connect to the `dc_census_tracts` database."
   ]
  },
  {
   "cell_type": "code",
   "execution_count": null,
   "metadata": {
    "collapsed": false
   },
   "outputs": [],
   "source": [
    "!open ./Plotly\\ Database\\ Connector-darwin-x64/Plotly\\ Database\\ Connector.app"
   ]
  },
  {
   "cell_type": "markdown",
   "metadata": {},
   "source": [
    "Follow the instructions until you are connected and can view the desired tables."
   ]
  },
  {
   "cell_type": "code",
   "execution_count": null,
   "metadata": {
    "collapsed": true
   },
   "outputs": [],
   "source": [
    "import pandas as pd"
   ]
  },
  {
   "cell_type": "code",
   "execution_count": 1,
   "metadata": {
    "collapsed": true
   },
   "outputs": [],
   "source": [
    "import requests"
   ]
  },
  {
   "cell_type": "markdown",
   "metadata": {},
   "source": [
    "Let's make sure the app is connected by using it's API."
   ]
  },
  {
   "cell_type": "code",
   "execution_count": null,
   "metadata": {
    "collapsed": true
   },
   "outputs": [],
   "source": [
    "auth = requests.get('http://localhost:5000/v1/authenticate')"
   ]
  },
  {
   "cell_type": "code",
   "execution_count": null,
   "metadata": {
    "collapsed": false
   },
   "outputs": [],
   "source": [
    "auth.json()"
   ]
  },
  {
   "cell_type": "markdown",
   "metadata": {},
   "source": [
    "The API permits us to switch databases if we have to, since we want to use `dc_census_data` selecting a database here is optional but here is how that would work:"
   ]
  },
  {
   "cell_type": "code",
   "execution_count": null,
   "metadata": {
    "collapsed": true
   },
   "outputs": [],
   "source": [
    "connectDatabase = requests.get('http://localhost:5000/v1/selectdatabase?database=dc_census_tracts')"
   ]
  },
  {
   "cell_type": "code",
   "execution_count": null,
   "metadata": {
    "collapsed": false
   },
   "outputs": [],
   "source": [
    "connectDatabase.json()"
   ]
  },
  {
   "cell_type": "markdown",
   "metadata": {},
   "source": [
    "We just created two tables in that databse: `dc_census_tacts` and `dc_census_data`. Let's make sure they are there by retreiving the list of tables from our database."
   ]
  },
  {
   "cell_type": "code",
   "execution_count": null,
   "metadata": {
    "collapsed": true
   },
   "outputs": [],
   "source": [
    "tables = requests.get('http://localhost:5000/v1/tables')"
   ]
  },
  {
   "cell_type": "code",
   "execution_count": null,
   "metadata": {
    "collapsed": false
   },
   "outputs": [],
   "source": [
    "tables.json()"
   ]
  },
  {
   "cell_type": "markdown",
   "metadata": {},
   "source": [
    "Looks like both `u'dc_census_tracts` and `u'dc_census_data` are there!"
   ]
  },
  {
   "cell_type": "markdown",
   "metadata": {},
   "source": [
    "## Let's Explore Our Data"
   ]
  },
  {
   "cell_type": "code",
   "execution_count": null,
   "metadata": {
    "collapsed": true
   },
   "outputs": [],
   "source": [
    "response = requests.get('http://localhost:5000/v1/preview?tables=dc_census_tracts,dc_census_data')"
   ]
  },
  {
   "cell_type": "markdown",
   "metadata": {},
   "source": [
    "The `response` received has a `previews` object that contains the first five rows of each table specified as in the above `tables` parameter of the request. Let's get into the table `dc_census_tracts` and see the geojson of the fifth row (index 4) row only. To get the geojson object we enter in to the `geom` key."
   ]
  },
  {
   "cell_type": "code",
   "execution_count": null,
   "metadata": {
    "collapsed": false,
    "scrolled": true
   },
   "outputs": [],
   "source": [
    "response.json()['previews'][0]['dc_census_tracts']['raw'][0]['geom']"
   ]
  },
  {
   "cell_type": "markdown",
   "metadata": {},
   "source": [
    "Looks like the data is a collection of complex Polygons."
   ]
  },
  {
   "cell_type": "markdown",
   "metadata": {},
   "source": [
    "Let's look at the other table, `dc_census_data`, whose preview is also in our response object."
   ]
  },
  {
   "cell_type": "code",
   "execution_count": null,
   "metadata": {
    "collapsed": false
   },
   "outputs": [],
   "source": [
    "df = pd.DataFrame(response.json()['previews'][1]['dc_census_data']['rows'])\n",
    "df.columns = response.json()['previews'][1]['dc_census_data']['columnnames']"
   ]
  },
  {
   "cell_type": "code",
   "execution_count": null,
   "metadata": {
    "collapsed": false
   },
   "outputs": [],
   "source": [
    "df"
   ]
  },
  {
   "cell_type": "markdown",
   "metadata": {},
   "source": [
    "Looks like it has population data for each county"
   ]
  },
  {
   "cell_type": "markdown",
   "metadata": {},
   "source": [
    "## Let's Extract Our Data"
   ]
  },
  {
   "cell_type": "markdown",
   "metadata": {},
   "source": [
    "We can define right from the start how much data exactly we want to visualize. Use an integer as `LIMIT` value or set it simply to be null i.e. `LIMIT = ''`"
   ]
  },
  {
   "cell_type": "code",
   "execution_count": 4,
   "metadata": {
    "collapsed": false
   },
   "outputs": [],
   "source": [
    "LIMIT = '' #'LIMIT 100'"
   ]
  },
  {
   "cell_type": "markdown",
   "metadata": {},
   "source": [
    "Let's combine both tables and do some analysis."
   ]
  },
  {
   "cell_type": "markdown",
   "metadata": {},
   "source": [
    "Right before, let's add a column that will have the centroid of each county. <br>\n",
    "Run these commands in the psql prompt.\n",
    "\n",
    "`ALTER TABLE \"dc_census_tracts\" ADD centroid_geom geometry;` <br>\n",
    "`UPDATE \"dc_census_tracts\" SET centroid_geom = ST_Centroid(geom);`"
   ]
  },
  {
   "cell_type": "code",
   "execution_count": 5,
   "metadata": {
    "collapsed": true
   },
   "outputs": [],
   "source": [
    "query = 'SELECT * from dc_census_tracts JOIN dc_census_data on dc_census_tracts.geoid10 = dc_census_data.geoid ' + LIMIT"
   ]
  },
  {
   "cell_type": "markdown",
   "metadata": {},
   "source": [
    "With the connector API we can send our own queries as well"
   ]
  },
  {
   "cell_type": "code",
   "execution_count": 6,
   "metadata": {
    "collapsed": false
   },
   "outputs": [],
   "source": [
    "queryResponse = requests.get('http://localhost:5000/v1/query?statement=' + query)"
   ]
  },
  {
   "cell_type": "code",
   "execution_count": null,
   "metadata": {
    "collapsed": false,
    "scrolled": true
   },
   "outputs": [],
   "source": [
    "# queryResponse.json()"
   ]
  },
  {
   "cell_type": "markdown",
   "metadata": {},
   "source": [
    "Looks like we have the data we need, let's create a geometries object that we can use when drawing shapes using plotly! These geometry objects are inside our data under the `geom` key."
   ]
  },
  {
   "cell_type": "markdown",
   "metadata": {},
   "source": [
    "## Let's Process Our Data"
   ]
  },
  {
   "cell_type": "markdown",
   "metadata": {},
   "source": [
    "We only need the raw response from PostGIS, let's put that into a local variable and go from there."
   ]
  },
  {
   "cell_type": "code",
   "execution_count": 7,
   "metadata": {
    "collapsed": true
   },
   "outputs": [],
   "source": [
    "locations = queryResponse.json()['raw']"
   ]
  },
  {
   "cell_type": "markdown",
   "metadata": {},
   "source": [
    "#### 1 Sectors of Counties"
   ]
  },
  {
   "cell_type": "code",
   "execution_count": 8,
   "metadata": {
    "collapsed": false
   },
   "outputs": [],
   "source": [
    "geometries = [location['geom'] for location in locations]"
   ]
  },
  {
   "cell_type": "code",
   "execution_count": 9,
   "metadata": {
    "collapsed": false
   },
   "outputs": [],
   "source": [
    "geojsons = [{\n",
    "    \"type\": \"FeatureCollection\",\n",
    "    \"features\": [{\n",
    "        \"type\": \"Feature\",\n",
    "        \"properties\": {},\n",
    "        \"geometry\": {\n",
    "            \"type\": \"GeometryCollection\",\n",
    "            \"geometries\": [geometry]\n",
    "        }\n",
    "    }]\n",
    "} for geometry in geometries]"
   ]
  },
  {
   "cell_type": "markdown",
   "metadata": {},
   "source": [
    "#### 2 Centroids of Counties"
   ]
  },
  {
   "cell_type": "code",
   "execution_count": 10,
   "metadata": {
    "collapsed": false
   },
   "outputs": [],
   "source": [
    "centroids = [location['centroid_geom'] for location in locations]"
   ]
  },
  {
   "cell_type": "code",
   "execution_count": null,
   "metadata": {
    "collapsed": false,
    "scrolled": true
   },
   "outputs": [],
   "source": [
    "# centroids"
   ]
  },
  {
   "cell_type": "markdown",
   "metadata": {},
   "source": [
    "#### 3 Populations of Counties"
   ]
  },
  {
   "cell_type": "code",
   "execution_count": 11,
   "metadata": {
    "collapsed": true
   },
   "outputs": [],
   "source": [
    "populations = [location['pop100'] for location in locations]"
   ]
  },
  {
   "cell_type": "code",
   "execution_count": null,
   "metadata": {
    "collapsed": false,
    "scrolled": true
   },
   "outputs": [],
   "source": [
    "# populations"
   ]
  },
  {
   "cell_type": "markdown",
   "metadata": {},
   "source": [
    "#### 4 A map of DC has to have the White House on it..."
   ]
  },
  {
   "cell_type": "code",
   "execution_count": 12,
   "metadata": {
    "collapsed": true
   },
   "outputs": [],
   "source": [
    "USA_HQ = dict(\n",
    "            lon='-77.0365',\n",
    "            lat='38.8977'\n",
    "        )"
   ]
  },
  {
   "cell_type": "markdown",
   "metadata": {},
   "source": [
    "## Let's Make a Plot!"
   ]
  },
  {
   "cell_type": "code",
   "execution_count": 13,
   "metadata": {
    "collapsed": true
   },
   "outputs": [],
   "source": [
    "import plotly.plotly as py\n",
    "import plotly.tools as tls\n",
    "from plotly.graph_objs import *"
   ]
  },
  {
   "cell_type": "code",
   "execution_count": 14,
   "metadata": {
    "collapsed": true
   },
   "outputs": [],
   "source": [
    "mapbox_access_token = 'pk.eyJ1IjoiY2hyaWRkeXAiLCJhIjoiRy1GV1FoNCJ9.yUPu7qwD_Eqf_gKNzDrrCQ'"
   ]
  },
  {
   "cell_type": "code",
   "execution_count": 16,
   "metadata": {
    "collapsed": false
   },
   "outputs": [],
   "source": [
    "data = Data([\n",
    "    Scattermapbox(\n",
    "        name='USA HQ',\n",
    "        lat=['38.8977'],\n",
    "        lon=['-77.0365'],\n",
    "        mode='markers',\n",
    "        marker=Marker(\n",
    "            size=10\n",
    "        ),\n",
    "        text=['Barack Obama lives in this house']\n",
    "    ),\n",
    "    Scattermapbox(\n",
    "        name='County Populations',\n",
    "        lat=[str(centroid['coordinates'][1]) for centroid in centroids],\n",
    "        lon=[str(centroid['coordinates'][0]) for centroid in centroids],\n",
    "        mode='markers',\n",
    "        marker=Marker(\n",
    "            size=10\n",
    "        ),\n",
    "        text=[str(population) + ' people live in this county' for population in populations]\n",
    "    )\n",
    "])"
   ]
  },
  {
   "cell_type": "code",
   "execution_count": 17,
   "metadata": {
    "collapsed": false
   },
   "outputs": [],
   "source": [
    "layout = Layout(\n",
    "    autosize=True,\n",
    "    hovermode='closest',\n",
    "    mapbox=dict(\n",
    "        accesstoken=mapbox_access_token,\n",
    "        center=dict(\n",
    "            lat=38.8977,\n",
    "            lon=-77.0365\n",
    "        ),\n",
    "        pitch=0,\n",
    "        zoom=12,\n",
    "        layers=[\n",
    "            {\n",
    "                'sourcetype':'geojson',\n",
    "                'source': geojson,\n",
    "                'type': 'fill',\n",
    "                'color': 'rgba(30, 30, 30, 0.2)'            \n",
    "            } for geojson in geojsons\n",
    "        ]\n",
    "    )\n",
    ")"
   ]
  },
  {
   "cell_type": "code",
   "execution_count": 18,
   "metadata": {
    "collapsed": false
   },
   "outputs": [],
   "source": [
    "fig = dict(data=data, layout=layout)"
   ]
  },
  {
   "cell_type": "code",
   "execution_count": 19,
   "metadata": {
    "collapsed": false
   },
   "outputs": [],
   "source": [
    "tls.set_credentials_file(username='alexandres', api_key='1mfdjhzsd3')"
   ]
  },
  {
   "cell_type": "code",
   "execution_count": null,
   "metadata": {
    "collapsed": false
   },
   "outputs": [],
   "source": [
    "py.iplot(fig, filename='dc_census')"
   ]
  },
  {
   "cell_type": "code",
   "execution_count": null,
   "metadata": {
    "collapsed": true
   },
   "outputs": [],
   "source": []
  }
 ],
 "metadata": {
  "kernelspec": {
   "display_name": "Python 2",
   "language": "python",
   "name": "python2"
  },
  "language_info": {
   "codemirror_mode": {
    "name": "ipython",
    "version": 2
   },
   "file_extension": ".py",
   "mimetype": "text/x-python",
   "name": "python",
   "nbconvert_exporter": "python",
   "pygments_lexer": "ipython2",
   "version": "2.7.11"
  }
 },
 "nbformat": 4,
 "nbformat_minor": 0
}
