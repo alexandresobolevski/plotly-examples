{
 "cells": [
  {
   "cell_type": "markdown",
   "metadata": {},
   "source": [
    "### Get started with PostGIS and Plotly\n",
    "Assumptions: <br>\n",
    "- PostgreSQL is installed locally\n",
    "- You are in the directory that contains `montreal_places` folder as an example"
   ]
  },
  {
   "cell_type": "markdown",
   "metadata": {},
   "source": [
    "Start your postgres server by running something like <br>\n",
    "$ postgres -D /usr/local/pgsql/data"
   ]
  },
  {
   "cell_type": "code",
   "execution_count": 1,
   "metadata": {
    "collapsed": false
   },
   "outputs": [
    {
     "name": "stdout",
     "output_type": "stream",
     "text": [
      "createdb: database creation failed: ERROR:  database \"postgis\" already exists\r\n"
     ]
    }
   ],
   "source": [
    "# Create a new postgreSQL database called 'postgis'\n",
    "!createdb postgis"
   ]
  },
  {
   "cell_type": "code",
   "execution_count": 2,
   "metadata": {
    "collapsed": false
   },
   "outputs": [
    {
     "name": "stdout",
     "output_type": "stream",
     "text": [
      "createlang: language \"plpgsql\" is already installed in database \"postgis\"\r\n"
     ]
    }
   ],
   "source": [
    "# add postgis language to the postgis database\n",
    "!createlang plpgsql dc\n",
    "# will get the following if it is there already :\n",
    "# $ language \"plpgsql\" is already installed in database \"postgis\""
   ]
  },
  {
   "cell_type": "code",
   "execution_count": 3,
   "metadata": {
    "collapsed": false
   },
   "outputs": [
    {
     "name": "stdout",
     "output_type": "stream",
     "text": [
      "ERROR:  extension \"postgis\" already exists\n",
      "ERROR:  extension \"postgis_topology\" already exists\n"
     ]
    }
   ],
   "source": [
    "# install the postgis extensions to the postgis database\n",
    "!psql -d postgis -c \"CREATE EXTENSION postgis;\"\n",
    "!psql -d postgis -c \"CREATE EXTENSION postgis_topology;\"\n",
    "# will get the following if they are already installed:\n",
    "# ERROR:  extension \"postgis\" already exists\n",
    "# ERROR:  extension \"postgis_topology\" already exists"
   ]
  },
  {
   "cell_type": "code",
   "execution_count": 4,
   "metadata": {
    "collapsed": false
   },
   "outputs": [
    {
     "name": "stdout",
     "output_type": "stream",
     "text": [
      "places.cpg places.dbf places.prj places.shp places.shx\r\n"
     ]
    }
   ],
   "source": [
    "!cd montreal_places && ls"
   ]
  },
  {
   "cell_type": "code",
   "execution_count": null,
   "metadata": {
    "collapsed": false
   },
   "outputs": [],
   "source": [
    "# Import shapefile\n",
    "!shp2pgsql -c -D -s 4269 -I montreal_places/places.shp montreal_places | psql -d postgis"
   ]
  },
  {
   "cell_type": "markdown",
   "metadata": {},
   "source": [
    "Start up the Plotly Database Application and connect to the `postgis` database. "
   ]
  },
  {
   "cell_type": "code",
   "execution_count": 5,
   "metadata": {
    "collapsed": true
   },
   "outputs": [],
   "source": [
    "import requests"
   ]
  },
  {
   "cell_type": "markdown",
   "metadata": {},
   "source": [
    "Make sure the connector is responsive by authenticating your connection."
   ]
  },
  {
   "cell_type": "code",
   "execution_count": 6,
   "metadata": {
    "collapsed": false
   },
   "outputs": [],
   "source": [
    "auth = requests.get('http://localhost:5000/v1/authenticate')"
   ]
  },
  {
   "cell_type": "code",
   "execution_count": 7,
   "metadata": {
    "collapsed": false
   },
   "outputs": [
    {
     "data": {
      "text/plain": [
       "{u'error': None}"
      ]
     },
     "execution_count": 7,
     "metadata": {},
     "output_type": "execute_result"
    }
   ],
   "source": [
    "auth.json()"
   ]
  },
  {
   "cell_type": "markdown",
   "metadata": {},
   "source": [
    "Select your postgis database."
   ]
  },
  {
   "cell_type": "code",
   "execution_count": 8,
   "metadata": {
    "collapsed": false
   },
   "outputs": [],
   "source": [
    "connectDatabase = requests.get('http://localhost:5000/v1/selectdatabase?database=postgis')"
   ]
  },
  {
   "cell_type": "code",
   "execution_count": 9,
   "metadata": {
    "collapsed": false
   },
   "outputs": [
    {
     "data": {
      "text/plain": [
       "{u'error': None}"
      ]
     },
     "execution_count": 9,
     "metadata": {},
     "output_type": "execute_result"
    }
   ],
   "source": [
    "connectDatabase.json()"
   ]
  },
  {
   "cell_type": "markdown",
   "metadata": {
    "collapsed": false
   },
   "source": [
    "Make sure `montreal_places` table is there."
   ]
  },
  {
   "cell_type": "code",
   "execution_count": 12,
   "metadata": {
    "collapsed": false
   },
   "outputs": [
    {
     "data": {
      "text/plain": [
       "{u'error': None,\n",
       " u'tables': [{u'geography_columns': {}},\n",
       "  {u'geometry_columns': {}},\n",
       "  {u'spatial_ref_sys': {}},\n",
       "  {u'raster_columns': {}},\n",
       "  {u'raster_overviews': {}},\n",
       "  {u'us_cities_2014': {}},\n",
       "  {u'postgis': {}},\n",
       "  {u'dc_census_tracts': {}},\n",
       "  {u'dc_census_data': {}},\n",
       "  {u'montreal_places': {}}]}"
      ]
     },
     "execution_count": 12,
     "metadata": {},
     "output_type": "execute_result"
    }
   ],
   "source": [
    "tables = requests.get('http://localhost:5000/v1/tables')\n",
    "tables.json()"
   ]
  },
  {
   "cell_type": "markdown",
   "metadata": {},
   "source": [
    "Looks like they are there!"
   ]
  },
  {
   "cell_type": "markdown",
   "metadata": {},
   "source": [
    "Now, let's place a query to our postgis database to receive the locations of bouroughs around Montreal."
   ]
  },
  {
   "cell_type": "code",
   "execution_count": 27,
   "metadata": {
    "collapsed": false
   },
   "outputs": [],
   "source": [
    "data = requests.get('http://localhost:5000/v1/query?statement=SELECT * FROM montreal_places LIMIT 100')"
   ]
  },
  {
   "cell_type": "code",
   "execution_count": 28,
   "metadata": {
    "collapsed": false,
    "scrolled": true
   },
   "outputs": [
    {
     "data": {
      "text/plain": [
       "[{u'geom': {u'coordinates': [-73.48916, 45.41746], u'type': u'Point'},\n",
       "  u'gid': 1,\n",
       "  u'name': u'La Prairie',\n",
       "  u'osm_id': 93887876,\n",
       "  u'population': None,\n",
       "  u'type': u'town'},\n",
       " {u'geom': {u'coordinates': [-73.80674, 45.45667], u'type': u'Point'},\n",
       "  u'gid': 2,\n",
       "  u'name': u'Pointe-Claire',\n",
       "  u'osm_id': 96699164,\n",
       "  u'population': None,\n",
       "  u'type': u'town'},\n",
       " {u'geom': {u'coordinates': [-73.75108, 45.4453], u'type': u'Point'},\n",
       "  u'gid': 3,\n",
       "  u'name': u'Dorval',\n",
       "  u'osm_id': 98875745,\n",
       "  u'population': None,\n",
       "  u'type': u'town'},\n",
       " {u'geom': {u'coordinates': [-73.8679, 45.42891], u'type': u'Point'},\n",
       "  u'gid': 4,\n",
       "  u'name': u'Beaconsfield',\n",
       "  u'osm_id': 98879474,\n",
       "  u'population': None,\n",
       "  u'type': u'town'},\n",
       " {u'geom': {u'coordinates': [-73.86475, 45.45291], u'type': u'Point'},\n",
       "  u'gid': 5,\n",
       "  u'name': u'Kirkland',\n",
       "  u'osm_id': 98882241,\n",
       "  u'population': None,\n",
       "  u'type': u'town'},\n",
       " {u'geom': {u'coordinates': [-73.848, 45.49524], u'type': u'Point'},\n",
       "  u'gid': 6,\n",
       "  u'name': u'Pierrefonds-Roxboro',\n",
       "  u'osm_id': 98885416,\n",
       "  u'population': None,\n",
       "  u'type': u'suburb'},\n",
       " {u'geom': {u'coordinates': [-73.91536, 45.41742], u'type': u'Point'},\n",
       "  u'gid': 7,\n",
       "  u'name': u\"Baie-d'Urf\\xe9\",\n",
       "  u'osm_id': 98890785,\n",
       "  u'population': u'3850',\n",
       "  u'type': u'village'},\n",
       " {u'geom': {u'coordinates': [-73.94614, 45.40928], u'type': u'Point'},\n",
       "  u'gid': 8,\n",
       "  u'name': u'Sainte-Anne-de-Bellevue',\n",
       "  u'osm_id': 98896591,\n",
       "  u'population': None,\n",
       "  u'type': u'village'},\n",
       " {u'geom': {u'coordinates': [-73.9572, 45.43867], u'type': u'Point'},\n",
       "  u'gid': 9,\n",
       "  u'name': u'Senneville',\n",
       "  u'osm_id': 98898352,\n",
       "  u'population': None,\n",
       "  u'type': u'village'},\n",
       " {u'geom': {u'coordinates': [-73.87014, 45.48047], u'type': u'Point'},\n",
       "  u'gid': 10,\n",
       "  u'name': u'Sainte-Genevi\\xe8ve',\n",
       "  u'osm_id': 98903176,\n",
       "  u'population': None,\n",
       "  u'type': u'suburb'},\n",
       " {u'geom': {u'coordinates': [-73.51638, 45.38679], u'type': u'Point'},\n",
       "  u'gid': 11,\n",
       "  u'name': u'Candiac',\n",
       "  u'osm_id': 100011674,\n",
       "  u'population': u'21500',\n",
       "  u'type': u'town'},\n",
       " {u'geom': {u'coordinates': [-73.46789, 45.45548], u'type': u'Point'},\n",
       "  u'gid': 12,\n",
       "  u'name': u'Brossard',\n",
       "  u'osm_id': 104588712,\n",
       "  u'population': None,\n",
       "  u'type': u'town'},\n",
       " {u'geom': {u'coordinates': [-73.99066, 45.38122], u'type': u'Point'},\n",
       "  u'gid': 13,\n",
       "  u'name': u'Pincourt',\n",
       "  u'osm_id': 128998138,\n",
       "  u'population': None,\n",
       "  u'type': u'town'},\n",
       " {u'geom': {u'coordinates': [-73.75878, 45.36371], u'type': u'Point'},\n",
       "  u'gid': 14,\n",
       "  u'name': u'Ch\\xe2teauguay',\n",
       "  u'osm_id': 130013126,\n",
       "  u'population': None,\n",
       "  u'type': u'town'},\n",
       " {u'geom': {u'coordinates': [-73.68052, 45.30041], u'type': u'Point'},\n",
       "  u'gid': 15,\n",
       "  u'name': u'Saint-Isidore',\n",
       "  u'osm_id': 158690182,\n",
       "  u'population': None,\n",
       "  u'type': u'village'},\n",
       " {u'geom': {u'coordinates': [-73.48213, 45.36178], u'type': u'Point'},\n",
       "  u'gid': 16,\n",
       "  u'name': u'Saint-Philippe',\n",
       "  u'osm_id': 177056412,\n",
       "  u'population': None,\n",
       "  u'type': u'village'},\n",
       " {u'geom': {u'coordinates': [-73.54185, 45.3755], u'type': u'Point'},\n",
       "  u'gid': 17,\n",
       "  u'name': u'Delson',\n",
       "  u'osm_id': 177197151,\n",
       "  u'population': None,\n",
       "  u'type': u'town'},\n",
       " {u'geom': {u'coordinates': [-73.5693, 45.37259], u'type': u'Point'},\n",
       "  u'gid': 18,\n",
       "  u'name': u'Saint-Constant',\n",
       "  u'osm_id': 177198238,\n",
       "  u'population': None,\n",
       "  u'type': u'town'},\n",
       " {u'geom': {u'coordinates': [-73.5721, 45.4052], u'type': u'Point'},\n",
       "  u'gid': 19,\n",
       "  u'name': u'Sainte-Catherine',\n",
       "  u'osm_id': 177199993,\n",
       "  u'population': None,\n",
       "  u'type': u'town'},\n",
       " {u'geom': {u'coordinates': [-73.51816, 45.31232], u'type': u'Point'},\n",
       "  u'gid': 20,\n",
       "  u'name': u'Saint-Mathieu',\n",
       "  u'osm_id': 179028272,\n",
       "  u'population': None,\n",
       "  u'type': u'village'},\n",
       " {u'geom': {u'coordinates': [-73.74537, 45.31128], u'type': u'Point'},\n",
       "  u'gid': 21,\n",
       "  u'name': u'Mercier',\n",
       "  u'osm_id': 185871579,\n",
       "  u'population': None,\n",
       "  u'type': u'town'},\n",
       " {u'geom': {u'coordinates': [-73.28765, 45.52624], u'type': u'Point'},\n",
       "  u'gid': 22,\n",
       "  u'name': u'Saint-Basile-le-Grand',\n",
       "  u'osm_id': 202583194,\n",
       "  u'population': None,\n",
       "  u'type': u'town'},\n",
       " {u'geom': {u'coordinates': [-73.34449, 45.31491], u'type': u'Point'},\n",
       "  u'gid': 23,\n",
       "  u'name': u\"L'Acadie\",\n",
       "  u'osm_id': 208852915,\n",
       "  u'population': None,\n",
       "  u'type': u'suburb'},\n",
       " {u'geom': {u'coordinates': [-73.30368, 45.36214], u'type': u'Point'},\n",
       "  u'gid': 24,\n",
       "  u'name': u'Saint-Luc',\n",
       "  u'osm_id': 209242840,\n",
       "  u'population': None,\n",
       "  u'type': u'suburb'},\n",
       " {u'geom': {u'coordinates': [-73.86186, 45.31606], u'type': u'Point'},\n",
       "  u'gid': 25,\n",
       "  u'name': u'Maple-Grove',\n",
       "  u'osm_id': 214017240,\n",
       "  u'population': None,\n",
       "  u'type': u'suburb'},\n",
       " {u'geom': {u'coordinates': [-73.87583, 45.31397], u'type': u'Point'},\n",
       "  u'gid': 26,\n",
       "  u'name': u'Beauharnois',\n",
       "  u'osm_id': 214018597,\n",
       "  u'population': u'12000',\n",
       "  u'type': u'town'},\n",
       " {u'geom': {u'coordinates': [-73.64699, 45.48115], u'type': u'Point'},\n",
       "  u'gid': 27,\n",
       "  u'name': u'Hampstead',\n",
       "  u'osm_id': 220858828,\n",
       "  u'population': None,\n",
       "  u'type': u'town'},\n",
       " {u'geom': {u'coordinates': [-73.62892, 45.46796], u'type': u'Point'},\n",
       "  u'gid': 28,\n",
       "  u'name': u'Notre-Dame-de-Gr\\xe2ce',\n",
       "  u'osm_id': 220862691,\n",
       "  u'population': None,\n",
       "  u'type': u'suburb'},\n",
       " {u'geom': {u'coordinates': [-73.58217, 45.52183], u'type': u'Point'},\n",
       "  u'gid': 29,\n",
       "  u'name': u'Le Plateau-Mont-Royal',\n",
       "  u'osm_id': 220864504,\n",
       "  u'population': None,\n",
       "  u'type': u'suburb'},\n",
       " {u'geom': {u'coordinates': [-73.60688, 45.51861], u'type': u'Point'},\n",
       "  u'gid': 30,\n",
       "  u'name': u'Outremont',\n",
       "  u'osm_id': 220866212,\n",
       "  u'population': None,\n",
       "  u'type': u'suburb'},\n",
       " {u'geom': {u'coordinates': [-73.68102, 45.43333], u'type': u'Point'},\n",
       "  u'gid': 31,\n",
       "  u'name': u'Lachine',\n",
       "  u'osm_id': 224778307,\n",
       "  u'population': None,\n",
       "  u'type': u'suburb'},\n",
       " {u'geom': {u'coordinates': [-73.62339, 45.4988], u'type': u'Point'},\n",
       "  u'gid': 32,\n",
       "  u'name': u'C\\xf4te-des-Neiges',\n",
       "  u'osm_id': 228929139,\n",
       "  u'population': None,\n",
       "  u'type': u'suburb'},\n",
       " {u'geom': {u'coordinates': [-73.45283, 45.7326], u'type': u'Point'},\n",
       "  u'gid': 33,\n",
       "  u'name': u'Repentigny',\n",
       "  u'osm_id': 245454424,\n",
       "  u'population': None,\n",
       "  u'type': u'town'},\n",
       " {u'geom': {u'coordinates': [-73.90433, 45.53725], u'type': u'Point'},\n",
       "  u'gid': 34,\n",
       "  u'name': u'Deux-Montagnes',\n",
       "  u'osm_id': 245812567,\n",
       "  u'population': None,\n",
       "  u'type': u'town'},\n",
       " {u'geom': {u'coordinates': [-73.4253, 45.54557], u'type': u'Point'},\n",
       "  u'gid': 35,\n",
       "  u'name': u'Longueuil',\n",
       "  u'osm_id': 252025539,\n",
       "  u'population': u'234352',\n",
       "  u'type': u'city'},\n",
       " {u'geom': {u'coordinates': [-73.83828, 45.61267], u'type': u'Point'},\n",
       "  u'gid': 36,\n",
       "  u'name': u'Boisbriand',\n",
       "  u'osm_id': 252174294,\n",
       "  u'population': None,\n",
       "  u'type': u'town'},\n",
       " {u'geom': {u'coordinates': [-73.80523, 45.63231], u'type': u'Point'},\n",
       "  u'gid': 37,\n",
       "  u'name': u'Rosem\\xe8re',\n",
       "  u'osm_id': 252174581,\n",
       "  u'population': None,\n",
       "  u'type': u'town'},\n",
       " {u'geom': {u'coordinates': [-73.83623, 45.63429], u'type': u'Point'},\n",
       "  u'gid': 38,\n",
       "  u'name': u'Sainte-Th\\xe9r\\xe8se',\n",
       "  u'osm_id': 252174942,\n",
       "  u'population': None,\n",
       "  u'type': u'town'},\n",
       " {u'geom': {u'coordinates': [-73.87424, 45.67962], u'type': u'Point'},\n",
       "  u'gid': 39,\n",
       "  u'name': u'Blainville',\n",
       "  u'osm_id': 252174981,\n",
       "  u'population': None,\n",
       "  u'type': u'town'},\n",
       " {u'geom': {u'coordinates': [-73.88209, 45.57551], u'type': u'Point'},\n",
       "  u'gid': 40,\n",
       "  u'name': u'Saint-Eustache',\n",
       "  u'osm_id': 252175057,\n",
       "  u'population': None,\n",
       "  u'type': u'town'},\n",
       " {u'geom': {u'coordinates': [-73.33959, 45.59306], u'type': u'Point'},\n",
       "  u'gid': 41,\n",
       "  u'name': u'Sainte-Julie',\n",
       "  u'osm_id': 264586449,\n",
       "  u'population': None,\n",
       "  u'type': u'town'},\n",
       " {u'geom': {u'coordinates': [-73.33917, 45.52561], u'type': u'Point'},\n",
       "  u'gid': 42,\n",
       "  u'name': u'Saint-Bruno-de-Montarville',\n",
       "  u'osm_id': 264590392,\n",
       "  u'population': None,\n",
       "  u'type': u'town'},\n",
       " {u'geom': {u'coordinates': [-73.48727, 45.49213], u'type': u'Point'},\n",
       "  u'gid': 43,\n",
       "  u'name': u'Greenfield Park',\n",
       "  u'osm_id': 267799308,\n",
       "  u'population': None,\n",
       "  u'type': u'suburb'},\n",
       " {u'geom': {u'coordinates': [-73.45664, 45.4578], u'type': u'Point'},\n",
       "  u'gid': 44,\n",
       "  u'name': u'M',\n",
       "  u'osm_id': 269362930,\n",
       "  u'population': None,\n",
       "  u'type': u'neighbourhood'},\n",
       " {u'geom': {u'coordinates': [-73.46093, 45.44852], u'type': u'Point'},\n",
       "  u'gid': 45,\n",
       "  u'name': u'N',\n",
       "  u'osm_id': 269708792,\n",
       "  u'population': None,\n",
       "  u'type': u'neighbourhood'},\n",
       " {u'geom': {u'coordinates': [-73.48173, 45.44042], u'type': u'Point'},\n",
       "  u'gid': 46,\n",
       "  u'name': u'R',\n",
       "  u'osm_id': 269709334,\n",
       "  u'population': None,\n",
       "  u'type': u'neighbourhood'},\n",
       " {u'geom': {u'coordinates': [-73.47953, 45.45243], u'type': u'Point'},\n",
       "  u'gid': 47,\n",
       "  u'name': u'S',\n",
       "  u'osm_id': 269709691,\n",
       "  u'population': None,\n",
       "  u'type': u'neighbourhood'},\n",
       " {u'geom': {u'coordinates': [-73.47887, 45.46085], u'type': u'Point'},\n",
       "  u'gid': 48,\n",
       "  u'name': u'T',\n",
       "  u'osm_id': 269709918,\n",
       "  u'population': None,\n",
       "  u'type': u'neighbourhood'},\n",
       " {u'geom': {u'coordinates': [-73.48264, 45.47124], u'type': u'Point'},\n",
       "  u'gid': 49,\n",
       "  u'name': u'P',\n",
       "  u'osm_id': 269709947,\n",
       "  u'population': None,\n",
       "  u'type': u'neighbourhood'},\n",
       " {u'geom': {u'coordinates': [-73.4934, 45.47359], u'type': u'Point'},\n",
       "  u'gid': 50,\n",
       "  u'name': u'V',\n",
       "  u'osm_id': 269711142,\n",
       "  u'population': None,\n",
       "  u'type': u'neighbourhood'},\n",
       " {u'geom': {u'coordinates': [-73.45917, 45.4756], u'type': u'Point'},\n",
       "  u'gid': 51,\n",
       "  u'name': u'A',\n",
       "  u'osm_id': 269711432,\n",
       "  u'population': None,\n",
       "  u'type': u'neighbourhood'},\n",
       " {u'geom': {u'coordinates': [-73.44641, 45.46893], u'type': u'Point'},\n",
       "  u'gid': 52,\n",
       "  u'name': u'B',\n",
       "  u'osm_id': 269711449,\n",
       "  u'population': None,\n",
       "  u'type': u'neighbourhood'},\n",
       " {u'geom': {u'coordinates': [-73.43117, 45.45816], u'type': u'Point'},\n",
       "  u'gid': 53,\n",
       "  u'name': u'C',\n",
       "  u'osm_id': 269714517,\n",
       "  u'population': None,\n",
       "  u'type': u'neighbourhood'},\n",
       " {u'geom': {u'coordinates': [-73.44596, 45.44483], u'type': u'Point'},\n",
       "  u'gid': 54,\n",
       "  u'name': u'L',\n",
       "  u'osm_id': 269714561,\n",
       "  u'population': None,\n",
       "  u'type': u'neighbourhood'},\n",
       " {u'geom': {u'coordinates': [-73.47035, 45.43241], u'type': u'Point'},\n",
       "  u'gid': 55,\n",
       "  u'name': u'I',\n",
       "  u'osm_id': 269714582,\n",
       "  u'population': None,\n",
       "  u'type': u'neighbourhood'},\n",
       " {u'geom': {u'coordinates': [-73.4584, 45.42779], u'type': u'Point'},\n",
       "  u'gid': 56,\n",
       "  u'name': u'J',\n",
       "  u'osm_id': 269714728,\n",
       "  u'population': None,\n",
       "  u'type': u'neighbourhood'},\n",
       " {u'geom': {u'coordinates': [-73.43638, 45.6835], u'type': u'Point'},\n",
       "  u'gid': 57,\n",
       "  u'name': u'Varennes',\n",
       "  u'osm_id': 271028030,\n",
       "  u'population': u'20500',\n",
       "  u'type': u'town'},\n",
       " {u'geom': {u'coordinates': [-74.01219, 45.62329], u'type': u'Point'},\n",
       "  u'gid': 58,\n",
       "  u'name': u'Mirabel',\n",
       "  u'osm_id': 272019420,\n",
       "  u'population': None,\n",
       "  u'type': u'town'},\n",
       " {u'geom': {u'coordinates': [-73.98061, 45.63277], u'type': u'Point'},\n",
       "  u'gid': 59,\n",
       "  u'name': u'Saint-Augustin',\n",
       "  u'osm_id': 272020135,\n",
       "  u'population': None,\n",
       "  u'type': u'suburb'},\n",
       " {u'geom': {u'coordinates': [-73.75624, 45.67132], u'type': u'Point'},\n",
       "  u'gid': 60,\n",
       "  u'name': u'Bois-des-Filion',\n",
       "  u'osm_id': 273275339,\n",
       "  u'population': None,\n",
       "  u'type': u'town'},\n",
       " {u'geom': {u'coordinates': [-73.28004, 45.74807], u'type': u'Point'},\n",
       "  u'gid': 61,\n",
       "  u'name': u'Calixa-Lavall\\xe9e',\n",
       "  u'osm_id': 280316859,\n",
       "  u'population': None,\n",
       "  u'type': u'village'},\n",
       " {u'geom': {u'coordinates': [-73.45261, 45.60501], u'type': u'Point'},\n",
       "  u'gid': 62,\n",
       "  u'name': u'Boucherville',\n",
       "  u'osm_id': 280333802,\n",
       "  u'population': None,\n",
       "  u'type': u'town'},\n",
       " {u'geom': {u'coordinates': [-73.49823, 45.63104], u'type': u'Point'},\n",
       "  u'gid': 63,\n",
       "  u'name': u'Montr\\xe9al-Est',\n",
       "  u'osm_id': 292783052,\n",
       "  u'population': None,\n",
       "  u'type': u'town'},\n",
       " {u'geom': {u'coordinates': [-73.55398, 45.50879], u'type': u'Point'},\n",
       "  u'gid': 64,\n",
       "  u'name': u'Montr\\xe9al',\n",
       "  u'osm_id': 299790200,\n",
       "  u'population': u'1651000',\n",
       "  u'type': u'city'},\n",
       " {u'geom': {u'coordinates': [-74.05264, 45.74837], u'type': u'Point'},\n",
       "  u'gid': 65,\n",
       "  u'name': u'Mirabel en Haut',\n",
       "  u'osm_id': 358643476,\n",
       "  u'population': None,\n",
       "  u'type': u'suburb'},\n",
       " {u'geom': {u'coordinates': [-73.47366, 45.50086], u'type': u'Point'},\n",
       "  u'gid': 66,\n",
       "  u'name': u'Lafl\\xe8che',\n",
       "  u'osm_id': 386086701,\n",
       "  u'population': None,\n",
       "  u'type': u'locality'},\n",
       " {u'geom': {u'coordinates': [-73.62099, 45.51059], u'type': u'Point'},\n",
       "  u'gid': 67,\n",
       "  u'name': u'Sanctuaire du Mont-Royal',\n",
       "  u'osm_id': 392111490,\n",
       "  u'population': None,\n",
       "  u'type': u'hamlet'},\n",
       " {u'geom': {u'coordinates': [-73.67897, 45.54308], u'type': u'Point'},\n",
       "  u'gid': 68,\n",
       "  u'name': u'Ahuntsic-Cartierville',\n",
       "  u'osm_id': 444830431,\n",
       "  u'population': None,\n",
       "  u'type': u'suburb'},\n",
       " {u'geom': {u'coordinates': [-73.51054, 45.50083], u'type': u'Point'},\n",
       "  u'gid': 69,\n",
       "  u'name': u'Saint-Lambert',\n",
       "  u'osm_id': 564911901,\n",
       "  u'population': None,\n",
       "  u'type': u'village'},\n",
       " {u'geom': {u'coordinates': [-73.49314, 45.52619], u'type': u'Point'},\n",
       "  u'gid': 70,\n",
       "  u'name': u'Vieux-Longueuil',\n",
       "  u'osm_id': 564912134,\n",
       "  u'population': None,\n",
       "  u'type': u'suburb'},\n",
       " {u'geom': {u'coordinates': [-73.42169, 45.50427], u'type': u'Point'},\n",
       "  u'gid': 71,\n",
       "  u'name': u'Saint-Hubert',\n",
       "  u'osm_id': 568463704,\n",
       "  u'population': None,\n",
       "  u'type': u'suburb'},\n",
       " {u'geom': {u'coordinates': [-73.29031, 45.4474], u'type': u'Point'},\n",
       "  u'gid': 72,\n",
       "  u'name': u'Chambly',\n",
       "  u'osm_id': 618965944,\n",
       "  u'population': None,\n",
       "  u'type': u'town'},\n",
       " {u'geom': {u'coordinates': [-73.57192, 45.66651], u'type': u'Point'},\n",
       "  u'gid': 73,\n",
       "  u'name': u'Saint-Fran\\xe7ois',\n",
       "  u'osm_id': 668442086,\n",
       "  u'population': None,\n",
       "  u'type': u'locality'},\n",
       " {u'geom': {u'coordinates': [-73.48327, 45.60977], u'type': u'Point'},\n",
       "  u'gid': 74,\n",
       "  u'name': u'\\xceles de Boucherville',\n",
       "  u'osm_id': 915977591,\n",
       "  u'population': None,\n",
       "  u'type': u'island'},\n",
       " {u'geom': {u'coordinates': [-73.46817, 45.56704], u'type': u'Point'},\n",
       "  u'gid': 75,\n",
       "  u'name': u'Terrasse-Charbonneau',\n",
       "  u'osm_id': 916284755,\n",
       "  u'population': None,\n",
       "  u'type': u'locality'},\n",
       " {u'geom': {u'coordinates': [-73.4333, 45.61686], u'type': u'Point'},\n",
       "  u'gid': 76,\n",
       "  u'name': u'\\xcele des Fr\\xeanes',\n",
       "  u'osm_id': 917528392,\n",
       "  u'population': None,\n",
       "  u'type': u'island'},\n",
       " {u'geom': {u'coordinates': [-73.31709, 45.56899], u'type': u'Point'},\n",
       "  u'gid': 77,\n",
       "  u'name': u'Domaine-des-Hauts-Bois',\n",
       "  u'osm_id': 917929874,\n",
       "  u'population': None,\n",
       "  u'type': u'neighbourhood'},\n",
       " {u'geom': {u'coordinates': [-73.46794, 45.65155], u'type': u'Point'},\n",
       "  u'gid': 78,\n",
       "  u'name': u'\\xcele Saint-Patrice',\n",
       "  u'osm_id': 924332744,\n",
       "  u'population': None,\n",
       "  u'type': u'island'},\n",
       " {u'geom': {u'coordinates': [-73.45705, 45.65488], u'type': u'Point'},\n",
       "  u'gid': 79,\n",
       "  u'name': u'\\xceles de Varennes',\n",
       "  u'osm_id': 924336715,\n",
       "  u'population': None,\n",
       "  u'type': u'island'},\n",
       " {u'geom': {u'coordinates': [-73.32135, 45.66345], u'type': u'Point'},\n",
       "  u'gid': 80,\n",
       "  u'name': u'Domaine-Beaudry',\n",
       "  u'osm_id': 924588147,\n",
       "  u'population': None,\n",
       "  u'type': u'locality'},\n",
       " {u'geom': {u'coordinates': [-73.29562, 45.65246], u'type': u'Point'},\n",
       "  u'gid': 81,\n",
       "  u'name': u'Saint-Amable',\n",
       "  u'osm_id': 924595881,\n",
       "  u'population': None,\n",
       "  u'type': u'village'},\n",
       " {u'geom': {u'coordinates': [-73.56018, 45.50794], u'type': u'Point'},\n",
       "  u'gid': 82,\n",
       "  u'name': u'Quartier Chinois',\n",
       "  u'osm_id': 936063542,\n",
       "  u'population': None,\n",
       "  u'type': u'neighbourhood'},\n",
       " {u'geom': {u'coordinates': [-73.56531, 45.508], u'type': u'Point'},\n",
       "  u'gid': 83,\n",
       "  u'name': u'Quartier des Spectacles',\n",
       "  u'osm_id': 936063543,\n",
       "  u'population': None,\n",
       "  u'type': u'neighbourhood'},\n",
       " {u'geom': {u'coordinates': [-73.49762, 45.72635], u'type': u'Point'},\n",
       "  u'gid': 84,\n",
       "  u'name': u'Charlemagne',\n",
       "  u'osm_id': 950673523,\n",
       "  u'population': None,\n",
       "  u'type': u'village'},\n",
       " {u'geom': {u'coordinates': [-73.48111, 45.69943], u'type': u'Point'},\n",
       "  u'gid': 85,\n",
       "  u'name': u\"Bout-de-l'\\xcele\",\n",
       "  u'osm_id': 950760969,\n",
       "  u'population': None,\n",
       "  u'type': u'locality'},\n",
       " {u'geom': {u'coordinates': [-73.43242, 45.69936], u'type': u'Point'},\n",
       "  u'gid': 86,\n",
       "  u'name': u'La Saline',\n",
       "  u'osm_id': 951124929,\n",
       "  u'population': None,\n",
       "  u'type': u'locality'},\n",
       " {u'geom': {u'coordinates': [-73.8805, 45.52577], u'type': u'Point'},\n",
       "  u'gid': 87,\n",
       "  u'name': u'Laval-sur-le-Lac',\n",
       "  u'osm_id': 964848789,\n",
       "  u'population': None,\n",
       "  u'type': u'suburb'},\n",
       " {u'geom': {u'coordinates': [-73.8696, 45.54373], u'type': u'Point'},\n",
       "  u'gid': 88,\n",
       "  u'name': u'Laval-Ouest',\n",
       "  u'osm_id': 964848792,\n",
       "  u'population': None,\n",
       "  u'type': u'suburb'},\n",
       " {u'geom': {u'coordinates': [-73.55744, 45.50336], u'type': u'Point'},\n",
       "  u'gid': 89,\n",
       "  u'name': u'Vieux-Montr\\xe9al',\n",
       "  u'osm_id': 965631912,\n",
       "  u'population': None,\n",
       "  u'type': u'neighbourhood'},\n",
       " {u'geom': {u'coordinates': [-73.56519, 45.46038], u'type': u'Point'},\n",
       "  u'gid': 90,\n",
       "  u'name': u'Verdun',\n",
       "  u'osm_id': 968691679,\n",
       "  u'population': None,\n",
       "  u'type': u'suburb'},\n",
       " {u'geom': {u'coordinates': [-73.47419, 45.35264], u'type': u'Point'},\n",
       "  u'gid': 91,\n",
       "  u'name': u'Saint-Philippe-de-La Prairie',\n",
       "  u'osm_id': 974927344,\n",
       "  u'population': None,\n",
       "  u'type': u'locality'},\n",
       " {u'geom': {u'coordinates': [-73.71682, 45.62992], u'type': u'Point'},\n",
       "  u'gid': 92,\n",
       "  u'name': u'Laval',\n",
       "  u'osm_id': 979092789,\n",
       "  u'population': u'391893',\n",
       "  u'type': u'city'},\n",
       " {u'geom': {u'coordinates': [-73.62926, 45.43251], u'type': u'Point'},\n",
       "  u'gid': 93,\n",
       "  u'name': u'LaSalle',\n",
       "  u'osm_id': 985931307,\n",
       "  u'population': None,\n",
       "  u'type': u'suburb'},\n",
       " {u'geom': {u'coordinates': [-73.82, 45.52848], u'type': u'Point'},\n",
       "  u'gid': 94,\n",
       "  u'name': u'Sainte-Doroth\\xe9e',\n",
       "  u'osm_id': 988805261,\n",
       "  u'population': None,\n",
       "  u'type': u'suburb'},\n",
       " {u'geom': {u'coordinates': [-73.30431, 45.42037], u'type': u'Point'},\n",
       "  u'gid': 95,\n",
       "  u'name': u'Mont\\xe9r\\xe9gie',\n",
       "  u'osm_id': 1012810081,\n",
       "  u'population': u'1369000',\n",
       "  u'type': u'region'},\n",
       " {u'geom': {u'coordinates': [-73.55505, 45.51941], u'type': u'Point'},\n",
       "  u'gid': 96,\n",
       "  u'name': u'Village gai',\n",
       "  u'osm_id': 1069247679,\n",
       "  u'population': None,\n",
       "  u'type': u'neighbourhood'},\n",
       " {u'geom': {u'coordinates': [-73.54762, 45.54213], u'type': u'Point'},\n",
       "  u'gid': 97,\n",
       "  u'name': u'Hochelaga',\n",
       "  u'osm_id': 1070173912,\n",
       "  u'population': None,\n",
       "  u'type': u'suburb'},\n",
       " {u'geom': {u'coordinates': [-74.05823, 45.30846], u'type': u'Point'},\n",
       "  u'gid': 98,\n",
       "  u'name': u'Les C\\xe8dres',\n",
       "  u'osm_id': 1074219230,\n",
       "  u'population': None,\n",
       "  u'type': u'village'},\n",
       " {u'geom': {u'coordinates': [-74.04093, 45.41981], u'type': u'Point'},\n",
       "  u'gid': 99,\n",
       "  u'name': u'Vaudreuil-sur-le-Lac',\n",
       "  u'osm_id': 1074412306,\n",
       "  u'population': u'1500',\n",
       "  u'type': u'suburb'},\n",
       " {u'geom': {u'coordinates': [-74.06919, 45.43472], u'type': u'Point'},\n",
       "  u'gid': 100,\n",
       "  u'name': u\"L'Anse-Vaudreuil\",\n",
       "  u'osm_id': 1074416844,\n",
       "  u'population': None,\n",
       "  u'type': u'locality'}]"
      ]
     },
     "execution_count": 28,
     "metadata": {},
     "output_type": "execute_result"
    }
   ],
   "source": [
    "locations = data.json()['raw']\n",
    "locations"
   ]
  },
  {
   "cell_type": "code",
   "execution_count": 30,
   "metadata": {
    "collapsed": false,
    "scrolled": true
   },
   "outputs": [
    {
     "data": {
      "text/plain": [
       "[{u'coordinates': [-73.48916, 45.41746], u'type': u'Point'},\n",
       " {u'coordinates': [-73.80674, 45.45667], u'type': u'Point'},\n",
       " {u'coordinates': [-73.75108, 45.4453], u'type': u'Point'},\n",
       " {u'coordinates': [-73.8679, 45.42891], u'type': u'Point'},\n",
       " {u'coordinates': [-73.86475, 45.45291], u'type': u'Point'},\n",
       " {u'coordinates': [-73.848, 45.49524], u'type': u'Point'},\n",
       " {u'coordinates': [-73.91536, 45.41742], u'type': u'Point'},\n",
       " {u'coordinates': [-73.94614, 45.40928], u'type': u'Point'},\n",
       " {u'coordinates': [-73.9572, 45.43867], u'type': u'Point'},\n",
       " {u'coordinates': [-73.87014, 45.48047], u'type': u'Point'},\n",
       " {u'coordinates': [-73.51638, 45.38679], u'type': u'Point'},\n",
       " {u'coordinates': [-73.46789, 45.45548], u'type': u'Point'},\n",
       " {u'coordinates': [-73.99066, 45.38122], u'type': u'Point'},\n",
       " {u'coordinates': [-73.75878, 45.36371], u'type': u'Point'},\n",
       " {u'coordinates': [-73.68052, 45.30041], u'type': u'Point'},\n",
       " {u'coordinates': [-73.48213, 45.36178], u'type': u'Point'},\n",
       " {u'coordinates': [-73.54185, 45.3755], u'type': u'Point'},\n",
       " {u'coordinates': [-73.5693, 45.37259], u'type': u'Point'},\n",
       " {u'coordinates': [-73.5721, 45.4052], u'type': u'Point'},\n",
       " {u'coordinates': [-73.51816, 45.31232], u'type': u'Point'},\n",
       " {u'coordinates': [-73.74537, 45.31128], u'type': u'Point'},\n",
       " {u'coordinates': [-73.28765, 45.52624], u'type': u'Point'},\n",
       " {u'coordinates': [-73.34449, 45.31491], u'type': u'Point'},\n",
       " {u'coordinates': [-73.30368, 45.36214], u'type': u'Point'},\n",
       " {u'coordinates': [-73.86186, 45.31606], u'type': u'Point'},\n",
       " {u'coordinates': [-73.87583, 45.31397], u'type': u'Point'},\n",
       " {u'coordinates': [-73.64699, 45.48115], u'type': u'Point'},\n",
       " {u'coordinates': [-73.62892, 45.46796], u'type': u'Point'},\n",
       " {u'coordinates': [-73.58217, 45.52183], u'type': u'Point'},\n",
       " {u'coordinates': [-73.60688, 45.51861], u'type': u'Point'},\n",
       " {u'coordinates': [-73.68102, 45.43333], u'type': u'Point'},\n",
       " {u'coordinates': [-73.62339, 45.4988], u'type': u'Point'},\n",
       " {u'coordinates': [-73.45283, 45.7326], u'type': u'Point'},\n",
       " {u'coordinates': [-73.90433, 45.53725], u'type': u'Point'},\n",
       " {u'coordinates': [-73.4253, 45.54557], u'type': u'Point'},\n",
       " {u'coordinates': [-73.83828, 45.61267], u'type': u'Point'},\n",
       " {u'coordinates': [-73.80523, 45.63231], u'type': u'Point'},\n",
       " {u'coordinates': [-73.83623, 45.63429], u'type': u'Point'},\n",
       " {u'coordinates': [-73.87424, 45.67962], u'type': u'Point'},\n",
       " {u'coordinates': [-73.88209, 45.57551], u'type': u'Point'},\n",
       " {u'coordinates': [-73.33959, 45.59306], u'type': u'Point'},\n",
       " {u'coordinates': [-73.33917, 45.52561], u'type': u'Point'},\n",
       " {u'coordinates': [-73.48727, 45.49213], u'type': u'Point'},\n",
       " {u'coordinates': [-73.45664, 45.4578], u'type': u'Point'},\n",
       " {u'coordinates': [-73.46093, 45.44852], u'type': u'Point'},\n",
       " {u'coordinates': [-73.48173, 45.44042], u'type': u'Point'},\n",
       " {u'coordinates': [-73.47953, 45.45243], u'type': u'Point'},\n",
       " {u'coordinates': [-73.47887, 45.46085], u'type': u'Point'},\n",
       " {u'coordinates': [-73.48264, 45.47124], u'type': u'Point'},\n",
       " {u'coordinates': [-73.4934, 45.47359], u'type': u'Point'},\n",
       " {u'coordinates': [-73.45917, 45.4756], u'type': u'Point'},\n",
       " {u'coordinates': [-73.44641, 45.46893], u'type': u'Point'},\n",
       " {u'coordinates': [-73.43117, 45.45816], u'type': u'Point'},\n",
       " {u'coordinates': [-73.44596, 45.44483], u'type': u'Point'},\n",
       " {u'coordinates': [-73.47035, 45.43241], u'type': u'Point'},\n",
       " {u'coordinates': [-73.4584, 45.42779], u'type': u'Point'},\n",
       " {u'coordinates': [-73.43638, 45.6835], u'type': u'Point'},\n",
       " {u'coordinates': [-74.01219, 45.62329], u'type': u'Point'},\n",
       " {u'coordinates': [-73.98061, 45.63277], u'type': u'Point'},\n",
       " {u'coordinates': [-73.75624, 45.67132], u'type': u'Point'},\n",
       " {u'coordinates': [-73.28004, 45.74807], u'type': u'Point'},\n",
       " {u'coordinates': [-73.45261, 45.60501], u'type': u'Point'},\n",
       " {u'coordinates': [-73.49823, 45.63104], u'type': u'Point'},\n",
       " {u'coordinates': [-73.55398, 45.50879], u'type': u'Point'},\n",
       " {u'coordinates': [-74.05264, 45.74837], u'type': u'Point'},\n",
       " {u'coordinates': [-73.47366, 45.50086], u'type': u'Point'},\n",
       " {u'coordinates': [-73.62099, 45.51059], u'type': u'Point'},\n",
       " {u'coordinates': [-73.67897, 45.54308], u'type': u'Point'},\n",
       " {u'coordinates': [-73.51054, 45.50083], u'type': u'Point'},\n",
       " {u'coordinates': [-73.49314, 45.52619], u'type': u'Point'},\n",
       " {u'coordinates': [-73.42169, 45.50427], u'type': u'Point'},\n",
       " {u'coordinates': [-73.29031, 45.4474], u'type': u'Point'},\n",
       " {u'coordinates': [-73.57192, 45.66651], u'type': u'Point'},\n",
       " {u'coordinates': [-73.48327, 45.60977], u'type': u'Point'},\n",
       " {u'coordinates': [-73.46817, 45.56704], u'type': u'Point'},\n",
       " {u'coordinates': [-73.4333, 45.61686], u'type': u'Point'},\n",
       " {u'coordinates': [-73.31709, 45.56899], u'type': u'Point'},\n",
       " {u'coordinates': [-73.46794, 45.65155], u'type': u'Point'},\n",
       " {u'coordinates': [-73.45705, 45.65488], u'type': u'Point'},\n",
       " {u'coordinates': [-73.32135, 45.66345], u'type': u'Point'},\n",
       " {u'coordinates': [-73.29562, 45.65246], u'type': u'Point'},\n",
       " {u'coordinates': [-73.56018, 45.50794], u'type': u'Point'},\n",
       " {u'coordinates': [-73.56531, 45.508], u'type': u'Point'},\n",
       " {u'coordinates': [-73.49762, 45.72635], u'type': u'Point'},\n",
       " {u'coordinates': [-73.48111, 45.69943], u'type': u'Point'},\n",
       " {u'coordinates': [-73.43242, 45.69936], u'type': u'Point'},\n",
       " {u'coordinates': [-73.8805, 45.52577], u'type': u'Point'},\n",
       " {u'coordinates': [-73.8696, 45.54373], u'type': u'Point'},\n",
       " {u'coordinates': [-73.55744, 45.50336], u'type': u'Point'},\n",
       " {u'coordinates': [-73.56519, 45.46038], u'type': u'Point'},\n",
       " {u'coordinates': [-73.47419, 45.35264], u'type': u'Point'},\n",
       " {u'coordinates': [-73.71682, 45.62992], u'type': u'Point'},\n",
       " {u'coordinates': [-73.62926, 45.43251], u'type': u'Point'},\n",
       " {u'coordinates': [-73.82, 45.52848], u'type': u'Point'},\n",
       " {u'coordinates': [-73.30431, 45.42037], u'type': u'Point'},\n",
       " {u'coordinates': [-73.55505, 45.51941], u'type': u'Point'},\n",
       " {u'coordinates': [-73.54762, 45.54213], u'type': u'Point'},\n",
       " {u'coordinates': [-74.05823, 45.30846], u'type': u'Point'},\n",
       " {u'coordinates': [-74.04093, 45.41981], u'type': u'Point'},\n",
       " {u'coordinates': [-74.06919, 45.43472], u'type': u'Point'}]"
      ]
     },
     "execution_count": 30,
     "metadata": {},
     "output_type": "execute_result"
    }
   ],
   "source": [
    "geometries = [location['geom'] for location in locations]\n",
    "geometries"
   ]
  },
  {
   "cell_type": "code",
   "execution_count": 31,
   "metadata": {
    "collapsed": false
   },
   "outputs": [],
   "source": [
    "geojsons = [{\n",
    "    \"type\": \"FeatureCollection\",\n",
    "    \"features\": [{\n",
    "        \"type\": \"Feature\",\n",
    "        \"properties\": {},\n",
    "        \"geometry\": {\n",
    "            \"type\": \"GeometryCollection\",\n",
    "            \"geometries\": [geometry]\n",
    "        }\n",
    "    }]\n",
    "} for geometry in geometries]"
   ]
  },
  {
   "cell_type": "code",
   "execution_count": 32,
   "metadata": {
    "collapsed": true
   },
   "outputs": [],
   "source": [
    "plotly_hq = dict(\n",
    "            lon='-73.597379',\n",
    "            lat='45.527937'\n",
    "        )"
   ]
  },
  {
   "cell_type": "code",
   "execution_count": 33,
   "metadata": {
    "collapsed": true
   },
   "outputs": [],
   "source": [
    "import plotly.plotly as py\n",
    "import plotly.tools as tls\n",
    "from plotly.graph_objs import *"
   ]
  },
  {
   "cell_type": "code",
   "execution_count": 34,
   "metadata": {
    "collapsed": true
   },
   "outputs": [],
   "source": [
    "mapbox_access_token = 'pk.eyJ1IjoiY2hyaWRkeXAiLCJhIjoiRy1GV1FoNCJ9.yUPu7qwD_Eqf_gKNzDrrCQ'"
   ]
  },
  {
   "cell_type": "code",
   "execution_count": 35,
   "metadata": {
    "collapsed": false
   },
   "outputs": [],
   "source": [
    "data = Data([\n",
    "    Scattermapbox(\n",
    "        lat=['45.527937'],\n",
    "        lon=['-73.597379'],\n",
    "        mode='markers',\n",
    "        marker=Marker(\n",
    "            size=10\n",
    "        ),\n",
    "        text=['Plotly HQ'],\n",
    "    )\n",
    "])"
   ]
  },
  {
   "cell_type": "code",
   "execution_count": 36,
   "metadata": {
    "collapsed": false
   },
   "outputs": [],
   "source": [
    "layout = Layout(\n",
    "    autosize=True,\n",
    "    hovermode='closest',\n",
    "    mapbox=dict(\n",
    "        accesstoken=mapbox_access_token,\n",
    "        center=dict(\n",
    "            lat=45.5,\n",
    "            lon=-73.6\n",
    "        ),\n",
    "        pitch=0,\n",
    "        zoom=8,\n",
    "        layers=[\n",
    "            {\n",
    "                'sourcetype':'geojson',\n",
    "                'source': geojson,\n",
    "                'type':'symbol'\n",
    "            } for geojson in geojsons\n",
    "        ]\n",
    "    )\n",
    ")"
   ]
  },
  {
   "cell_type": "code",
   "execution_count": 37,
   "metadata": {
    "collapsed": true
   },
   "outputs": [],
   "source": [
    "fig = dict(data=data, layout=layout)"
   ]
  },
  {
   "cell_type": "code",
   "execution_count": 38,
   "metadata": {
    "collapsed": false
   },
   "outputs": [],
   "source": [
    "# tls.set_credentials_file(username='alexandres', api_key='')"
   ]
  },
  {
   "cell_type": "code",
   "execution_count": 39,
   "metadata": {
    "collapsed": false,
    "scrolled": false
   },
   "outputs": [
    {
     "data": {
      "text/html": [
       "<iframe id=\"igraph\" scrolling=\"no\" style=\"border:none;\"seamless=\"seamless\" src=\"https://plot.ly/~alexandres/138.embed\" height=\"525px\" width=\"100%\"></iframe>"
      ],
      "text/plain": [
       "<plotly.tools.PlotlyDisplay object>"
      ]
     },
     "execution_count": 39,
     "metadata": {},
     "output_type": "execute_result"
    }
   ],
   "source": [
    "# py.iplot(fig, filename='montreal_places') # this goes into 138"
   ]
  },
  {
   "cell_type": "code",
   "execution_count": 40,
   "metadata": {
    "collapsed": false
   },
   "outputs": [
    {
     "data": {
      "text/html": [
       "<iframe id=\"igraph\" scrolling=\"no\" style=\"border:none;\"seamless=\"seamless\" src=\"https://plot.ly/~alexandres/138.embed\" height=\"525\" width=\"100%\"></iframe>"
      ],
      "text/plain": [
       "<plotly.tools.PlotlyDisplay object>"
      ]
     },
     "execution_count": 40,
     "metadata": {},
     "output_type": "execute_result"
    }
   ],
   "source": [
    "tls.embed(\"https://plot.ly/~alexandres/138/\")"
   ]
  },
  {
   "cell_type": "code",
   "execution_count": null,
   "metadata": {
    "collapsed": true
   },
   "outputs": [],
   "source": []
  }
 ],
 "metadata": {
  "kernelspec": {
   "display_name": "Python 2",
   "language": "python",
   "name": "python2"
  },
  "language_info": {
   "codemirror_mode": {
    "name": "ipython",
    "version": 2
   },
   "file_extension": ".py",
   "mimetype": "text/x-python",
   "name": "python",
   "nbconvert_exporter": "python",
   "pygments_lexer": "ipython2",
   "version": "2.7.11"
  }
 },
 "nbformat": 4,
 "nbformat_minor": 0
}
