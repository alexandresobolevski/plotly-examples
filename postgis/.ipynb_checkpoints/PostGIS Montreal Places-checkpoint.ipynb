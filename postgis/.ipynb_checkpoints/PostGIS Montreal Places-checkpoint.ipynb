{
 "cells": [
  {
   "cell_type": "markdown",
   "metadata": {},
   "source": [
    "### Get started with postGIS and Plotly\n",
    "Assumptions: <br>\n",
    "- postgreSQL is installed\n",
    "- you are in the directory that contains `montreal_places` folder as an example"
   ]
  },
  {
   "cell_type": "code",
   "execution_count": null,
   "metadata": {
    "collapsed": true
   },
   "outputs": [],
   "source": [
    "# Create a new postgreSQL database called 'postgis'\n",
    "!createdb postgis"
   ]
  },
  {
   "cell_type": "code",
   "execution_count": null,
   "metadata": {
    "collapsed": true
   },
   "outputs": [],
   "source": [
    "# add postgis language to the postgis database\n",
    "!createlang plpgsql postgis\n",
    "# will get the following if it is there already :\n",
    "# $ language \"plpgsql\" is already installed in database \"postgis\""
   ]
  },
  {
   "cell_type": "code",
   "execution_count": null,
   "metadata": {
    "collapsed": true
   },
   "outputs": [],
   "source": [
    "# install the postgis extensions to the postgis database\n",
    "!psql -d postgis -c \"CREATE EXTENSION postgis;\"\n",
    "!psql -d postgis -c \"CREATE EXTENSION postgis_topology;\""
   ]
  },
  {
   "cell_type": "code",
   "execution_count": null,
   "metadata": {
    "collapsed": false
   },
   "outputs": [],
   "source": [
    "!cd montreal_places && ls"
   ]
  },
  {
   "cell_type": "code",
   "execution_count": null,
   "metadata": {
    "collapsed": false
   },
   "outputs": [],
   "source": [
    "# Import shapefile\n",
    "!shp2pgsql -c -D -s 4269 -I montreal_places/places.shp montreal_places | psql -d postgis"
   ]
  },
  {
   "cell_type": "code",
   "execution_count": null,
   "metadata": {
    "collapsed": false
   },
   "outputs": [],
   "source": [
    "# Import population values\n",
    "!cat all_140_in_11.P1.csv | psql -d postgis -c 'COPY dc_census_data FROM STDIN WITH CSV HEADER'"
   ]
  },
  {
   "cell_type": "code",
   "execution_count": null,
   "metadata": {
    "collapsed": true
   },
   "outputs": [],
   "source": [
    "# Find out the extent of the Map by entering "
   ]
  },
  {
   "cell_type": "code",
   "execution_count": null,
   "metadata": {
    "collapsed": false
   },
   "outputs": [],
   "source": [
    "!psql postgis"
   ]
  },
  {
   "cell_type": "code",
   "execution_count": null,
   "metadata": {
    "collapsed": false
   },
   "outputs": [],
   "source": [
    "# Go to terminal \n",
    "# postgis=# SELECT ST_EXTENT(geom) from dc_census_tracts;\n",
    "# BOX(-77.119759 38.791645,-76.909393 38.995548)"
   ]
  },
  {
   "cell_type": "markdown",
   "metadata": {},
   "source": [
    "Start up the Plotly Database Application and connect to the `postgis` database. Make sure `montreal_places` table is there."
   ]
  },
  {
   "cell_type": "code",
   "execution_count": 7,
   "metadata": {
    "collapsed": true
   },
   "outputs": [],
   "source": [
    "import requests"
   ]
  },
  {
   "cell_type": "code",
   "execution_count": 8,
   "metadata": {
    "collapsed": false
   },
   "outputs": [],
   "source": [
    "auth = requests.get('http://localhost:5000/v1/authenticate')"
   ]
  },
  {
   "cell_type": "code",
   "execution_count": 9,
   "metadata": {
    "collapsed": false
   },
   "outputs": [
    {
     "data": {
      "text/plain": [
       "{u'error': None}"
      ]
     },
     "execution_count": 9,
     "metadata": {},
     "output_type": "execute_result"
    }
   ],
   "source": [
    "auth.json()"
   ]
  },
  {
   "cell_type": "code",
   "execution_count": 15,
   "metadata": {
    "collapsed": false
   },
   "outputs": [],
   "source": [
    "connectDatabase = requests.get('http://localhost:5000/v1/selectdatabase?database=postgis')"
   ]
  },
  {
   "cell_type": "code",
   "execution_count": 16,
   "metadata": {
    "collapsed": false
   },
   "outputs": [
    {
     "data": {
      "text/plain": [
       "{u'error': None}"
      ]
     },
     "execution_count": 16,
     "metadata": {},
     "output_type": "execute_result"
    }
   ],
   "source": [
    "connectDatabase.json()"
   ]
  },
  {
   "cell_type": "code",
   "execution_count": 17,
   "metadata": {
    "collapsed": false
   },
   "outputs": [],
   "source": [
    "import pandas as pd\n",
    "import json"
   ]
  },
  {
   "cell_type": "code",
   "execution_count": 18,
   "metadata": {
    "collapsed": false
   },
   "outputs": [
    {
     "data": {
      "text/plain": [
       "{u'error': None,\n",
       " u'tables': [{u'geography_columns': {}},\n",
       "  {u'geometry_columns': {}},\n",
       "  {u'spatial_ref_sys': {}},\n",
       "  {u'raster_columns': {}},\n",
       "  {u'raster_overviews': {}},\n",
       "  {u'us_cities_2014': {}},\n",
       "  {u'postgis': {}},\n",
       "  {u'dc_census_tracts': {}},\n",
       "  {u'dc_census_data': {}},\n",
       "  {u'montreal_places': {}}]}"
      ]
     },
     "execution_count": 18,
     "metadata": {},
     "output_type": "execute_result"
    }
   ],
   "source": [
    "tables = requests.get('http://localhost:5000/v1/tables')\n",
    "tables.json()"
   ]
  },
  {
   "cell_type": "markdown",
   "metadata": {},
   "source": [
    "Looks like they are there!"
   ]
  },
  {
   "cell_type": "code",
   "execution_count": 79,
   "metadata": {
    "collapsed": false
   },
   "outputs": [],
   "source": [
    "data = requests.get('http://localhost:5000/v1/query?statement=SELECT * FROM montreal_places LIMIT 5')"
   ]
  },
  {
   "cell_type": "code",
   "execution_count": 81,
   "metadata": {
    "collapsed": false
   },
   "outputs": [
    {
     "data": {
      "text/plain": [
       "[{u'geom': {u'coordinates': [-73.48916, 45.41746], u'type': u'Point'},\n",
       "  u'gid': 1,\n",
       "  u'name': u'La Prairie',\n",
       "  u'osm_id': 93887876,\n",
       "  u'population': None,\n",
       "  u'type': u'town'},\n",
       " {u'geom': {u'coordinates': [-73.80674, 45.45667], u'type': u'Point'},\n",
       "  u'gid': 2,\n",
       "  u'name': u'Pointe-Claire',\n",
       "  u'osm_id': 96699164,\n",
       "  u'population': None,\n",
       "  u'type': u'town'},\n",
       " {u'geom': {u'coordinates': [-73.75108, 45.4453], u'type': u'Point'},\n",
       "  u'gid': 3,\n",
       "  u'name': u'Dorval',\n",
       "  u'osm_id': 98875745,\n",
       "  u'population': None,\n",
       "  u'type': u'town'},\n",
       " {u'geom': {u'coordinates': [-73.8679, 45.42891], u'type': u'Point'},\n",
       "  u'gid': 4,\n",
       "  u'name': u'Beaconsfield',\n",
       "  u'osm_id': 98879474,\n",
       "  u'population': None,\n",
       "  u'type': u'town'},\n",
       " {u'geom': {u'coordinates': [-73.86475, 45.45291], u'type': u'Point'},\n",
       "  u'gid': 5,\n",
       "  u'name': u'Kirkland',\n",
       "  u'osm_id': 98882241,\n",
       "  u'population': None,\n",
       "  u'type': u'town'}]"
      ]
     },
     "execution_count": 81,
     "metadata": {},
     "output_type": "execute_result"
    }
   ],
   "source": [
    "locations = data.json()['raw']\n",
    "locations"
   ]
  },
  {
   "cell_type": "code",
   "execution_count": 82,
   "metadata": {
    "collapsed": false
   },
   "outputs": [
    {
     "data": {
      "text/plain": [
       "[{u'coordinates': [-73.48916, 45.41746], u'type': u'Point'},\n",
       " {u'coordinates': [-73.80674, 45.45667], u'type': u'Point'},\n",
       " {u'coordinates': [-73.75108, 45.4453], u'type': u'Point'},\n",
       " {u'coordinates': [-73.8679, 45.42891], u'type': u'Point'},\n",
       " {u'coordinates': [-73.86475, 45.45291], u'type': u'Point'}]"
      ]
     },
     "execution_count": 82,
     "metadata": {},
     "output_type": "execute_result"
    }
   ],
   "source": [
    "geometries = [location['geom'] for location in locations]\n",
    "geometries"
   ]
  },
  {
   "cell_type": "code",
   "execution_count": 52,
   "metadata": {
    "collapsed": false
   },
   "outputs": [],
   "source": [
    "multiPolygon = {\n",
    "  \"type\": \"FeatureCollection\",\n",
    "  \"features\": [{\n",
    "    \"type\": \"Feature\",\n",
    "    \"properties\": {},\n",
    "    \"geometry\": {\n",
    "      \"type\": \"MultiPolygon\",\n",
    "      \"coordinates\": [\n",
    "        [\n",
    "          [\n",
    "            [-73, 45],\n",
    "            [-76, 46],\n",
    "            [-75, 47],\n",
    "            [-73, 45]\n",
    "          ]\n",
    "        ],\n",
    "        [\n",
    "          [\n",
    "            [-70, 42],\n",
    "            [-73, 43],\n",
    "            [-72, 44],\n",
    "            [-70, 42]\n",
    "          ]\n",
    "        ]\n",
    "      ]\n",
    "    }\n",
    "  }]\n",
    "}"
   ]
  },
  {
   "cell_type": "code",
   "execution_count": 34,
   "metadata": {
    "collapsed": true
   },
   "outputs": [],
   "source": [
    "import plotly.plotly as py\n",
    "from plotly.graph_objs import *"
   ]
  },
  {
   "cell_type": "code",
   "execution_count": 37,
   "metadata": {
    "collapsed": true
   },
   "outputs": [],
   "source": [
    "mapbox_access_token = 'pk.eyJ1IjoiY2hyaWRkeXAiLCJhIjoiRy1GV1FoNCJ9.yUPu7qwD_Eqf_gKNzDrrCQ'"
   ]
  },
  {
   "cell_type": "code",
   "execution_count": 85,
   "metadata": {
    "collapsed": false
   },
   "outputs": [],
   "source": [
    "data = Data([\n",
    "    Scattermapbox(\n",
    "        lat=[point['coordinates'][0] for point in geometries],\n",
    "        lon=[point['coordinates'][1] for point in geometries],\n",
    "        mode='markers',\n",
    "        marker=Marker(\n",
    "            size=14\n",
    "        ),\n",
    "        text=[location['name'] for location in locations],\n",
    "    )\n",
    "])"
   ]
  },
  {
   "cell_type": "code",
   "execution_count": 86,
   "metadata": {
    "collapsed": false
   },
   "outputs": [],
   "source": [
    "layout = Layout(\n",
    "    autosize=True,\n",
    "    hovermode='closest',\n",
    "    mapbox=dict(\n",
    "        accesstoken=mapbox_access_token,\n",
    "        center=dict(\n",
    "            lat=46,\n",
    "            lon=-74\n",
    "        ),\n",
    "        pitch=0,\n",
    "        zoom=5,\n",
    "        layers=[\n",
    "            {\n",
    "                'sourcetype':'geojson',\n",
    "                'source': multiPolygon,\n",
    "                'type':'fill',\n",
    "                'color':'rgba(30, 30, 30, 0.2)'\n",
    "            }\n",
    "        ]\n",
    "    )\n",
    ")"
   ]
  },
  {
   "cell_type": "code",
   "execution_count": 87,
   "metadata": {
    "collapsed": true
   },
   "outputs": [],
   "source": [
    "fig = dict(data=data, layout=layout)"
   ]
  },
  {
   "cell_type": "code",
   "execution_count": 88,
   "metadata": {
    "collapsed": false,
    "scrolled": false
   },
   "outputs": [
    {
     "data": {
      "text/html": [
       "<iframe id=\"igraph\" scrolling=\"no\" style=\"border:none;\"seamless=\"seamless\" src=\"https://plot.ly/~tutorial.account/38.embed\" height=\"525px\" width=\"100%\"></iframe>"
      ],
      "text/plain": [
       "<plotly.tools.PlotlyDisplay object>"
      ]
     },
     "execution_count": 88,
     "metadata": {},
     "output_type": "execute_result"
    }
   ],
   "source": [
    "py.iplot(fig)"
   ]
  },
  {
   "cell_type": "code",
   "execution_count": null,
   "metadata": {
    "collapsed": true
   },
   "outputs": [],
   "source": []
  }
 ],
 "metadata": {
  "kernelspec": {
   "display_name": "Python 2",
   "language": "python",
   "name": "python2"
  },
  "language_info": {
   "codemirror_mode": {
    "name": "ipython",
    "version": 2
   },
   "file_extension": ".py",
   "mimetype": "text/x-python",
   "name": "python",
   "nbconvert_exporter": "python",
   "pygments_lexer": "ipython2",
   "version": "2.7.11"
  }
 },
 "nbformat": 4,
 "nbformat_minor": 0
}
